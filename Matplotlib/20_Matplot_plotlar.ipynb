{
 "cells": [
  {
   "cell_type": "code",
   "execution_count": 2,
   "id": "e7b50d94-3b8d-4b75-bee0-f78210edaffc",
   "metadata": {},
   "outputs": [],
   "source": [
    "import matplotlib.pyplot as plt\n",
    "import numpy as np"
   ]
  },
  {
   "cell_type": "markdown",
   "id": "32542d9f-30f9-4cea-9eae-75c60d96d1f5",
   "metadata": {},
   "source": [
    "## veri oluşturma"
   ]
  },
  {
   "cell_type": "code",
   "execution_count": 3,
   "id": "40a0f27d-a1b4-4f90-84e0-7fb16e1db908",
   "metadata": {},
   "outputs": [],
   "source": [
    "ageList = np.arange(1,21)\n",
    "weightList = np.linspace(10,25,20)\n",
    "\n",
    "ageList[10] = 13\n",
    "\n",
    "np_age = np.array(ageList)\n",
    "np_weight = np.array(weightList)"
   ]
  },
  {
   "cell_type": "code",
   "execution_count": null,
   "id": "c278af20-d223-48a3-893e-9048988c8247",
   "metadata": {},
   "outputs": [],
   "source": [
    "print(np_age)"
   ]
  },
  {
   "cell_type": "markdown",
   "id": "86282e42-b2fb-49c9-8df1-13fe155e7ff4",
   "metadata": {},
   "source": [
    "## grafik aşaması"
   ]
  },
  {
   "cell_type": "code",
   "execution_count": null,
   "id": "b5a22142-3f76-4fc6-b69a-6e1856b5b885",
   "metadata": {},
   "outputs": [],
   "source": [
    "plt.plot(np_age,np_weight)\n",
    "plt.title(\"Örnek çalışma\")\n",
    "plt.xlabel(\"Kilolar\")\n",
    "plt.ylabel(\"Yaşlar\")"
   ]
  },
  {
   "cell_type": "markdown",
   "id": "810efc3c-ba2e-481f-8bd3-9fad4f68088f",
   "metadata": {},
   "source": [
    "## görselleştirme"
   ]
  },
  {
   "cell_type": "code",
   "execution_count": null,
   "id": "d0cbfdba-c30a-4f3a-9d89-e4f653819432",
   "metadata": {},
   "outputs": [],
   "source": [
    "plt.plot(np_age,np_weight, color=\"red\", markersize= 7)\n",
    "plt.title(\"Örnek çalışma - 1\")"
   ]
  },
  {
   "cell_type": "code",
   "execution_count": null,
   "id": "d2b59cf9-0079-46ff-9222-473c3955271e",
   "metadata": {},
   "outputs": [],
   "source": [
    "plt.plot(np_age,np_weight, color=\"green\", marker = \"*\", markersize= 10, markerfacecolor= \"black\")\n",
    "plt.title(\"Örnek çalışma - 2\")"
   ]
  },
  {
   "cell_type": "code",
   "execution_count": null,
   "id": "2dc6fe85-5b2a-4c5c-a7f2-5da9595625fa",
   "metadata": {},
   "outputs": [],
   "source": [
    "plt.plot(np_age,np_weight, color=\"green\", linewidth = 3, linestyle = \"--\")\n",
    "plt.title(\"Örnek çalışma - 3\")"
   ]
  },
  {
   "cell_type": "code",
   "execution_count": null,
   "id": "9cd98cac-06d1-416c-9388-fe96485eaba8",
   "metadata": {},
   "outputs": [],
   "source": [
    "plt.plot(np_age,np_weight, color=\"cyan\")\n",
    "plt.title(\"Örnek çalışma - 4\")\n",
    "plt.grid()\n",
    "plt.tight_layout()"
   ]
  },
  {
   "cell_type": "code",
   "execution_count": null,
   "id": "2869edec-63e9-4045-8a54-8e7ff0b61f87",
   "metadata": {},
   "outputs": [],
   "source": []
  }
 ],
 "metadata": {
  "kernelspec": {
   "display_name": "base",
   "language": "python",
   "name": "python3"
  },
  "language_info": {
   "codemirror_mode": {
    "name": "ipython",
    "version": 3
   },
   "file_extension": ".py",
   "mimetype": "text/x-python",
   "name": "python",
   "nbconvert_exporter": "python",
   "pygments_lexer": "ipython3",
   "version": "3.12.7"
  }
 },
 "nbformat": 4,
 "nbformat_minor": 5
}
