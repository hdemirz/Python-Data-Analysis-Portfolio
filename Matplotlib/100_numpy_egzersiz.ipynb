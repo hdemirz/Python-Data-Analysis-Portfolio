{
 "cells": [
  {
   "cell_type": "markdown",
   "id": "590ef529-455d-4942-945d-22c40e06fe04",
   "metadata": {},
   "source": [
    "# 100 numpy alıştırması\n",
    "\n",
    "Bu egzersizler Numpy kütüphanesini daha derin ve detaylıca öğrenmek isteyenler için hazırlanmıştır\n",
    "\n",
    "Numpy hakkında belli bilgileriniz varsa ve dokümantasyonu okuduysanız devam edebilirsiniz :)"
   ]
  },
  {
   "cell_type": "markdown",
   "id": "a184f505-72a9-443e-b9fa-c79f3ce0669f",
   "metadata": {},
   "source": [
    "#### 1) Numpy kütüphanesini  `np` olarak çağırın?"
   ]
  },
  {
   "cell_type": "code",
   "execution_count": null,
   "id": "b82945ae-dc40-4a62-a082-490b95a92341",
   "metadata": {},
   "outputs": [],
   "source": []
  },
  {
   "cell_type": "markdown",
   "id": "b355c57e-63ef-42fd-a8c0-751d43f55a7d",
   "metadata": {},
   "source": [
    "#### 2) Numpy sürümünü ve yapılandırmasını yazdırın"
   ]
  },
  {
   "cell_type": "code",
   "execution_count": null,
   "id": "dea18388-3f8f-495e-824e-3860e6dee374",
   "metadata": {},
   "outputs": [],
   "source": []
  },
  {
   "cell_type": "markdown",
   "id": "d9146767-096c-4bda-b60c-11292adba177",
   "metadata": {},
   "source": [
    "#### 3) Boyutu 10 olan bir boş (null) vektör oluşturun?"
   ]
  },
  {
   "cell_type": "code",
   "execution_count": null,
   "id": "ab9e8b89-9dde-4129-97f6-6ea95e38252f",
   "metadata": {},
   "outputs": [],
   "source": []
  },
  {
   "cell_type": "markdown",
   "id": "09fa8c3e-76f2-4236-92e3-5d217b706a85",
   "metadata": {},
   "source": [
    "#### 4) Herhangi bir dizinin bellek boyutunu nasıl bulursunuz?"
   ]
  },
  {
   "cell_type": "code",
   "execution_count": null,
   "id": "103c55bb-fa1a-48a4-b9a5-1f39859176df",
   "metadata": {},
   "outputs": [],
   "source": []
  },
  {
   "cell_type": "markdown",
   "id": "cb942af8-056b-43b0-9b40-92f495dfe735",
   "metadata": {},
   "source": [
    "#### 5) Komut satırından numpy.add işlevinin dokümantasyonunu nasıl alırsınız?"
   ]
  },
  {
   "cell_type": "code",
   "execution_count": null,
   "id": "973c7e83-0ac4-49f2-8781-fd8c520c5b88",
   "metadata": {},
   "outputs": [],
   "source": []
  },
  {
   "cell_type": "markdown",
   "id": "fdab89a3-86dc-46fa-9bf6-a6462fa21d6b",
   "metadata": {},
   "source": [
    "#### 6) Boyutu 10 olan bir boş vektör oluşturun ancak beşinci değeri 1 olsun? "
   ]
  },
  {
   "cell_type": "code",
   "execution_count": null,
   "id": "55d39f48-5fb4-44b5-bcbf-71784a3ed8d4",
   "metadata": {},
   "outputs": [],
   "source": []
  },
  {
   "cell_type": "markdown",
   "id": "e0450b32-a3f3-415a-898f-46c4d10e201a",
   "metadata": {},
   "source": [
    "#### 7) 10'dan 49'a kadar olan değerlerle bir vektör oluşturun?"
   ]
  },
  {
   "cell_type": "markdown",
   "id": "5c307012-66fe-42df-98fa-9486b79aa477",
   "metadata": {},
   "source": []
  },
  {
   "cell_type": "markdown",
   "id": "fc168304-d9ec-448a-9eb8-879a08c175ab",
   "metadata": {},
   "source": [
    "#### 8) Bir vektörü ters çevirin (ilk elemanı son eleman yapın)"
   ]
  },
  {
   "cell_type": "code",
   "execution_count": null,
   "id": "887d6806-76eb-414e-837c-cd44515f5a97",
   "metadata": {},
   "outputs": [],
   "source": []
  },
  {
   "cell_type": "markdown",
   "id": "a620a3cb-f42e-4c31-84af-ba3e28db1b96",
   "metadata": {},
   "source": [
    "#### 9) 0'dan 8'e kadar aralığı olan 3x3 Boyutunda bir matris oluşturun"
   ]
  },
  {
   "cell_type": "code",
   "execution_count": null,
   "id": "5fa76558-5399-4423-81c2-713cf2ac6f4e",
   "metadata": {},
   "outputs": [],
   "source": []
  },
  {
   "cell_type": "markdown",
   "id": "2b2583c6-56fb-4da0-8c13-b9c0b8cb3f2c",
   "metadata": {},
   "source": [
    "#### 10) [1,2,0,0,4,0] dizisindeki sıfır olmayan elemanların dizinlerini bulun?"
   ]
  },
  {
   "cell_type": "code",
   "execution_count": null,
   "id": "746356ad-7fa4-41ae-a141-a49bbb2b597e",
   "metadata": {},
   "outputs": [],
   "source": []
  },
  {
   "cell_type": "markdown",
   "id": "d7f09964-77bd-459a-9ab7-b8ee14b1143a",
   "metadata": {},
   "source": [
    "#### 11) Bir 3x3 birim (idendity) matris oluşturun?"
   ]
  },
  {
   "cell_type": "code",
   "execution_count": null,
   "id": "28ec89c6-a1ef-4c8c-8632-f16d433b5d74",
   "metadata": {},
   "outputs": [],
   "source": []
  },
  {
   "cell_type": "markdown",
   "id": "404ef1d3-3713-4a9b-afe6-03e5a87e6623",
   "metadata": {},
   "source": [
    "#### 12) Rastgele değerlerle bir 3x3x3 dizi oluşturun"
   ]
  },
  {
   "cell_type": "code",
   "execution_count": null,
   "id": "879f39bf-6335-4404-bc23-0d1aacdf030e",
   "metadata": {},
   "outputs": [],
   "source": []
  },
  {
   "cell_type": "markdown",
   "id": "6d17d20a-1c83-4415-9694-85442f6382a4",
   "metadata": {},
   "source": [
    "#### 13) Rastgele değerlerle bir 10x10 dizi oluşturun ve minimum ve maksimum değerleri bulun"
   ]
  },
  {
   "cell_type": "code",
   "execution_count": null,
   "id": "943086bc-15c5-4c6b-81d1-b32f05de96db",
   "metadata": {},
   "outputs": [],
   "source": []
  },
  {
   "cell_type": "markdown",
   "id": "6599964e-fe24-4be4-a40e-ff2bf129d8a0",
   "metadata": {},
   "source": [
    "#### 14) Boyutu 30 olan rastgele bir vektör oluşturun ve ortalama değeri bulun"
   ]
  },
  {
   "cell_type": "code",
   "execution_count": null,
   "id": "c7af7078-7cc9-4ee1-8483-29f2e35076fd",
   "metadata": {},
   "outputs": [],
   "source": []
  },
  {
   "cell_type": "markdown",
   "id": "14b85b72-d6ef-43bc-bc64-02770e16f78b",
   "metadata": {},
   "source": [
    "#### 15) Kenarlarda 1, içeride 0 olan bir 2d dizi oluşturun"
   ]
  },
  {
   "cell_type": "code",
   "execution_count": null,
   "id": "b87148b7-0d43-4b2c-9a09-c69f50c5954a",
   "metadata": {},
   "outputs": [],
   "source": []
  },
  {
   "cell_type": "markdown",
   "id": "d08de470-c187-484c-a41b-60a9d5da0dff",
   "metadata": {},
   "source": [
    "#### 16) Mevcut bir dizinin etrafına (0'larla dolu) bir sınır nasıl eklenir?"
   ]
  },
  {
   "cell_type": "code",
   "execution_count": null,
   "id": "c925fbdd-37a6-4482-b9a5-cd954495fbcc",
   "metadata": {},
   "outputs": [],
   "source": []
  },
  {
   "cell_type": "markdown",
   "id": "a378e1c9-8c6e-48fc-b810-3b7b0a150143",
   "metadata": {},
   "source": [
    "#### 17) Aşağıdaki ifadelerin sonucu nedir?\n",
    "\n",
    " ```python\r\n",
    "    0 * np.nan\r\n",
    "    np.nan == np.nan\r\n",
    "    np.inf > np.nan\r\n",
    "    np.nan - np.nan\r\n",
    "    np.nan in set([np.nan])\r\n",
    "    0.3 == 3 * 0.1 0.1\\n* 0.1"
   ]
  },
  {
   "cell_type": "code",
   "execution_count": null,
   "id": "2ef53b7a-ff99-48f0-8050-9c5f6e5f30fe",
   "metadata": {},
   "outputs": [],
   "source": []
  },
  {
   "cell_type": "markdown",
   "id": "ddfbdcc1-105b-4d56-b21c-0752397c327a",
   "metadata": {},
   "source": [
    "#### 18) Diyagonalın hemen altındaki 1,2,3,4 değerleriyle bir 5x5 matris oluşturun?"
   ]
  },
  {
   "cell_type": "code",
   "execution_count": null,
   "id": "8dc12cc9-9963-4f98-bc60-cbaf1b17d0dc",
   "metadata": {},
   "outputs": [],
   "source": []
  },
  {
   "cell_type": "markdown",
   "id": "7687a0c4-e5d0-4354-ae9b-ec320020d4f8",
   "metadata": {},
   "source": [
    "#### 19) 8x8 bir matris oluşturun ve dama tahtası deseni elde edin"
   ]
  },
  {
   "cell_type": "code",
   "execution_count": null,
   "id": "610205f6-ce8e-4a81-909d-8698f099783c",
   "metadata": {},
   "outputs": [],
   "source": []
  },
  {
   "cell_type": "markdown",
   "id": "78a69698-a508-4adb-956a-695570dbc006",
   "metadata": {},
   "source": [
    "#### 20) (6,7,8) şekilli bir dizi oluşturun, 100. elemanın indeksi (x,y,z) nedir?"
   ]
  },
  {
   "cell_type": "code",
   "execution_count": null,
   "id": "2b0aee32-fd52-4ea6-8520-63a4c5d29568",
   "metadata": {},
   "outputs": [],
   "source": []
  },
  {
   "cell_type": "markdown",
   "id": "5fc9a2b2-3a1e-490c-9652-4d1e8a999c91",
   "metadata": {},
   "source": [
    "#### 21) Tile fonksiyonunu kullanarak 8x8 dama tahtası matrisi oluşturun?"
   ]
  },
  {
   "cell_type": "code",
   "execution_count": null,
   "id": "d65e1919-eb94-4b75-a3a8-bb98dc715627",
   "metadata": {},
   "outputs": [],
   "source": []
  },
  {
   "cell_type": "markdown",
   "id": "e9b5649f-bf06-4246-bdfe-579ce09fe48b",
   "metadata": {},
   "source": [
    "#### 22) 5x5 rastgele bir matrisi normalleştirin"
   ]
  },
  {
   "cell_type": "code",
   "execution_count": null,
   "id": "1491fb4a-006d-4816-84b1-f8013ead3028",
   "metadata": {},
   "outputs": [],
   "source": []
  },
  {
   "cell_type": "markdown",
   "id": "dca59116-067e-4236-ac32-27a837873389",
   "metadata": {},
   "source": [
    "#### 23. Renkleri dört işaretsiz bayt (RGBA) olarak tanımlayan özel bir dtype oluşturun"
   ]
  },
  {
   "cell_type": "code",
   "execution_count": null,
   "id": "f00bb8d6-55ff-418e-85fc-03ca492af745",
   "metadata": {},
   "outputs": [],
   "source": []
  },
  {
   "cell_type": "markdown",
   "id": "d7f89854-f69b-4907-bb4f-950ecb30f87c",
   "metadata": {},
   "source": [
    "#### 24) 5x3 bir matrisi 3x2 bir matris ile çarpın (gerçek matris çarpımıyla)"
   ]
  },
  {
   "cell_type": "code",
   "execution_count": null,
   "id": "5c917b93-c095-4f4f-b1fe-e3169c63c3bf",
   "metadata": {},
   "outputs": [],
   "source": []
  },
  {
   "cell_type": "markdown",
   "id": "d65f729d-fca9-49e0-84e5-333449749b85",
   "metadata": {},
   "source": [
    "#### 25) 1D bir dizi verildiğinde, 3 ile 8 arasındaki tüm elemanları in situ olarak olumsuzlayın."
   ]
  },
  {
   "cell_type": "code",
   "execution_count": null,
   "id": "61878aaf-7b2e-4ed7-a427-563d1fd46e6a",
   "metadata": {},
   "outputs": [],
   "source": []
  },
  {
   "cell_type": "markdown",
   "id": "616bf920-25c9-4fe9-b44c-bb0a3c507d0c",
   "metadata": {},
   "source": [
    "#### 26) Aşağıdaki betiğin çıktısı nedir?\n",
    "\n",
    " ```python\n",
    "print(sum(range(5),-1))\n",
    "    \n",
    "from numpy import \n",
    "    \r\n",
    "print(sum(range(5),-1))\n"
   ]
  },
  {
   "cell_type": "code",
   "execution_count": null,
   "id": "c663d72c-b197-4453-bb24-4ac05ed45abe",
   "metadata": {},
   "outputs": [],
   "source": []
  },
  {
   "cell_type": "markdown",
   "id": "82758fda-c070-4ac7-9c62-df71b2a71e95",
   "metadata": {},
   "source": [
    "#### 27) Bir tamsayı vektörü olan Z'yi düşünün, bu ifadelerden hangileri yasaldır?\n",
    "\n",
    "```python\n",
    "Z**Z\n",
    "2 << Z >> 2\n",
    "Z <- Z\n",
    "1j*Z\n",
    "Z/1/1\n",
    "Z<Z>Z\n",
    "```"
   ]
  },
  {
   "cell_type": "code",
   "execution_count": null,
   "id": "cf837d8c-71cd-434c-bcc4-09cf6aec6a00",
   "metadata": {},
   "outputs": [],
   "source": []
  },
  {
   "cell_type": "markdown",
   "id": "17a7ec9b-6c41-49b5-afa9-d2b000062ffc",
   "metadata": {},
   "source": [
    "#### 28) Aşağıdaki ifadelerin sonucu nedir?\n",
    "```python\n",
    "np.seterr(all='ignore')\r\n",
    "\r\n",
    "print(np.array(0) / np.array(0))  # nan\r\n",
    "print(np.array(0) // np.array(0))  # 0\r\n",
    "print(np.array([np.nan]).astype(int).astype(float))\n",
    "```"
   ]
  },
  {
   "cell_type": "code",
   "execution_count": null,
   "id": "98ffe820-8d28-4285-8981-15f460669dae",
   "metadata": {},
   "outputs": [],
   "source": []
  },
  {
   "cell_type": "markdown",
   "id": "82d23ce3-05ce-4341-83bd-62998a96c344",
   "metadata": {},
   "source": [
    "#### 29) Bir float dizisini sıfırdan uzağa nasıl yuvarlarsınız?"
   ]
  },
  {
   "cell_type": "code",
   "execution_count": null,
   "id": "3593f637-d60a-4ad4-9a4b-96e48d4f69f0",
   "metadata": {},
   "outputs": [],
   "source": []
  },
  {
   "cell_type": "markdown",
   "id": "10aed985-6134-43f8-8ccb-9930fa2893cd",
   "metadata": {},
   "source": [
    "#### 30) İki dizi arasındaki ortak değerleri nasıl bulursunuz?"
   ]
  },
  {
   "cell_type": "code",
   "execution_count": null,
   "id": "2b710063-338b-46d1-9ee4-2220112f069e",
   "metadata": {},
   "outputs": [],
   "source": []
  },
  {
   "cell_type": "markdown",
   "id": "b70d4f3c-e1ba-48cc-b311-ac56e763cea9",
   "metadata": {},
   "source": [
    "#### 31) Tüm numpy uyarılarını nasıl yok sayarsınız (önerilmez)?"
   ]
  },
  {
   "cell_type": "code",
   "execution_count": null,
   "id": "9d197982-e2fd-4388-89a4-b4c68974153d",
   "metadata": {},
   "outputs": [],
   "source": []
  },
  {
   "cell_type": "markdown",
   "id": "68acf0e9-2a17-4791-b306-649da71da5d1",
   "metadata": {},
   "source": [
    "#### 32) Aşağıdaki ifadeler doğru mudur?\n",
    "```python\n",
    "np.sqrt(-1) == np.emath.sqrt(-1)\n",
    "```\n"
   ]
  },
  {
   "cell_type": "code",
   "execution_count": null,
   "id": "d13c1e9f-eb24-45ef-8854-f5e173303105",
   "metadata": {},
   "outputs": [],
   "source": []
  },
  {
   "cell_type": "markdown",
   "id": "c6a9b30d-7b96-46e6-a5c8-2a68db999ff8",
   "metadata": {},
   "source": [
    "#### 33) Dün, bugün ve yarının tarihlerini nasıl alırsınız?"
   ]
  },
  {
   "cell_type": "code",
   "execution_count": null,
   "id": "80eec6bd-aa23-4536-9809-a7da7b52d3ac",
   "metadata": {},
   "outputs": [],
   "source": []
  },
  {
   "cell_type": "markdown",
   "id": "7a28e5c4-3c8c-4d98-a3a2-daf931c77b9e",
   "metadata": {},
   "source": [
    "#### 34) Temmuz 2016'ya karşılık gelen tüm tarihleri nasıl alırsınız?"
   ]
  },
  {
   "cell_type": "code",
   "execution_count": null,
   "id": "6723bc0e-9042-44c0-b5e7-e6625e3ffab9",
   "metadata": {},
   "outputs": [],
   "source": []
  },
  {
   "cell_type": "markdown",
   "id": "62ba9b59-8980-46e3-b0ba-4e7b17441ba3",
   "metadata": {},
   "source": [
    "#### 35) ((A+B)*(-A/2))'yi nasıl kopyalamadan hesaplarsınız?"
   ]
  },
  {
   "cell_type": "code",
   "execution_count": null,
   "id": "c3a7f907-4aea-475e-8b31-e39e602d6334",
   "metadata": {},
   "outputs": [],
   "source": []
  },
  {
   "cell_type": "markdown",
   "id": "04793c62-7661-4392-827a-35e136f647b4",
   "metadata": {},
   "source": [
    "#### 36) Pozitif sayılardan oluşan rastgele bir dizinin tam sayı kısmını 4 farklı yöntemle nasıl çıkarırsınız?"
   ]
  },
  {
   "cell_type": "code",
   "execution_count": null,
   "id": "a0773d89-2aa9-490b-bce0-ee2d7cff34d4",
   "metadata": {},
   "outputs": [],
   "source": []
  },
  {
   "cell_type": "markdown",
   "id": "c494eeaa-9298-47e0-8c3c-4f44c94565a0",
   "metadata": {},
   "source": [
    "#### 37) Satır değerleri 0'dan 4'e kadar olan bir 5x5 matris nasıl oluşturursunuz?"
   ]
  },
  {
   "cell_type": "code",
   "execution_count": null,
   "id": "69ec3cdf-e2a2-487b-8a37-aaf41e92a059",
   "metadata": {},
   "outputs": [],
   "source": []
  },
  {
   "cell_type": "markdown",
   "id": "58ee27ce-b7f9-4871-980d-5aa5e01e6ca2",
   "metadata": {},
   "source": [
    "#### 38) 10 tamsayı üreten bir fonksiyon yapın ve bunu kullanarak bir dizi oluşturun?"
   ]
  },
  {
   "cell_type": "code",
   "execution_count": null,
   "id": "9add54e9-8484-416c-a455-ea98a3613e94",
   "metadata": {},
   "outputs": [],
   "source": []
  },
  {
   "cell_type": "markdown",
   "id": "e39711a8-0a18-4889-b194-0dc4f407d309",
   "metadata": {},
   "source": [
    "#### 39) Boyutu 10 olan ve 0 ile 1 arasında değerler içeren bir vektör oluşturun"
   ]
  },
  {
   "cell_type": "code",
   "execution_count": null,
   "id": "e7b3ad09-dd46-4100-ba81-a79b3bdd7421",
   "metadata": {},
   "outputs": [],
   "source": []
  },
  {
   "cell_type": "markdown",
   "id": "ac1476c7-3ccc-46b5-b187-f2c01a483a70",
   "metadata": {},
   "source": [
    "#### 40) Boyutu 10 olan rastgele bir sıralı vektör oluşturun"
   ]
  },
  {
   "cell_type": "code",
   "execution_count": null,
   "id": "c5e3f344-a6cd-4517-9d35-bc858e00a3cb",
   "metadata": {},
   "outputs": [],
   "source": []
  },
  {
   "cell_type": "markdown",
   "id": "239bef5c-4a65-47ba-a2cc-ce0884fe7fc5",
   "metadata": {},
   "source": [
    "#### 41) Küçük bir diziyi np.sum'dan daha hızlı nasıl toplarsınız? "
   ]
  },
  {
   "cell_type": "code",
   "execution_count": null,
   "id": "37946bae-3db3-4beb-b1a5-e81cc9e18512",
   "metadata": {},
   "outputs": [],
   "source": []
  },
  {
   "cell_type": "markdown",
   "id": "289c7bc4-85a5-4fe9-b6ca-629a1d12044f",
   "metadata": {},
   "source": [
    "#### 42) Rastgele iki dizi olan A ve B'yi düşünün, eşit olup olmadıklarını kontrol edin"
   ]
  },
  {
   "cell_type": "code",
   "execution_count": null,
   "id": "a6b83194-5e7e-42bc-9b34-371c243ddebb",
   "metadata": {},
   "outputs": [],
   "source": []
  },
  {
   "cell_type": "markdown",
   "id": "e8b0f083-a8f0-4326-b730-e60db5a80acb",
   "metadata": {},
   "source": [
    "#### 43) Herhangi bir diziyi değiştirilemez (salt okunur) yapın"
   ]
  },
  {
   "cell_type": "code",
   "execution_count": null,
   "id": "d3aa5e20-ebbf-4aeb-84b7-d783b17ccbd2",
   "metadata": {},
   "outputs": [],
   "source": []
  },
  {
   "cell_type": "markdown",
   "id": "f88915eb-e645-4113-b931-7e4d9594e4c9",
   "metadata": {},
   "source": [
    "#### 44) Kartezyen koordinatları temsil eden rastgele bir 10x2 matrisini, kutupsal koordinatlara dönüştürün"
   ]
  },
  {
   "cell_type": "code",
   "execution_count": null,
   "id": "ba60a270-2c0f-4b4d-95cf-a7dca2b48c16",
   "metadata": {},
   "outputs": [],
   "source": []
  },
  {
   "cell_type": "markdown",
   "id": "07c7e98b-6c76-44a4-b1b6-bbea0cb6da9f",
   "metadata": {},
   "source": [
    "#### 45) Boyutu 10 olan rastgele bir vektör oluşturun ve maksimum değerini 0 yapın"
   ]
  },
  {
   "cell_type": "code",
   "execution_count": null,
   "id": "b1b7e96c-83c5-4107-9986-50cc42f319c6",
   "metadata": {},
   "outputs": [],
   "source": []
  },
  {
   "cell_type": "markdown",
   "id": "44cb380c-ed93-4485-a161-4eeab77b2caf",
   "metadata": {},
   "source": [
    "#### 46) [0,1]x[0,1] alanını kaplayan x ve y koordinatlarına sahip bir yapılandırılmış dizi oluşturun"
   ]
  },
  {
   "cell_type": "code",
   "execution_count": null,
   "id": "6f119cf6-af21-41a5-beee-1e15fd9a9426",
   "metadata": {},
   "outputs": [],
   "source": []
  },
  {
   "cell_type": "markdown",
   "id": "e4466285-91a9-4df7-b422-8a419a09a9d6",
   "metadata": {},
   "source": [
    "#### 47) İki dizi verildiğinde, X ve Y, Cauchy matrisini oluşturun \n",
    "\n",
    "(Cij =1/(xi - yj))"
   ]
  },
  {
   "cell_type": "code",
   "execution_count": null,
   "id": "7cd3e922-c56c-4251-9cc7-a4dbc479d60a",
   "metadata": {},
   "outputs": [],
   "source": []
  },
  {
   "cell_type": "markdown",
   "id": "90d6ce28-efc7-4313-a103-cb90bc629655",
   "metadata": {},
   "source": [
    "#### 48) Her numpy skaler türü için temsil edilebilir minimum ve maksimum değeri yazdırın"
   ]
  },
  {
   "cell_type": "code",
   "execution_count": null,
   "id": "336d2aa3-3edd-46f7-b482-e1371f80cddb",
   "metadata": {},
   "outputs": [],
   "source": []
  },
  {
   "cell_type": "markdown",
   "id": "c6afa5fc-f67f-453c-9f8f-a1bbf0dc04d4",
   "metadata": {},
   "source": [
    "#### 49) Bir dizinin tüm değerlerini nasıl yazdırırsınız?"
   ]
  },
  {
   "cell_type": "code",
   "execution_count": null,
   "id": "e7d8bf1a-01a9-4d15-844c-404da90b9de3",
   "metadata": {},
   "outputs": [],
   "source": []
  },
  {
   "cell_type": "markdown",
   "id": "372f7e25-0597-4112-b8ad-b9c7f4a0f499",
   "metadata": {},
   "source": [
    "#### 50) Bir vektörde (belirli bir skaler) en yakın değeri nasıl bulursunuz?"
   ]
  },
  {
   "cell_type": "code",
   "execution_count": null,
   "id": "fb157522-137f-4666-94af-3f82c843e174",
   "metadata": {},
   "outputs": [],
   "source": []
  },
  {
   "cell_type": "markdown",
   "id": "a12b20b1-d510-4f18-b0e2-31149427c4eb",
   "metadata": {},
   "source": [
    "#### 51) Bir pozisyonu (x,y) ve bir rengi (r,g,b) temsil eden yapılandırılmış bir dizi oluşturun"
   ]
  },
  {
   "cell_type": "code",
   "execution_count": null,
   "id": "9cb006e0-ed45-4a6b-8518-ae562882c9bf",
   "metadata": {},
   "outputs": [],
   "source": []
  },
  {
   "cell_type": "markdown",
   "id": "b334dda8-9196-4688-b490-2104783b3640",
   "metadata": {},
   "source": [
    "#### 52) Koordinatları temsil eden (100,2) şekline sahip rastgele bir vektör düşünün, nokta noktaya mesafeleri bulun"
   ]
  },
  {
   "cell_type": "code",
   "execution_count": null,
   "id": "c345312b-6c44-4561-b337-7488c30dd7e7",
   "metadata": {},
   "outputs": [],
   "source": []
  },
  {
   "cell_type": "markdown",
   "id": "f8d14838-7d34-4caf-a008-5b30c435a9a9",
   "metadata": {},
   "source": [
    "#### 53) 32 bitlik bir float dizisini yerinde 32 bitlik bir tamsayıya nasıl dönüştürürsünüz?"
   ]
  },
  {
   "cell_type": "code",
   "execution_count": null,
   "id": "a9d77fe7-62ec-4a5f-9ca0-191e4e87010f",
   "metadata": {},
   "outputs": [],
   "source": []
  },
  {
   "cell_type": "markdown",
   "id": "b42d6406-ee22-4b12-a6c9-4803ebe6b595",
   "metadata": {},
   "source": [
    "#### 54) Aşağıdaki dosyayı nasıl okursunuz?\n",
    "\n",
    "```\n",
    "1, 2, 3, 4, 5\n",
    "6,  ,  , 7, 8\n",
    " ,  , 9,10,11\n",
    "```"
   ]
  },
  {
   "cell_type": "code",
   "execution_count": null,
   "id": "01754545-ed1c-4f50-88bf-11176fefc09b",
   "metadata": {},
   "outputs": [],
   "source": []
  },
  {
   "cell_type": "markdown",
   "id": "11bfc8ef-c480-4edb-bfcf-e60a4e325014",
   "metadata": {},
   "source": [
    "#### 55) Numpy dizileri için enumerate'in karşılığı nedir?"
   ]
  },
  {
   "cell_type": "code",
   "execution_count": null,
   "id": "ef561b4a-4dc7-4907-8eb9-1ff055ab7b98",
   "metadata": {},
   "outputs": [],
   "source": []
  },
  {
   "cell_type": "markdown",
   "id": "de936cfc-e919-462c-ac0d-49fa607142f7",
   "metadata": {},
   "source": [
    "#### 56) Genel bir 2D Gauss benzeri dizi oluşturun"
   ]
  },
  {
   "cell_type": "code",
   "execution_count": null,
   "id": "316c67ee-99a6-488d-a665-eefb4bb2f127",
   "metadata": {},
   "outputs": [],
   "source": []
  },
  {
   "cell_type": "markdown",
   "id": "bd390a0b-b206-4333-add5-123b0ee7b861",
   "metadata": {},
   "source": [
    "#### 57) Bir 2D diziye rastgele b elemanını nasıl yerleştirirsiniz?"
   ]
  },
  {
   "cell_type": "code",
   "execution_count": null,
   "id": "8bf200a3-53fd-40c3-8ebd-3fd1acd72243",
   "metadata": {},
   "outputs": [],
   "source": []
  },
  {
   "cell_type": "markdown",
   "id": "fbc28999-30e6-4337-96f4-2fe0a71338f7",
   "metadata": {},
   "source": [
    "#### 58) Bir matrisin her bir satırının ortalamasını nasıl çıkarırsınız?"
   ]
  },
  {
   "cell_type": "code",
   "execution_count": null,
   "id": "1ec80172-12ed-4f62-9f85-740aca9770c4",
   "metadata": {},
   "outputs": [],
   "source": []
  },
  {
   "cell_type": "markdown",
   "id": "f792d8ec-0ae5-4c54-acb4-af1f232b5072",
   "metadata": {},
   "source": [
    "#### 59) Bir diziyi n'inci sütuna göre nasıl sıralarsınız?"
   ]
  },
  {
   "cell_type": "code",
   "execution_count": null,
   "id": "f0e37628-b3c9-4182-abb9-465119b64be4",
   "metadata": {},
   "outputs": [],
   "source": []
  },
  {
   "cell_type": "markdown",
   "id": "5ba6e6ee-12e2-4826-8550-b1f20fbd8bab",
   "metadata": {},
   "source": [
    "#### 60) Belirli bir 2D dizide boş sütunlar olup olmadığını nasıl anlarsınız?"
   ]
  },
  {
   "cell_type": "code",
   "execution_count": null,
   "id": "486855a8-ee3b-4957-8211-cd3509a58002",
   "metadata": {},
   "outputs": [],
   "source": []
  },
  {
   "cell_type": "markdown",
   "id": "2fa238bc-5128-4671-be27-6ddcf39be641",
   "metadata": {},
   "source": [
    "#### 61) Bir dizideki belirli bir değere en yakın olan değeri nasıl bulursunuz?"
   ]
  },
  {
   "cell_type": "code",
   "execution_count": null,
   "id": "a2667ebb-bcb8-4dbd-b7b6-77128156c261",
   "metadata": {},
   "outputs": [],
   "source": []
  },
  {
   "cell_type": "markdown",
   "id": "c90d5fd0-b1c2-4b98-8d49-7e19bbe90908",
   "metadata": {},
   "source": [
    "#### 62) (1,3) ve (3,1) şekline sahip iki dizi düşünün, toplamlarını bir iteratör kullanarak nasıl hesaplarsınız?"
   ]
  },
  {
   "cell_type": "code",
   "execution_count": null,
   "id": "35e2aaf8-0bf8-4f9b-9c39-13aad1b3b0fe",
   "metadata": {},
   "outputs": [],
   "source": []
  },
  {
   "cell_type": "markdown",
   "id": "dc67bc54-4489-4d5c-be23-656fe63cd0f8",
   "metadata": {},
   "source": [
    "#### 63) Bir ad özniteliğine sahip dizi sınıfı oluşturun"
   ]
  },
  {
   "cell_type": "code",
   "execution_count": null,
   "id": "a1de73c2-95ce-45e2-b532-9e0f10f0ef0f",
   "metadata": {},
   "outputs": [],
   "source": []
  },
  {
   "cell_type": "markdown",
   "id": "b9bd6a8a-fed5-454e-8c3c-4140682cc2e6",
   "metadata": {},
   "source": [
    "#### 64) Belirli bir vektörü düşünün, tekrarlanan dizinlere dikkat ederek ikinci bir vektör tarafından dizinlenen her elemana 1 ekleyin\n"
   ]
  },
  {
   "cell_type": "code",
   "execution_count": null,
   "id": "b350635e-c14d-4300-8bb8-2f9ca61a13f2",
   "metadata": {},
   "outputs": [],
   "source": []
  },
  {
   "cell_type": "markdown",
   "id": "0b05f538-dad5-4c04-a6dd-5c8da0268a85",
   "metadata": {},
   "source": [
    "#### 65) Bir vektörün (X) elemanlarını bir dizine dayalı olarak bir diziye (F) nasıl biriktirirsiniz? \n"
   ]
  },
  {
   "cell_type": "code",
   "execution_count": null,
   "id": "75321875-fe2d-4cf2-b1de-9ed082491019",
   "metadata": {},
   "outputs": [],
   "source": []
  },
  {
   "cell_type": "markdown",
   "id": "9b472ffc-c8ea-4f90-8e43-511263e978d7",
   "metadata": {},
   "source": [
    "#### 66) (dtype=ubyte) olan (w,h,3) şekline sahip bir görüntüyü düşünün, benzersiz renklerin sayısını hesaplayın\n"
   ]
  },
  {
   "cell_type": "code",
   "execution_count": null,
   "id": "1617accd-01df-4019-a451-60f056529d2f",
   "metadata": {},
   "outputs": [],
   "source": []
  },
  {
   "cell_type": "markdown",
   "id": "20a6203b-df20-4cb3-98dd-6cc2a99f14a2",
   "metadata": {},
   "source": [
    "#### 67) Dört boyutlu bir diziyi düşünün, son iki eksende toplamı nasıl alırsınız? \n"
   ]
  },
  {
   "cell_type": "code",
   "execution_count": null,
   "id": "bdc528a2-29ae-42ba-b812-d31098a5d593",
   "metadata": {},
   "outputs": [],
   "source": []
  },
  {
   "cell_type": "markdown",
   "id": "728cc731-8e09-47aa-b198-13858afa8d4c",
   "metadata": {},
   "source": [
    "#### 68) Bir boyutlu bir vektör D'yi düşünün, alt kümelerin ortalamalarını, alt kümeleri tanımlayan aynı boyutta bir vektör S kullanarak nasıl hesaplayabilirsiniz? \r\n"
   ]
  },
  {
   "cell_type": "code",
   "execution_count": null,
   "id": "9af768c6-0fdc-4291-8ed4-af289b85c947",
   "metadata": {},
   "outputs": [],
   "source": []
  },
  {
   "cell_type": "markdown",
   "id": "d35e8517-8a3a-4865-bbbb-689492579a66",
   "metadata": {},
   "source": [
    "#### 69) Nokta çarpımının köşegenini nasıl alırsınız? "
   ]
  },
  {
   "cell_type": "code",
   "execution_count": null,
   "id": "218c4f35-192b-4567-a82c-abe3c8743d2a",
   "metadata": {},
   "outputs": [],
   "source": []
  },
  {
   "cell_type": "markdown",
   "id": "e978d58c-31f0-47e0-9259-e41dc5d17223",
   "metadata": {},
   "source": [
    "#### 70) [1, 2, 3, 4, 5] vektörünü düşünün, her bir değerin arasına 3 ardışık sıfır ekleyerek yeni bir vektör nasıl oluşturursunuz? \r\n"
   ]
  },
  {
   "cell_type": "code",
   "execution_count": null,
   "id": "18612e43-572c-458d-85f4-863382b5c285",
   "metadata": {},
   "outputs": [],
   "source": []
  },
  {
   "cell_type": "markdown",
   "id": "07bb92ec-5cd2-4f10-ae22-861189d85d5e",
   "metadata": {},
   "source": [
    "#### 71) (5,5,3) boyutunda bir dizi düşünün, bunu (5,5) boyutunda bir dizi ile nasıl çarparsınız? \r\n"
   ]
  },
  {
   "cell_type": "code",
   "execution_count": null,
   "id": "0897f24d-3cf2-4567-a2ec-f817f033f312",
   "metadata": {},
   "outputs": [],
   "source": []
  },
  {
   "cell_type": "markdown",
   "id": "3c8081d9-3ecd-4fcf-a5f9-bdffe1e23be2",
   "metadata": {},
   "source": [
    "#### 72) Bir dizinin iki satırını nasıl değiştirirsiniz? #"
   ]
  },
  {
   "cell_type": "code",
   "execution_count": null,
   "id": "366c1467-f25a-4beb-a73e-11565a118359",
   "metadata": {},
   "outputs": [],
   "source": []
  },
  {
   "cell_type": "markdown",
   "id": "2f03aab7-3f40-4176-be13-eb063a2b636e",
   "metadata": {},
   "source": [
    "#### 73) 10 üçgeni tanımlayan 10 üçlü kümesini düşünün (paylaşılan köşelerle), tüm üçgenleri oluşturan benzersiz çizgi segmentlerini bulun \r\n"
   ]
  },
  {
   "cell_type": "code",
   "execution_count": null,
   "id": "8066f107-16fb-4fc2-9776-2e02a6d778ca",
   "metadata": {},
   "outputs": [],
   "source": []
  },
  {
   "cell_type": "markdown",
   "id": "6c752aa7-55bb-4da5-978b-db58bdf790c3",
   "metadata": {},
   "source": [
    "#### 74) Bir bincount'a karşılık gelen sıralı bir C dizisi oluşturun, np.bincount(A) == C olacak şekilde bir A dizisini nasıl üretirsiniz?"
   ]
  },
  {
   "cell_type": "code",
   "execution_count": null,
   "id": "458978b6-954b-48a4-87c1-062350d4aa90",
   "metadata": {},
   "outputs": [],
   "source": []
  },
  {
   "cell_type": "markdown",
   "id": "dcd72e1b-8484-4199-acd1-d0c3c64c6db2",
   "metadata": {},
   "source": [
    "#### 75) Bir dizi üzerinde kayan bir pencere kullanarak ortalamaları nasıl hesaplarınız? \n"
   ]
  },
  {
   "cell_type": "code",
   "execution_count": null,
   "id": "7f37c41f-0144-4d65-a00b-3aad82fe0905",
   "metadata": {},
   "outputs": [],
   "source": []
  },
  {
   "cell_type": "markdown",
   "id": "2fd719a7-f424-4975-8c86-cfdae707e4e4",
   "metadata": {},
   "source": [
    "#### 76) Bir boyutlu bir dizi Z'yi düşünün, ilk satırı (Z[0],Z[1],Z[2]) olan ve her bir sonraki satırın 1 kaydırıldığı iki boyutlu bir dizi oluşturun \n"
   ]
  },
  {
   "cell_type": "code",
   "execution_count": null,
   "id": "2986b3d6-8f07-422a-8b2a-02a6172f81e3",
   "metadata": {},
   "outputs": [],
   "source": []
  },
  {
   "cell_type": "markdown",
   "id": "8e29b80a-9a73-4cef-9d59-046713f723c6",
   "metadata": {},
   "source": [
    "#### 77) Bir boolean'ı nasıl olumsuzlarsınız veya bir float'ın işaretini nasıl yerinde değiştirirsiniz? \n"
   ]
  },
  {
   "cell_type": "code",
   "execution_count": null,
   "id": "d9fadd1f-5f49-41a2-90f1-c6f6f28053ed",
   "metadata": {},
   "outputs": [],
   "source": []
  },
  {
   "cell_type": "markdown",
   "id": "9f59fd9f-2b7f-47eb-836d-89c0a8947d25",
   "metadata": {},
   "source": [
    "#### 78) İki nokta kümesini P0 ve P1 şeklinde oluşturun, her bir noktadan i (P0[i],P1[i]) geçen çizgiye bir p noktası p'yi nasıl hesaplarsınız?\n"
   ]
  },
  {
   "cell_type": "code",
   "execution_count": null,
   "id": "be10fb66-7d5d-459d-a587-78e4545f5d50",
   "metadata": {},
   "outputs": [],
   "source": []
  },
  {
   "cell_type": "markdown",
   "id": "08e0c7e2-f419-4d77-ac8b-97e4b87c28ca",
   "metadata": {},
   "source": [
    "#### 79) İki nokta kümesini P0 ve P1 olarak ve bir P noktaları kümesini düşünün, her bir j noktası (P[j]) ile her bir i çizgisi (P0[i],P1[i]) arasındaki mesafeyi nasıl hesaplarsınız? \n"
   ]
  },
  {
   "cell_type": "code",
   "execution_count": null,
   "id": "0e760116-eac3-434b-af89-3bc9fb283e93",
   "metadata": {},
   "outputs": [],
   "source": []
  },
  {
   "cell_type": "markdown",
   "id": "05886c6b-e4f4-41a8-8242-18257f7c796a",
   "metadata": {},
   "source": [
    "#### 80) Keyfi bir diziyi düşünün, sabit bir şekle sahip bir alt kısmı çıkaran ve belirli bir eleman üzerine merkezlenen bir fonksiyon yazın (gerektiğinde bir dolgu değeri ile doldurun) \n"
   ]
  },
  {
   "cell_type": "code",
   "execution_count": null,
   "id": "86f6f632-22d1-4d1b-baf2-1c8a12b30ba0",
   "metadata": {},
   "outputs": [],
   "source": []
  },
  {
   "cell_type": "markdown",
   "id": "bcf09f5b-e16b-480c-879d-859d8a464608",
   "metadata": {},
   "source": [
    "#### 81) Z = [1,2,3,4,5,6,7,8,9,10,11,12,13,14] dizisini düşünün, R = [[1,2,3,4], [2,3,4,5], [3,4,5,6], ...] olacak şekilde kaydırılmış bir 4x4 dizi oluşturun? \n"
   ]
  },
  {
   "cell_type": "code",
   "execution_count": null,
   "id": "ea4357fa-c4b4-4fb6-a34f-994f78519b82",
   "metadata": {},
   "outputs": [],
   "source": []
  },
  {
   "cell_type": "markdown",
   "id": "735b37d5-2221-4c90-a29b-502f770f7eb2",
   "metadata": {},
   "source": [
    "#### 82) Düz bir dizi üzerinde 3x3 maksimum filtre nasıl uygulanır? \n"
   ]
  },
  {
   "cell_type": "code",
   "execution_count": null,
   "id": "374d925e-db1e-4758-831f-43819238618f",
   "metadata": {},
   "outputs": [],
   "source": []
  },
  {
   "cell_type": "markdown",
   "id": "f6d047ee-76b1-4327-ba00-1f58668df459",
   "metadata": {},
   "source": [
    "#### 83) 5 boyutlu bir dizinin en büyük 10 değerini nasıl bulursunuz? \n"
   ]
  },
  {
   "cell_type": "code",
   "execution_count": null,
   "id": "8306623f-4ed6-46df-8ca7-f2572836db66",
   "metadata": {},
   "outputs": [],
   "source": []
  },
  {
   "cell_type": "markdown",
   "id": "a4021f58-bc9f-4312-b170-355ace4469ea",
   "metadata": {},
   "source": [
    "#### 84) Bir vektördeki yinelenen öğelerin dizinlerini bulun "
   ]
  },
  {
   "cell_type": "code",
   "execution_count": null,
   "id": "2cac8dca-6ead-4d5a-a2e8-04b9a2962ff8",
   "metadata": {},
   "outputs": [],
   "source": []
  },
  {
   "cell_type": "markdown",
   "id": "919fcd3e-78e9-4ba9-a1aa-b2ff325af1e5",
   "metadata": {},
   "source": [
    "#### 85) Büyük bir 2D dizi ve 2D blokların her birini maksimuma göre sıralayarak diziyi parçalara ayıran bir fonksiyon yazın \r\n"
   ]
  },
  {
   "cell_type": "code",
   "execution_count": null,
   "id": "d5a172b5-e422-445b-9060-d95067c19bc1",
   "metadata": {},
   "outputs": [],
   "source": []
  },
  {
   "cell_type": "markdown",
   "id": "1ece597c-8acb-4f31-91f2-b891296cb896",
   "metadata": {},
   "source": [
    "#### 86) 3D koordinatların konveks kovanını bulun "
   ]
  },
  {
   "cell_type": "code",
   "execution_count": null,
   "id": "7148dd79-52e0-4133-82c7-27a7c89ec447",
   "metadata": {},
   "outputs": [],
   "source": []
  },
  {
   "cell_type": "markdown",
   "id": "d9b1ee62-edaf-429d-971f-fcc2e13c334e",
   "metadata": {},
   "source": [
    "#### 87) 100.000 elemanlık rastgele bir vektör ve 5000 elemanlık rastgele bir vektör oluşturun, ikincisindeki her değerin birincisinde var olup olmadığını kontrol edin \n"
   ]
  },
  {
   "cell_type": "code",
   "execution_count": null,
   "id": "da4c79a3-5ca3-49bd-93c8-2a5960b0aef5",
   "metadata": {},
   "outputs": [],
   "source": []
  },
  {
   "cell_type": "markdown",
   "id": "f0c193a4-d902-47e0-9f2e-64bb0e2693cb",
   "metadata": {},
   "source": [
    "#### 88) Büyük bir vektörü düşünün, belirli bir aralığın değerlerini sıralamak için en hızlı yolu bulun \n"
   ]
  },
  {
   "cell_type": "code",
   "execution_count": null,
   "id": "88b34479-8aee-4bfa-ac3d-61e3fe18cb1b",
   "metadata": {},
   "outputs": [],
   "source": []
  },
  {
   "cell_type": "markdown",
   "id": "1035f3d9-0b85-4866-9af6-001ab9f053d3",
   "metadata": {},
   "source": [
    "#### 89) Büyük bir dizi üzerinde maksimum değerlerin bir türün ortaya çıkma sayısına göre sıralandığı argmax işlevi yazın \n"
   ]
  },
  {
   "cell_type": "code",
   "execution_count": null,
   "id": "6bdc36a5-437a-4c6f-ae82-c7782bc69611",
   "metadata": {},
   "outputs": [],
   "source": []
  },
  {
   "cell_type": "markdown",
   "id": "93f980dc-6b5b-48a0-b836-eeb48377a68c",
   "metadata": {},
   "source": [
    "#### 90) np.array isimli yapılandırılmış bir dizi oluşturun, rengi beyaz olan her eleman için tüm beyaz öğeleri seçen bir maske oluşturun"
   ]
  },
  {
   "cell_type": "code",
   "execution_count": null,
   "id": "c007921d-f6cd-42c0-ae31-6880933a5705",
   "metadata": {},
   "outputs": [],
   "source": []
  },
  {
   "cell_type": "markdown",
   "id": "ace32b4b-f526-48f7-8c04-b7762d7e1078",
   "metadata": {},
   "source": [
    "#### 91) Bir düzenli diziden nasıl kayıt dizisi oluşturulur? "
   ]
  },
  {
   "cell_type": "code",
   "execution_count": null,
   "id": "94e41244-87ee-4f6f-aaf9-4cef8047ce73",
   "metadata": {},
   "outputs": [],
   "source": []
  },
  {
   "cell_type": "markdown",
   "id": "e8ac2075-df60-4521-a07f-479986977980",
   "metadata": {},
   "source": [
    "#### 92) Büyük bir vektör Z düşünüldüğünde, Z'nin 3 üssü 3 farklı yöntemle nasıl hesaplanır? \n"
   ]
  },
  {
   "cell_type": "code",
   "execution_count": null,
   "id": "c9393535-3af9-4ebe-8c38-09007a9d8790",
   "metadata": {},
   "outputs": [],
   "source": []
  },
  {
   "cell_type": "markdown",
   "id": "f3892058-cccd-4287-9c90-02c1806a4db7",
   "metadata": {},
   "source": [
    "#### 93) Şekli (8,3) ve (2,2) olan iki dizi A ve B düşünüldüğünde, B'nin her bir satırındaki öğelerin sırasız olarak A'nın hangi satırlarında bulunduğunu nasıl bulunur? \n"
   ]
  },
  {
   "cell_type": "code",
   "execution_count": null,
   "id": "ec07db58-37e4-4477-9aa5-3254304a01bb",
   "metadata": {},
   "outputs": [],
   "source": []
  },
  {
   "cell_type": "markdown",
   "id": "8f01843e-b7eb-4b60-8079-fba1cdf6608b",
   "metadata": {},
   "source": [
    "#### 94) 10x3 matris düşünüldüğünde, eşit olmayan değerlere sahip satırlar nasıl çıkarılır? (örn. [2,2,3]) \n"
   ]
  },
  {
   "cell_type": "code",
   "execution_count": null,
   "id": "474aa738-fdd2-456e-91ba-a284330a4868",
   "metadata": {},
   "outputs": [],
   "source": []
  },
  {
   "cell_type": "markdown",
   "id": "92edd5f2-48b8-44de-9280-1ff391bdea58",
   "metadata": {},
   "source": [
    "#### 95) Bir tamsayı vektörünü bir matris ikili temsiline nasıl dönüştürülür? \r\n"
   ]
  },
  {
   "cell_type": "code",
   "execution_count": null,
   "id": "7279f99e-d4a7-421e-b935-9c657ad6a0bd",
   "metadata": {},
   "outputs": [],
   "source": []
  },
  {
   "cell_type": "markdown",
   "id": "6c40aadb-f98d-4027-849f-1429ea252f36",
   "metadata": {},
   "source": [
    "#### 96) İki boyutlu bir diziden benzersiz satırlar nasıl çıkarılır? \n"
   ]
  },
  {
   "cell_type": "code",
   "execution_count": null,
   "id": "4f236c60-6ea5-4ddb-8a1d-52b2c2e436b4",
   "metadata": {},
   "outputs": [],
   "source": []
  },
  {
   "cell_type": "markdown",
   "id": "fc4b7014-7af9-4e32-a7cf-821a3564a2ba",
   "metadata": {},
   "source": [
    "#### 97) İki vektör A & B düşünüldüğünde, inner, outer, sum ve mul fonksiyonlarının einsum eşdeğeri nasıl yazılır? "
   ]
  },
  {
   "cell_type": "code",
   "execution_count": null,
   "id": "33626e0e-50db-432d-bce3-bc61fb4958ef",
   "metadata": {},
   "outputs": [],
   "source": []
  },
  {
   "cell_type": "markdown",
   "id": "bc7c27e5-d51c-45ae-adb8-7fc879ef3a3a",
   "metadata": {},
   "source": [
    "#### 98) İki vektör (X,Y) tarafından tanımlanan bir yol düşünüldüğünde, eşit aralıklı örnekleme kullanarak nasıl örneklenir? \n"
   ]
  },
  {
   "cell_type": "code",
   "execution_count": null,
   "id": "37e23e1d-47d1-48f5-ba0b-2525defbc368",
   "metadata": {},
   "outputs": [],
   "source": []
  },
  {
   "cell_type": "markdown",
   "id": "3cec5001-ada7-4ba0-afb9-ff6dff32f9a9",
   "metadata": {},
   "source": [
    "#### 99) Bir tamsayı n ve 2D bir dizi X verildiğinde, X'ten n dereceli bir multinom dağılımı olarak yorumlanabilecek satırları nasıl seçilir? \n"
   ]
  },
  {
   "cell_type": "code",
   "execution_count": null,
   "id": "8e93f83d-3ec3-47ef-b51f-4a685514745b",
   "metadata": {},
   "outputs": [],
   "source": []
  },
  {
   "cell_type": "markdown",
   "id": "ee29923c-7c99-4b89-bd00-31c47a0ff1b0",
   "metadata": {},
   "source": [
    "#### 100) Bir 1D dizinin ortalaması için bootstrap yöntemiyle %95 güven aralıkları nasıl hesaplanır? "
   ]
  },
  {
   "cell_type": "code",
   "execution_count": null,
   "id": "63725b3b-30b7-4fb4-884c-49c76c3f1d46",
   "metadata": {},
   "outputs": [],
   "source": []
  },
  {
   "cell_type": "markdown",
   "id": "1a79f438-6424-44f1-acb9-6009fcbc9544",
   "metadata": {},
   "source": [
    "#### Tebrikler! Alıştırmanın sonuna geldiniz :)"
   ]
  }
 ],
 "metadata": {
  "kernelspec": {
   "display_name": "Python 3 (ipykernel)",
   "language": "python",
   "name": "python3"
  },
  "language_info": {
   "codemirror_mode": {
    "name": "ipython",
    "version": 3
   },
   "file_extension": ".py",
   "mimetype": "text/x-python",
   "name": "python",
   "nbconvert_exporter": "python",
   "pygments_lexer": "ipython3",
   "version": "3.11.7"
  }
 },
 "nbformat": 4,
 "nbformat_minor": 5
}
