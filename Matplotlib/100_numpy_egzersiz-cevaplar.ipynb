{
 "cells": [
  {
   "cell_type": "markdown",
   "id": "590ef529-455d-4942-945d-22c40e06fe04",
   "metadata": {},
   "source": [
    "# 100 numpy alıştırması | cevaplar\n",
    "\n",
    "Bu egzersizler Numpy kütüphanesini daha derin ve detaylıca öğrenmek isteyenler için hazırlanmıştır\n",
    "\n",
    "Numpy hakkında belli bilgileriniz varsa ve dokümantasyonu okuduysanız devam edebilirsiniz :)"
   ]
  },
  {
   "cell_type": "markdown",
   "id": "a184f505-72a9-443e-b9fa-c79f3ce0669f",
   "metadata": {
    "jp-MarkdownHeadingCollapsed": true
   },
   "source": [
    "#### 1) Numpy kütüphanesini  `np` olarak çağırın?"
   ]
  },
  {
   "cell_type": "code",
   "execution_count": 2,
   "id": "b82945ae-dc40-4a62-a082-490b95a92341",
   "metadata": {},
   "outputs": [],
   "source": [
    "import numpy as np"
   ]
  },
  {
   "cell_type": "markdown",
   "id": "b355c57e-63ef-42fd-a8c0-751d43f55a7d",
   "metadata": {
    "jp-MarkdownHeadingCollapsed": true
   },
   "source": [
    "#### 2) Numpy sürümünü ve yapılandırmasını yazdırın?"
   ]
  },
  {
   "cell_type": "code",
   "execution_count": 2,
   "id": "dea18388-3f8f-495e-824e-3860e6dee374",
   "metadata": {},
   "outputs": [
    {
     "name": "stdout",
     "output_type": "stream",
     "text": [
      "1.26.4\n",
      "Build Dependencies:\n",
      "  blas:\n",
      "    detection method: pkgconfig\n",
      "    found: true\n",
      "    include directory: C:/Users/bigfi/anaconda3/Library/include\n",
      "    lib directory: C:/Users/bigfi/anaconda3/Library/lib\n",
      "    name: mkl-sdl\n",
      "    openblas configuration: unknown\n",
      "    pc file directory: C:\\b\\abs_c1ywpu18ar\\croot\\numpy_and_numpy_base_1708638681471\\_h_env\\Library\\lib\\pkgconfig\n",
      "    version: '2023.1'\n",
      "  lapack:\n",
      "    detection method: internal\n",
      "    found: true\n",
      "    include directory: unknown\n",
      "    lib directory: unknown\n",
      "    name: dep1868282989520\n",
      "    openblas configuration: unknown\n",
      "    pc file directory: unknown\n",
      "    version: 1.26.4\n",
      "Compilers:\n",
      "  c:\n",
      "    commands: cl.exe\n",
      "    linker: link\n",
      "    name: msvc\n",
      "    version: 19.29.30154\n",
      "  c++:\n",
      "    commands: cl.exe\n",
      "    linker: link\n",
      "    name: msvc\n",
      "    version: 19.29.30154\n",
      "  cython:\n",
      "    commands: cython\n",
      "    linker: cython\n",
      "    name: cython\n",
      "    version: 3.0.8\n",
      "Machine Information:\n",
      "  build:\n",
      "    cpu: x86_64\n",
      "    endian: little\n",
      "    family: x86_64\n",
      "    system: windows\n",
      "  host:\n",
      "    cpu: x86_64\n",
      "    endian: little\n",
      "    family: x86_64\n",
      "    system: windows\n",
      "Python Information:\n",
      "  path: C:\\b\\abs_c1ywpu18ar\\croot\\numpy_and_numpy_base_1708638681471\\_h_env\\python.exe\n",
      "  version: '3.11'\n",
      "SIMD Extensions:\n",
      "  baseline:\n",
      "  - SSE\n",
      "  - SSE2\n",
      "  - SSE3\n",
      "  found:\n",
      "  - SSSE3\n",
      "  - SSE41\n",
      "  - POPCNT\n",
      "  - SSE42\n",
      "  - AVX\n",
      "  - F16C\n",
      "  - FMA3\n",
      "  - AVX2\n",
      "  not found:\n",
      "  - AVX512F\n",
      "  - AVX512CD\n",
      "  - AVX512_SKX\n",
      "  - AVX512_CLX\n",
      "  - AVX512_CNL\n",
      "  - AVX512_ICL\n",
      "\n"
     ]
    }
   ],
   "source": [
    "print(np.__version__)\n",
    "np.show_config()"
   ]
  },
  {
   "cell_type": "markdown",
   "id": "d9146767-096c-4bda-b60c-11292adba177",
   "metadata": {
    "jp-MarkdownHeadingCollapsed": true
   },
   "source": [
    "#### 3) Boyutu 10 olan bir boş (null) vektör oluşturun?"
   ]
  },
  {
   "cell_type": "code",
   "execution_count": 3,
   "id": "ab9e8b89-9dde-4129-97f6-6ea95e38252f",
   "metadata": {},
   "outputs": [
    {
     "data": {
      "text/plain": [
       "array([0., 0., 0., 0., 0., 0., 0., 0., 0., 0.])"
      ]
     },
     "execution_count": 3,
     "metadata": {},
     "output_type": "execute_result"
    }
   ],
   "source": [
    "np.zeros(10)"
   ]
  },
  {
   "cell_type": "markdown",
   "id": "09fa8c3e-76f2-4236-92e3-5d217b706a85",
   "metadata": {
    "jp-MarkdownHeadingCollapsed": true
   },
   "source": [
    "#### 4) Herhangi bir dizinin bellek boyutunu nasıl bulursunuz?"
   ]
  },
  {
   "cell_type": "code",
   "execution_count": 4,
   "id": "103c55bb-fa1a-48a4-b9a5-1f39859176df",
   "metadata": {},
   "outputs": [
    {
     "name": "stdout",
     "output_type": "stream",
     "text": [
      "200 bytes\n"
     ]
    }
   ],
   "source": [
    "Zeros = np.zeros((5,5))\n",
    "print(\"%d bytes\" % (Zeros.size * Zeros.itemsize))"
   ]
  },
  {
   "cell_type": "markdown",
   "id": "cb942af8-056b-43b0-9b40-92f495dfe735",
   "metadata": {
    "jp-MarkdownHeadingCollapsed": true
   },
   "source": [
    "#### 5) Komut satırından numpy.add işlevinin dokümantasyonunu nasıl alırsınız?"
   ]
  },
  {
   "cell_type": "code",
   "execution_count": 30,
   "id": "85e3c3b5-b7d5-4b46-af76-c82d23e55f62",
   "metadata": {},
   "outputs": [
    {
     "name": "stdout",
     "output_type": "stream",
     "text": [
      "add(x1, x2, /, out=None, *, where=True, casting='same_kind', order='K', dtype=None, subok=True[, signature, extobj])\n",
      "\n",
      "Add arguments element-wise.\n",
      "\n",
      "Parameters\n",
      "----------\n",
      "x1, x2 : array_like\n",
      "    The arrays to be added.\n",
      "    If ``x1.shape != x2.shape``, they must be broadcastable to a common\n",
      "    shape (which becomes the shape of the output).\n",
      "out : ndarray, None, or tuple of ndarray and None, optional\n",
      "    A location into which the result is stored. If provided, it must have\n",
      "    a shape that the inputs broadcast to. If not provided or None,\n",
      "    a freshly-allocated array is returned. A tuple (possible only as a\n",
      "    keyword argument) must have length equal to the number of outputs.\n",
      "where : array_like, optional\n",
      "    This condition is broadcast over the input. At locations where the\n",
      "    condition is True, the `out` array will be set to the ufunc result.\n",
      "    Elsewhere, the `out` array will retain its original value.\n",
      "    Note that if an uninitialized `out` array is created via the default\n",
      "    ``out=None``, locations within it where the condition is False will\n",
      "    remain uninitialized.\n",
      "**kwargs\n",
      "    For other keyword-only arguments, see the\n",
      "    :ref:`ufunc docs <ufuncs.kwargs>`.\n",
      "\n",
      "Returns\n",
      "-------\n",
      "add : ndarray or scalar\n",
      "    The sum of `x1` and `x2`, element-wise.\n",
      "    This is a scalar if both `x1` and `x2` are scalars.\n",
      "\n",
      "Notes\n",
      "-----\n",
      "Equivalent to `x1` + `x2` in terms of array broadcasting.\n",
      "\n",
      "Examples\n",
      "--------\n",
      ">>> np.add(1.0, 4.0)\n",
      "5.0\n",
      ">>> x1 = np.arange(9.0).reshape((3, 3))\n",
      ">>> x2 = np.arange(3.0)\n",
      ">>> np.add(x1, x2)\n",
      "array([[  0.,   2.,   4.],\n",
      "       [  3.,   5.,   7.],\n",
      "       [  6.,   8.,  10.]])\n",
      "\n",
      "The ``+`` operator can be used as a shorthand for ``np.add`` on ndarrays.\n",
      "\n",
      ">>> x1 = np.arange(9.0).reshape((3, 3))\n",
      ">>> x2 = np.arange(3.0)\n",
      ">>> x1 + x2\n",
      "array([[ 0.,  2.,  4.],\n",
      "       [ 3.,  5.,  7.],\n",
      "       [ 6.,  8., 10.]])\n"
     ]
    }
   ],
   "source": [
    "np.info(np.add)"
   ]
  },
  {
   "cell_type": "markdown",
   "id": "fdab89a3-86dc-46fa-9bf6-a6462fa21d6b",
   "metadata": {
    "jp-MarkdownHeadingCollapsed": true
   },
   "source": [
    "#### 6) Boyutu 10 olan bir boş vektör oluşturun ancak beşinci değeri 1 olsun? "
   ]
  },
  {
   "cell_type": "code",
   "execution_count": 31,
   "id": "55d39f48-5fb4-44b5-bcbf-71784a3ed8d4",
   "metadata": {},
   "outputs": [
    {
     "name": "stdout",
     "output_type": "stream",
     "text": [
      "[0. 0. 0. 0. 1. 0. 0. 0. 0. 0.]\n"
     ]
    }
   ],
   "source": [
    "Zeros = np.zeros(10)\n",
    "Zeros[4] = 1\n",
    "print(Zeros)"
   ]
  },
  {
   "cell_type": "markdown",
   "id": "e0450b32-a3f3-415a-898f-46c4d10e201a",
   "metadata": {
    "jp-MarkdownHeadingCollapsed": true
   },
   "source": [
    "#### 7) 10'dan 49'a kadar olan değerlerle bir vektör oluşturun?"
   ]
  },
  {
   "cell_type": "code",
   "execution_count": 6,
   "id": "95ce7fbd-c6c8-4539-896d-5a2fcd8c7f0a",
   "metadata": {},
   "outputs": [
    {
     "data": {
      "text/plain": [
       "array([10, 11, 12, 13, 14, 15, 16, 17, 18, 19, 20, 21, 22, 23, 24, 25, 26,\n",
       "       27, 28, 29, 30, 31, 32, 33, 34, 35, 36, 37, 38, 39, 40, 41, 42, 43,\n",
       "       44, 45, 46, 47, 48, 49])"
      ]
     },
     "execution_count": 6,
     "metadata": {},
     "output_type": "execute_result"
    }
   ],
   "source": [
    "np.arange(10,50)"
   ]
  },
  {
   "cell_type": "markdown",
   "id": "fc168304-d9ec-448a-9eb8-879a08c175ab",
   "metadata": {
    "jp-MarkdownHeadingCollapsed": true
   },
   "source": [
    "#### 8) Bir vektörü ters çevirin (ilk elemanı son eleman yapın)"
   ]
  },
  {
   "cell_type": "code",
   "execution_count": 9,
   "id": "887d6806-76eb-414e-837c-cd44515f5a97",
   "metadata": {},
   "outputs": [
    {
     "data": {
      "text/plain": [
       "array([20, 19, 18, 17, 16, 15, 14, 13, 12, 11, 10,  9,  8,  7,  6,  5,  4,\n",
       "        3,  2,  1,  0])"
      ]
     },
     "execution_count": 9,
     "metadata": {},
     "output_type": "execute_result"
    }
   ],
   "source": [
    "ReverseVector = np.arange(0,21)\n",
    "ReverseVector = ReverseVector[::-1]\n",
    "ReverseVector"
   ]
  },
  {
   "cell_type": "markdown",
   "id": "a620a3cb-f42e-4c31-84af-ba3e28db1b96",
   "metadata": {
    "jp-MarkdownHeadingCollapsed": true
   },
   "source": [
    "#### 9) 0'dan 8'e kadar aralığı olan 3x3 Boyutunda bir matris oluşturun"
   ]
  },
  {
   "cell_type": "code",
   "execution_count": 11,
   "id": "5fa76558-5399-4423-81c2-713cf2ac6f4e",
   "metadata": {},
   "outputs": [
    {
     "data": {
      "text/plain": [
       "array([[0, 1, 2],\n",
       "       [3, 4, 5],\n",
       "       [6, 7, 8]])"
      ]
     },
     "execution_count": 11,
     "metadata": {},
     "output_type": "execute_result"
    }
   ],
   "source": [
    "MyMatrix = np.arange(0,9)\n",
    "MyMatrix.reshape(3,3)"
   ]
  },
  {
   "cell_type": "markdown",
   "id": "2b2583c6-56fb-4da0-8c13-b9c0b8cb3f2c",
   "metadata": {
    "jp-MarkdownHeadingCollapsed": true
   },
   "source": [
    "#### 10) [1,2,0,0,4,0] dizisindeki sıfır olmayan elemanların dizinlerini bulun?"
   ]
  },
  {
   "cell_type": "code",
   "execution_count": 32,
   "id": "746356ad-7fa4-41ae-a141-a49bbb2b597e",
   "metadata": {},
   "outputs": [
    {
     "data": {
      "text/plain": [
       "(array([0, 1, 4], dtype=int64),)"
      ]
     },
     "execution_count": 32,
     "metadata": {},
     "output_type": "execute_result"
    }
   ],
   "source": [
    "Dizi = [1,2,0,0,4,0]\n",
    "np.nonzero(Dizi)"
   ]
  },
  {
   "cell_type": "markdown",
   "id": "d7f09964-77bd-459a-9ab7-b8ee14b1143a",
   "metadata": {
    "jp-MarkdownHeadingCollapsed": true
   },
   "source": [
    "#### 11) Bir 3x3 birim (idendity) matris oluşturun?"
   ]
  },
  {
   "cell_type": "code",
   "execution_count": 13,
   "id": "28ec89c6-a1ef-4c8c-8632-f16d433b5d74",
   "metadata": {},
   "outputs": [
    {
     "data": {
      "text/plain": [
       "array([[1., 0., 0.],\n",
       "       [0., 1., 0.],\n",
       "       [0., 0., 1.]])"
      ]
     },
     "execution_count": 13,
     "metadata": {},
     "output_type": "execute_result"
    }
   ],
   "source": [
    "np.eye(3)"
   ]
  },
  {
   "cell_type": "markdown",
   "id": "404ef1d3-3713-4a9b-afe6-03e5a87e6623",
   "metadata": {
    "jp-MarkdownHeadingCollapsed": true
   },
   "source": [
    "#### 12) Rastgele değerlerle bir 3x3x3 dizi oluşturun"
   ]
  },
  {
   "cell_type": "code",
   "execution_count": 14,
   "id": "879f39bf-6335-4404-bc23-0d1aacdf030e",
   "metadata": {},
   "outputs": [
    {
     "data": {
      "text/plain": [
       "array([[[0.48516617, 0.86007571, 0.77885743],\n",
       "        [0.44955215, 0.51515844, 0.53408831],\n",
       "        [0.33765246, 0.65883707, 0.45659811]],\n",
       "\n",
       "       [[0.7856543 , 0.44807061, 0.29378383],\n",
       "        [0.74121455, 0.55172274, 0.42702842],\n",
       "        [0.06020619, 0.25014365, 0.18664024]],\n",
       "\n",
       "       [[0.60632882, 0.9161759 , 0.16029022],\n",
       "        [0.82972847, 0.57383495, 0.6204742 ],\n",
       "        [0.08342289, 0.37704152, 0.75013234]]])"
      ]
     },
     "execution_count": 14,
     "metadata": {},
     "output_type": "execute_result"
    }
   ],
   "source": [
    "np.random.random((3,3,3))"
   ]
  },
  {
   "cell_type": "markdown",
   "id": "6d17d20a-1c83-4415-9694-85442f6382a4",
   "metadata": {
    "jp-MarkdownHeadingCollapsed": true
   },
   "source": [
    "#### 13) Rastgele değerlerle bir 10x10 dizi oluşturun ve minimum ve maksimum değerleri bulun"
   ]
  },
  {
   "cell_type": "code",
   "execution_count": 35,
   "id": "943086bc-15c5-4c6b-81d1-b32f05de96db",
   "metadata": {},
   "outputs": [
    {
     "name": "stdout",
     "output_type": "stream",
     "text": [
      "0.016934268889001958\n",
      "0.9859266641563288\n"
     ]
    }
   ],
   "source": [
    "Z = np.random.rand(10,10)\n",
    "print(Z.min())\n",
    "print(Z.max())"
   ]
  },
  {
   "cell_type": "markdown",
   "id": "6599964e-fe24-4be4-a40e-ff2bf129d8a0",
   "metadata": {
    "jp-MarkdownHeadingCollapsed": true
   },
   "source": [
    "#### 14) Boyutu 30 olan rastgele bir vektör oluşturun ve ortalama değeri bulun"
   ]
  },
  {
   "cell_type": "code",
   "execution_count": 16,
   "id": "c7af7078-7cc9-4ee1-8483-29f2e35076fd",
   "metadata": {},
   "outputs": [
    {
     "name": "stdout",
     "output_type": "stream",
     "text": [
      "0.5132133206651612\n"
     ]
    }
   ],
   "source": [
    "Z = np.random.random(30)\n",
    "m = Z.mean()\n",
    "print(m)"
   ]
  },
  {
   "cell_type": "markdown",
   "id": "14b85b72-d6ef-43bc-bc64-02770e16f78b",
   "metadata": {
    "jp-MarkdownHeadingCollapsed": true
   },
   "source": [
    "#### 15) Kenarlarda 1, içeride 0 olan bir 2d dizi oluşturun"
   ]
  },
  {
   "cell_type": "code",
   "execution_count": 18,
   "id": "b87148b7-0d43-4b2c-9a09-c69f50c5954a",
   "metadata": {},
   "outputs": [
    {
     "data": {
      "text/plain": [
       "array([[1., 1., 1., 1., 1., 1., 1., 1., 1., 1.],\n",
       "       [1., 0., 0., 0., 0., 0., 0., 0., 0., 1.],\n",
       "       [1., 0., 0., 0., 0., 0., 0., 0., 0., 1.],\n",
       "       [1., 0., 0., 0., 0., 0., 0., 0., 0., 1.],\n",
       "       [1., 0., 0., 0., 0., 0., 0., 0., 0., 1.],\n",
       "       [1., 0., 0., 0., 0., 0., 0., 0., 0., 1.],\n",
       "       [1., 0., 0., 0., 0., 0., 0., 0., 0., 1.],\n",
       "       [1., 0., 0., 0., 0., 0., 0., 0., 0., 1.],\n",
       "       [1., 0., 0., 0., 0., 0., 0., 0., 0., 1.],\n",
       "       [1., 1., 1., 1., 1., 1., 1., 1., 1., 1.]])"
      ]
     },
     "execution_count": 18,
     "metadata": {},
     "output_type": "execute_result"
    }
   ],
   "source": [
    "Z = np.ones((10,10))\n",
    "Z[1:-1,1:-1] = 0\n",
    "Z"
   ]
  },
  {
   "cell_type": "markdown",
   "id": "d08de470-c187-484c-a41b-60a9d5da0dff",
   "metadata": {
    "jp-MarkdownHeadingCollapsed": true
   },
   "source": [
    "#### 16) Mevcut \"1\" dizisinin kenarları (0'larla dolu)  sınırlar nasıl eklenir?"
   ]
  },
  {
   "cell_type": "code",
   "execution_count": 20,
   "id": "c925fbdd-37a6-4482-b9a5-cd954495fbcc",
   "metadata": {},
   "outputs": [
    {
     "data": {
      "text/plain": [
       "array([[0., 0., 0., 0., 0., 0., 0.],\n",
       "       [0., 1., 1., 1., 1., 1., 0.],\n",
       "       [0., 1., 1., 1., 1., 1., 0.],\n",
       "       [0., 1., 1., 1., 1., 1., 0.],\n",
       "       [0., 1., 1., 1., 1., 1., 0.],\n",
       "       [0., 1., 1., 1., 1., 1., 0.],\n",
       "       [0., 0., 0., 0., 0., 0., 0.]])"
      ]
     },
     "execution_count": 20,
     "metadata": {},
     "output_type": "execute_result"
    }
   ],
   "source": [
    "Z = np.ones((5,5))\n",
    "Z = np.pad(Z, pad_width=1, mode='constant', constant_values=0)\n",
    "Z"
   ]
  },
  {
   "cell_type": "markdown",
   "id": "a378e1c9-8c6e-48fc-b810-3b7b0a150143",
   "metadata": {
    "jp-MarkdownHeadingCollapsed": true
   },
   "source": [
    "#### 17) Aşağıdaki ifadelerin sonucu nedir?\n",
    "\n",
    " ```python\r\n",
    "    0 * np.nan\r\n",
    "    np.nan == np.nan\r\n",
    "    np.inf > np.nan\r\n",
    "    np.nan - np.nan\r\n",
    "    np.nan in set([np.nan])\r\n",
    "    0.3 == 3 * 0.1 0.1\\n* 0.1"
   ]
  },
  {
   "cell_type": "code",
   "execution_count": 23,
   "id": "2ef53b7a-ff99-48f0-8050-9c5f6e5f30fe",
   "metadata": {},
   "outputs": [
    {
     "data": {
      "text/plain": [
       "False"
      ]
     },
     "execution_count": 23,
     "metadata": {},
     "output_type": "execute_result"
    }
   ],
   "source": [
    "False"
   ]
  },
  {
   "cell_type": "markdown",
   "id": "ddfbdcc1-105b-4d56-b21c-0752397c327a",
   "metadata": {
    "jp-MarkdownHeadingCollapsed": true
   },
   "source": [
    "#### 18) Diyagonalın hemen altındaki 1,2,3,4 değerleriyle bir 5x5 matris oluşturun?"
   ]
  },
  {
   "cell_type": "code",
   "execution_count": 24,
   "id": "8dc12cc9-9963-4f98-bc60-cbaf1b17d0dc",
   "metadata": {},
   "outputs": [
    {
     "name": "stdout",
     "output_type": "stream",
     "text": [
      "[[0 0 0 0 0]\n",
      " [1 0 0 0 0]\n",
      " [0 2 0 0 0]\n",
      " [0 0 3 0 0]\n",
      " [0 0 0 4 0]]\n"
     ]
    }
   ],
   "source": [
    "Z = np.diag(1+np.arange(4),k=-1)\n",
    "print(Z)"
   ]
  },
  {
   "cell_type": "markdown",
   "id": "7687a0c4-e5d0-4354-ae9b-ec320020d4f8",
   "metadata": {
    "jp-MarkdownHeadingCollapsed": true
   },
   "source": [
    "#### 19) 8x8 bir matris oluşturun ve dama tahtası deseni elde edin"
   ]
  },
  {
   "cell_type": "code",
   "execution_count": 25,
   "id": "610205f6-ce8e-4a81-909d-8698f099783c",
   "metadata": {},
   "outputs": [
    {
     "data": {
      "text/plain": [
       "array([[0, 1, 0, 1, 0, 1, 0, 1],\n",
       "       [1, 0, 1, 0, 1, 0, 1, 0],\n",
       "       [0, 1, 0, 1, 0, 1, 0, 1],\n",
       "       [1, 0, 1, 0, 1, 0, 1, 0],\n",
       "       [0, 1, 0, 1, 0, 1, 0, 1],\n",
       "       [1, 0, 1, 0, 1, 0, 1, 0],\n",
       "       [0, 1, 0, 1, 0, 1, 0, 1],\n",
       "       [1, 0, 1, 0, 1, 0, 1, 0]])"
      ]
     },
     "execution_count": 25,
     "metadata": {},
     "output_type": "execute_result"
    }
   ],
   "source": [
    "Z = np.zeros((8,8),dtype=int)\n",
    "Z[1::2,::2] = 1\n",
    "Z[::2,1::2] = 1\n",
    "Z"
   ]
  },
  {
   "cell_type": "markdown",
   "id": "78a69698-a508-4adb-956a-695570dbc006",
   "metadata": {
    "jp-MarkdownHeadingCollapsed": true
   },
   "source": [
    "#### 20) (6,7,8) şekilli bir dizi oluşturun, 100. elemanın indeksi (x,y,z) nedir?"
   ]
  },
  {
   "cell_type": "code",
   "execution_count": 26,
   "id": "2b0aee32-fd52-4ea6-8520-63a4c5d29568",
   "metadata": {},
   "outputs": [
    {
     "name": "stdout",
     "output_type": "stream",
     "text": [
      "(1, 5, 3)\n"
     ]
    }
   ],
   "source": [
    "print(np.unravel_index(99,(6,7,8)))"
   ]
  },
  {
   "cell_type": "markdown",
   "id": "5fc9a2b2-3a1e-490c-9652-4d1e8a999c91",
   "metadata": {
    "jp-MarkdownHeadingCollapsed": true
   },
   "source": [
    "#### 21) Tile fonksiyonunu kullanarak 8x8 dama tahtası matrisi oluşturun?"
   ]
  },
  {
   "cell_type": "code",
   "execution_count": 27,
   "id": "d65e1919-eb94-4b75-a3a8-bb98dc715627",
   "metadata": {},
   "outputs": [
    {
     "data": {
      "text/plain": [
       "array([[0, 1, 0, 1, 0, 1, 0, 1],\n",
       "       [1, 0, 1, 0, 1, 0, 1, 0],\n",
       "       [0, 1, 0, 1, 0, 1, 0, 1],\n",
       "       [1, 0, 1, 0, 1, 0, 1, 0],\n",
       "       [0, 1, 0, 1, 0, 1, 0, 1],\n",
       "       [1, 0, 1, 0, 1, 0, 1, 0],\n",
       "       [0, 1, 0, 1, 0, 1, 0, 1],\n",
       "       [1, 0, 1, 0, 1, 0, 1, 0]])"
      ]
     },
     "execution_count": 27,
     "metadata": {},
     "output_type": "execute_result"
    }
   ],
   "source": [
    "Z = np.tile( np.array([[0,1],[1,0]]), (4,4))\n",
    "Z"
   ]
  },
  {
   "cell_type": "markdown",
   "id": "e9b5649f-bf06-4246-bdfe-579ce09fe48b",
   "metadata": {
    "jp-MarkdownHeadingCollapsed": true
   },
   "source": [
    "#### 22) 5x5 rastgele bir matrisi normalleştirin"
   ]
  },
  {
   "cell_type": "code",
   "execution_count": 28,
   "id": "1491fb4a-006d-4816-84b1-f8013ead3028",
   "metadata": {},
   "outputs": [
    {
     "data": {
      "text/plain": [
       "array([[ 1.36998988, -0.58717271, -1.22701314, -0.98067465, -0.44604045],\n",
       "       [ 1.21898151, -1.07341999,  0.78811022, -0.36446601,  0.16937135],\n",
       "       [ 1.05289996, -1.26276004, -1.00859496, -0.62007423,  0.13306854],\n",
       "       [-0.61292803,  0.94660833, -1.0694927 , -0.47124153, -1.26737351],\n",
       "       [ 1.29378275,  1.48168645,  1.48443913, -0.39534513,  1.44765897]])"
      ]
     },
     "execution_count": 28,
     "metadata": {},
     "output_type": "execute_result"
    }
   ],
   "source": [
    "Z = np.random.random((5,5))\n",
    "Z = (Z - np.mean (Z)) / (np.std (Z))\n",
    "Z"
   ]
  },
  {
   "cell_type": "markdown",
   "id": "dca59116-067e-4236-ac32-27a837873389",
   "metadata": {
    "jp-MarkdownHeadingCollapsed": true
   },
   "source": [
    "#### 23. Renkleri dört işaretsiz bayt (RGBA) olarak tanımlayan özel bir dtype oluşturun"
   ]
  },
  {
   "cell_type": "code",
   "execution_count": 38,
   "id": "f00bb8d6-55ff-418e-85fc-03ca492af745",
   "metadata": {},
   "outputs": [
    {
     "name": "stdout",
     "output_type": "stream",
     "text": [
      "[('r', 'u1'), ('g', 'u1'), ('b', 'u1'), ('a', 'u1')]\n"
     ]
    }
   ],
   "source": [
    "color = np.dtype([(\"r\", np.ubyte),\n",
    "                  (\"g\", np.ubyte),\n",
    "                  (\"b\", np.ubyte),\n",
    "                  (\"a\", np.ubyte)])\n",
    "print(color)"
   ]
  },
  {
   "cell_type": "markdown",
   "id": "d7f89854-f69b-4907-bb4f-950ecb30f87c",
   "metadata": {
    "jp-MarkdownHeadingCollapsed": true
   },
   "source": [
    "#### 24) 5x3 bir matrisi 3x2 bir matris ile çarpın (gerçek matris çarpımıyla)"
   ]
  },
  {
   "cell_type": "code",
   "execution_count": 34,
   "id": "5c917b93-c095-4f4f-b1fe-e3169c63c3bf",
   "metadata": {},
   "outputs": [
    {
     "data": {
      "text/plain": [
       "array([[3., 3.],\n",
       "       [3., 3.],\n",
       "       [3., 3.],\n",
       "       [3., 3.],\n",
       "       [3., 3.]])"
      ]
     },
     "execution_count": 34,
     "metadata": {},
     "output_type": "execute_result"
    }
   ],
   "source": [
    "Z = np.dot(np.ones((5,3)), np.ones((3,2)))\n",
    "\n",
    "# veya Python 3.5 üstü iin alternatif çözüm\n",
    "\n",
    "Z = np.ones((5,3)) @ np.ones((3,2))\n",
    "Z"
   ]
  },
  {
   "cell_type": "markdown",
   "id": "d65f729d-fca9-49e0-84e5-333449749b85",
   "metadata": {
    "jp-MarkdownHeadingCollapsed": true
   },
   "source": [
    "#### 25) 1D bir dizi verildiğinde, 3 ile 8 arasındaki tüm elemanları olumsuzlayın."
   ]
  },
  {
   "cell_type": "code",
   "execution_count": 35,
   "id": "61878aaf-7b2e-4ed7-a427-563d1fd46e6a",
   "metadata": {},
   "outputs": [
    {
     "data": {
      "text/plain": [
       "array([ 0,  1,  2,  3, -4, -5, -6, -7,  8,  9, 10])"
      ]
     },
     "execution_count": 35,
     "metadata": {},
     "output_type": "execute_result"
    }
   ],
   "source": [
    "Z = np.arange(11)\n",
    "Z[(3 < Z) & (Z < 8)] *= -1\n",
    "Z"
   ]
  },
  {
   "cell_type": "markdown",
   "id": "616bf920-25c9-4fe9-b44c-bb0a3c507d0c",
   "metadata": {
    "jp-MarkdownHeadingCollapsed": true
   },
   "source": [
    "#### 26) Aşağıdaki betiğin çıktısı nedir?\n",
    "\n",
    " ```python\n",
    "print(sum(range(5),-1))\n",
    "    \n",
    "from numpy import \n",
    "    \r\n",
    "print(sum(range(5),-1))\n"
   ]
  },
  {
   "cell_type": "code",
   "execution_count": 38,
   "id": "c663d72c-b197-4453-bb24-4ac05ed45abe",
   "metadata": {},
   "outputs": [
    {
     "data": {
      "text/plain": [
       "10"
      ]
     },
     "execution_count": 38,
     "metadata": {},
     "output_type": "execute_result"
    }
   ],
   "source": [
    "9\n",
    "10"
   ]
  },
  {
   "cell_type": "markdown",
   "id": "82758fda-c070-4ac7-9c62-df71b2a71e95",
   "metadata": {
    "jp-MarkdownHeadingCollapsed": true
   },
   "source": [
    "#### 27) 5x5 boyutunda bir rastgele matris oluşturun"
   ]
  },
  {
   "cell_type": "code",
   "execution_count": 5,
   "id": "cf837d8c-71cd-434c-bcc4-09cf6aec6a00",
   "metadata": {},
   "outputs": [
    {
     "data": {
      "text/plain": [
       "array([[12, 24,  1, 15, 13],\n",
       "       [ 4,  8, 18, 18,  1],\n",
       "       [ 6,  8,  6, 18, 24],\n",
       "       [14,  9,  6, 18,  0],\n",
       "       [23, 22, 20, 12,  1]])"
      ]
     },
     "execution_count": 5,
     "metadata": {},
     "output_type": "execute_result"
    }
   ],
   "source": [
    "MyMatrix = np.random.randint(0,25,25)\n",
    "MyMatrix.reshape(5,5)"
   ]
  },
  {
   "cell_type": "markdown",
   "id": "17a7ec9b-6c41-49b5-afa9-d2b000062ffc",
   "metadata": {
    "jp-MarkdownHeadingCollapsed": true
   },
   "source": [
    "#### 28) Aşağıdaki ifadelerin sonucu nedir?\n",
    "```python\n",
    "np.seterr(all='ignore')\n",
    "\n",
    "print(np.array(0) / np.array(0))  # nan\n",
    "print(np.array(0) // np.array(0))  # 0\n",
    "print(np.array([np.nan]).astype(int).astype(float))\n",
    "```"
   ]
  },
  {
   "cell_type": "code",
   "execution_count": null,
   "id": "7dffe74a-6890-44ef-af9e-ff5f2054ff72",
   "metadata": {},
   "outputs": [],
   "source": [
    "nan\n",
    "0\n",
    "[-2.14748365e+09]"
   ]
  },
  {
   "cell_type": "markdown",
   "id": "82d23ce3-05ce-4341-83bd-62998a96c344",
   "metadata": {
    "jp-MarkdownHeadingCollapsed": true
   },
   "source": [
    "#### 29) Bir float dizisini sıfırdan uzağa nasıl yuvarlarsınız?"
   ]
  },
  {
   "cell_type": "code",
   "execution_count": 59,
   "id": "3593f637-d60a-4ad4-9a4b-96e48d4f69f0",
   "metadata": {},
   "outputs": [
    {
     "name": "stdout",
     "output_type": "stream",
     "text": [
      "[-10.  -5.   6.  -7.   7.  -8.  -7.  -6.  -8.   1.]\n"
     ]
    }
   ],
   "source": [
    "Z = np.random.uniform(-10,+10,10)\n",
    "print(np.copysign(np.ceil(np.abs(Z)), Z))"
   ]
  },
  {
   "cell_type": "markdown",
   "id": "10aed985-6134-43f8-8ccb-9930fa2893cd",
   "metadata": {
    "jp-MarkdownHeadingCollapsed": true
   },
   "source": [
    "#### 30) İki dizi arasındaki ortak değerleri nasıl bulursunuz?"
   ]
  },
  {
   "cell_type": "code",
   "execution_count": 69,
   "id": "2b710063-338b-46d1-9ee4-2220112f069e",
   "metadata": {},
   "outputs": [
    {
     "name": "stdout",
     "output_type": "stream",
     "text": [
      "[5 0 0 2 0 8 6 2 7 5]\n",
      "[8 2 6 7 8 3 2 6 8 1]\n",
      "[2 6 7 8]\n"
     ]
    }
   ],
   "source": [
    "Z1 = np.random.randint(0,10,10)\n",
    "Z2 = np.random.randint(0,10,10)\n",
    "print(Z1)\n",
    "print(Z2)\n",
    "print(np.intersect1d(Z1,Z2))"
   ]
  },
  {
   "cell_type": "markdown",
   "id": "b70d4f3c-e1ba-48cc-b311-ac56e763cea9",
   "metadata": {
    "jp-MarkdownHeadingCollapsed": true
   },
   "source": [
    "#### 31) Tüm numpy uyarılarını nasıl yok sayarsınız (önerilmez)?"
   ]
  },
  {
   "cell_type": "code",
   "execution_count": 70,
   "id": "9d197982-e2fd-4388-89a4-b4c68974153d",
   "metadata": {},
   "outputs": [],
   "source": [
    "# Suicide modu açık!\n",
    "defaults = np.seterr(all=\"ignore\")\n",
    "Z = np.ones(1) / 0\n",
    "\n",
    "# Sanity' ye dönüş\n",
    "_ = np.seterr(**defaults)\n",
    "\n",
    "# Equivalently -  içerik yöneticisiyle birlikte\n",
    "with np.errstate(all=\"ignore\"):\n",
    "    np.arange(3) / 0"
   ]
  },
  {
   "cell_type": "markdown",
   "id": "68acf0e9-2a17-4791-b306-649da71da5d1",
   "metadata": {
    "jp-MarkdownHeadingCollapsed": true
   },
   "source": [
    "#### 32) Aşağıdaki ifadeler doğru mudur?\n",
    "```python\n",
    "np.sqrt(-1) == np.emath.sqrt(-1)\n",
    "```\n"
   ]
  },
  {
   "cell_type": "code",
   "execution_count": null,
   "id": "99586f64-a2cf-424e-8775-a0d0efb312b2",
   "metadata": {},
   "outputs": [],
   "source": [
    "Yanlıştır. (False)"
   ]
  },
  {
   "cell_type": "markdown",
   "id": "c6a9b30d-7b96-46e6-a5c8-2a68db999ff8",
   "metadata": {
    "jp-MarkdownHeadingCollapsed": true
   },
   "source": [
    "#### 33) Dün, bugün ve yarının tarihlerini nasıl alırsınız?"
   ]
  },
  {
   "cell_type": "code",
   "execution_count": 75,
   "id": "80eec6bd-aa23-4536-9809-a7da7b52d3ac",
   "metadata": {},
   "outputs": [
    {
     "name": "stdout",
     "output_type": "stream",
     "text": [
      "2024-07-11\n"
     ]
    }
   ],
   "source": [
    "dun = np.datetime64('today') - np.timedelta64(1)\n",
    "bugun     = np.datetime64('today')\n",
    "yarin  = np.datetime64('today') + np.timedelta64(1)\n",
    "print(bugun)"
   ]
  },
  {
   "cell_type": "markdown",
   "id": "7a28e5c4-3c8c-4d98-a3a2-daf931c77b9e",
   "metadata": {
    "jp-MarkdownHeadingCollapsed": true
   },
   "source": [
    "#### 34) Temmuz 2016'ya karşılık gelen tüm tarihleri nasıl alırsınız?"
   ]
  },
  {
   "cell_type": "code",
   "execution_count": 76,
   "id": "6723bc0e-9042-44c0-b5e7-e6625e3ffab9",
   "metadata": {},
   "outputs": [
    {
     "data": {
      "text/plain": [
       "array(['2016-07-01', '2016-07-02', '2016-07-03', '2016-07-04',\n",
       "       '2016-07-05', '2016-07-06', '2016-07-07', '2016-07-08',\n",
       "       '2016-07-09', '2016-07-10', '2016-07-11', '2016-07-12',\n",
       "       '2016-07-13', '2016-07-14', '2016-07-15', '2016-07-16',\n",
       "       '2016-07-17', '2016-07-18', '2016-07-19', '2016-07-20',\n",
       "       '2016-07-21', '2016-07-22', '2016-07-23', '2016-07-24',\n",
       "       '2016-07-25', '2016-07-26', '2016-07-27', '2016-07-28',\n",
       "       '2016-07-29', '2016-07-30', '2016-07-31'], dtype='datetime64[D]')"
      ]
     },
     "execution_count": 76,
     "metadata": {},
     "output_type": "execute_result"
    }
   ],
   "source": [
    "Z = np.arange('2016-07', '2016-08', dtype='datetime64[D]')\n",
    "Z"
   ]
  },
  {
   "cell_type": "markdown",
   "id": "62ba9b59-8980-46e3-b0ba-4e7b17441ba3",
   "metadata": {
    "jp-MarkdownHeadingCollapsed": true
   },
   "source": [
    "#### 35) ((A+B)*(-A/2))'yi nasıl kopyalamadan hesaplarsınız?"
   ]
  },
  {
   "cell_type": "code",
   "execution_count": 77,
   "id": "c3a7f907-4aea-475e-8b31-e39e602d6334",
   "metadata": {},
   "outputs": [
    {
     "data": {
      "text/plain": [
       "array([-1.5, -1.5, -1.5])"
      ]
     },
     "execution_count": 77,
     "metadata": {},
     "output_type": "execute_result"
    }
   ],
   "source": [
    "A = np.ones(3)*1\n",
    "B = np.ones(3)*2\n",
    "np.add(A,B,out=B)\n",
    "np.divide(A,2,out=A)\n",
    "np.negative(A,out=A)\n",
    "np.multiply(A,B,out=A)"
   ]
  },
  {
   "cell_type": "markdown",
   "id": "04793c62-7661-4392-827a-35e136f647b4",
   "metadata": {
    "jp-MarkdownHeadingCollapsed": true
   },
   "source": [
    "#### 36) Pozitif sayılardan oluşan rastgele bir dizinin tam sayı kısmını 4 farklı yöntemle nasıl çıkarırsınız?"
   ]
  },
  {
   "cell_type": "code",
   "execution_count": 78,
   "id": "a0773d89-2aa9-490b-bce0-ee2d7cff34d4",
   "metadata": {},
   "outputs": [
    {
     "name": "stdout",
     "output_type": "stream",
     "text": [
      "[7. 6. 7. 8. 4. 3. 5. 4. 7. 2.]\n",
      "[7. 6. 7. 8. 4. 3. 5. 4. 7. 2.]\n",
      "[7. 6. 7. 8. 4. 3. 5. 4. 7. 2.]\n",
      "[7 6 7 8 4 3 5 4 7 2]\n",
      "[7. 6. 7. 8. 4. 3. 5. 4. 7. 2.]\n"
     ]
    }
   ],
   "source": [
    "Z = np.random.uniform(0,10,10)\n",
    "\n",
    "print(Z - Z%1)\n",
    "print(Z // 1)\n",
    "print(np.floor(Z))\n",
    "print(Z.astype(int))\n",
    "print(np.trunc(Z))"
   ]
  },
  {
   "cell_type": "markdown",
   "id": "c494eeaa-9298-47e0-8c3c-4f44c94565a0",
   "metadata": {
    "jp-MarkdownHeadingCollapsed": true
   },
   "source": [
    "#### 37) Satır değerleri 0'dan 4'e kadar olan bir 5x5 matris nasıl oluşturursunuz?"
   ]
  },
  {
   "cell_type": "code",
   "execution_count": 82,
   "id": "69ec3cdf-e2a2-487b-8a37-aaf41e92a059",
   "metadata": {},
   "outputs": [
    {
     "data": {
      "text/plain": [
       "array([[0, 1, 2, 3, 4],\n",
       "       [0, 1, 2, 3, 4],\n",
       "       [0, 1, 2, 3, 4],\n",
       "       [0, 1, 2, 3, 4],\n",
       "       [0, 1, 2, 3, 4]])"
      ]
     },
     "execution_count": 82,
     "metadata": {},
     "output_type": "execute_result"
    }
   ],
   "source": [
    "Z = np.tile(np.arange(0, 5), (5,1))\n",
    "Z"
   ]
  },
  {
   "cell_type": "markdown",
   "id": "58ee27ce-b7f9-4871-980d-5aa5e01e6ca2",
   "metadata": {
    "jp-MarkdownHeadingCollapsed": true
   },
   "source": [
    "#### 38) 10 tamsayı üreten bir fonksiyon yapın ve bunu kullanarak bir dizi oluşturun?"
   ]
  },
  {
   "cell_type": "code",
   "execution_count": 85,
   "id": "9add54e9-8484-416c-a455-ea98a3613e94",
   "metadata": {},
   "outputs": [
    {
     "name": "stdout",
     "output_type": "stream",
     "text": [
      "[0. 1. 2. 3. 4. 5. 6. 7. 8. 9.]\n"
     ]
    }
   ],
   "source": [
    "def generate():\n",
    "    for x in range(10):\n",
    "        yield x\n",
    "Z = np.fromiter(generate(),dtype=float,count=-1)\n",
    "print(Z)"
   ]
  },
  {
   "cell_type": "markdown",
   "id": "e39711a8-0a18-4889-b194-0dc4f407d309",
   "metadata": {
    "jp-MarkdownHeadingCollapsed": true
   },
   "source": [
    "#### 39) Boyutu 10 olan ve 0 ile 1 arasında değerler içeren bir vektör oluşturun"
   ]
  },
  {
   "cell_type": "code",
   "execution_count": 87,
   "id": "e7b3ad09-dd46-4100-ba81-a79b3bdd7421",
   "metadata": {},
   "outputs": [
    {
     "name": "stdout",
     "output_type": "stream",
     "text": [
      "[0.09090909 0.18181818 0.27272727 0.36363636 0.45454545 0.54545455\n",
      " 0.63636364 0.72727273 0.81818182 0.90909091]\n"
     ]
    }
   ],
   "source": [
    "Z = np.linspace(0,1,11,endpoint=False)[1:]\n",
    "print(Z)"
   ]
  },
  {
   "cell_type": "markdown",
   "id": "ac1476c7-3ccc-46b5-b187-f2c01a483a70",
   "metadata": {
    "jp-MarkdownHeadingCollapsed": true
   },
   "source": [
    "#### 40) Boyutu 10 olan rastgele bir sıralı vektör oluşturun"
   ]
  },
  {
   "cell_type": "code",
   "execution_count": 89,
   "id": "c5e3f344-a6cd-4517-9d35-bc858e00a3cb",
   "metadata": {},
   "outputs": [
    {
     "name": "stdout",
     "output_type": "stream",
     "text": [
      "[0.13749507 0.16626432 0.42745077 0.44952634 0.5408469  0.60776262\n",
      " 0.61505219 0.640401   0.67478053 0.79190055]\n"
     ]
    }
   ],
   "source": [
    "Z = np.random.random(10)\n",
    "Z.sort()\n",
    "print(Z)"
   ]
  },
  {
   "cell_type": "markdown",
   "id": "239bef5c-4a65-47ba-a2cc-ce0884fe7fc5",
   "metadata": {
    "jp-MarkdownHeadingCollapsed": true
   },
   "source": [
    "#### 41) Küçük bir diziyi np.sum'dan daha hızlı nasıl toplarsınız? "
   ]
  },
  {
   "cell_type": "code",
   "execution_count": 90,
   "id": "37946bae-3db3-4beb-b1a5-e81cc9e18512",
   "metadata": {},
   "outputs": [
    {
     "data": {
      "text/plain": [
       "45"
      ]
     },
     "execution_count": 90,
     "metadata": {},
     "output_type": "execute_result"
    }
   ],
   "source": [
    "Z = np.arange(10)\n",
    "np.add.reduce(Z)"
   ]
  },
  {
   "cell_type": "markdown",
   "id": "289c7bc4-85a5-4fe9-b6ca-629a1d12044f",
   "metadata": {
    "jp-MarkdownHeadingCollapsed": true
   },
   "source": [
    "#### 42) Rastgele iki dizi olan A ve B'yi düşünün, eşit olup olmadıklarını kontrol edin"
   ]
  },
  {
   "cell_type": "code",
   "execution_count": 94,
   "id": "a6b83194-5e7e-42bc-9b34-371c243ddebb",
   "metadata": {},
   "outputs": [
    {
     "data": {
      "text/plain": [
       "False"
      ]
     },
     "execution_count": 94,
     "metadata": {},
     "output_type": "execute_result"
    }
   ],
   "source": [
    "A = np.random.randint(0,2,5)\n",
    "B = np.random.randint(0,2,5)\n",
    "\n",
    "equal = np.allclose(A,B)\n",
    "equal"
   ]
  },
  {
   "cell_type": "markdown",
   "id": "e8b0f083-a8f0-4326-b730-e60db5a80acb",
   "metadata": {
    "jp-MarkdownHeadingCollapsed": true
   },
   "source": [
    "#### 43) Herhangi bir diziyi değiştirilemez (salt okunur) yapın"
   ]
  },
  {
   "cell_type": "code",
   "execution_count": 95,
   "id": "d3aa5e20-ebbf-4aeb-84b7-d783b17ccbd2",
   "metadata": {},
   "outputs": [
    {
     "ename": "ValueError",
     "evalue": "assignment destination is read-only",
     "output_type": "error",
     "traceback": [
      "\u001b[1;31m---------------------------------------------------------------------------\u001b[0m",
      "\u001b[1;31mValueError\u001b[0m                                Traceback (most recent call last)",
      "Cell \u001b[1;32mIn[95], line 3\u001b[0m\n\u001b[0;32m      1\u001b[0m Z \u001b[38;5;241m=\u001b[39m np\u001b[38;5;241m.\u001b[39mzeros(\u001b[38;5;241m10\u001b[39m)\n\u001b[0;32m      2\u001b[0m Z\u001b[38;5;241m.\u001b[39mflags\u001b[38;5;241m.\u001b[39mwriteable \u001b[38;5;241m=\u001b[39m \u001b[38;5;28;01mFalse\u001b[39;00m\n\u001b[1;32m----> 3\u001b[0m Z[\u001b[38;5;241m0\u001b[39m] \u001b[38;5;241m=\u001b[39m \u001b[38;5;241m1\u001b[39m\n",
      "\u001b[1;31mValueError\u001b[0m: assignment destination is read-only"
     ]
    }
   ],
   "source": [
    "Z = np.zeros(10)\n",
    "Z.flags.writeable = False\n",
    "Z[0] = 1"
   ]
  },
  {
   "cell_type": "markdown",
   "id": "f88915eb-e645-4113-b931-7e4d9594e4c9",
   "metadata": {
    "jp-MarkdownHeadingCollapsed": true
   },
   "source": [
    "#### 44) Kartezyen koordinatları temsil eden rastgele bir 10x2 matrisini, kutupsal koordinatlara dönüştürün"
   ]
  },
  {
   "cell_type": "code",
   "execution_count": 96,
   "id": "ba60a270-2c0f-4b4d-95cf-a7dca2b48c16",
   "metadata": {},
   "outputs": [
    {
     "name": "stdout",
     "output_type": "stream",
     "text": [
      "[0.34507774 1.28201437 0.33888516 0.52592113 0.37895101 0.80084424\n",
      " 0.58357514 0.92143188 0.81806644 0.51203965]\n",
      "[0.24495805 0.75204194 1.06777577 1.27077259 0.39976788 1.15603486\n",
      " 1.30619071 0.0074211  1.53364986 0.10202429]\n"
     ]
    }
   ],
   "source": [
    "Z = np.random.random((10,2))\n",
    "X,Y = Z[:,0], Z[:,1]\n",
    "R = np.sqrt(X**2+Y**2)\n",
    "T = np.arctan2(Y,X)\n",
    "print(R)\n",
    "print(T)"
   ]
  },
  {
   "cell_type": "markdown",
   "id": "07c7e98b-6c76-44a4-b1b6-bbea0cb6da9f",
   "metadata": {
    "jp-MarkdownHeadingCollapsed": true
   },
   "source": [
    "#### 45) Boyutu 10 olan rastgele bir vektör oluşturun ve maksimum değerini 0 yapın"
   ]
  },
  {
   "cell_type": "code",
   "execution_count": 97,
   "id": "b1b7e96c-83c5-4107-9986-50cc42f319c6",
   "metadata": {},
   "outputs": [
    {
     "name": "stdout",
     "output_type": "stream",
     "text": [
      "[0.68024478 0.72788099 0.81576364 0.         0.36069907 0.05033544\n",
      " 0.41808269 0.39164582 0.774808   0.00486121]\n"
     ]
    }
   ],
   "source": [
    "Z = np.random.random(10)\n",
    "Z[Z.argmax()] = 0\n",
    "print(Z)"
   ]
  },
  {
   "cell_type": "markdown",
   "id": "44cb380c-ed93-4485-a161-4eeab77b2caf",
   "metadata": {
    "jp-MarkdownHeadingCollapsed": true
   },
   "source": [
    "#### 46) [0,1]x[0,1] alanını kaplayan x ve y koordinatlarına sahip bir yapılandırılmış dizi oluşturun"
   ]
  },
  {
   "cell_type": "code",
   "execution_count": 98,
   "id": "6f119cf6-af21-41a5-beee-1e15fd9a9426",
   "metadata": {},
   "outputs": [
    {
     "name": "stdout",
     "output_type": "stream",
     "text": [
      "[[(0.  , 0.  ) (0.25, 0.  ) (0.5 , 0.  ) (0.75, 0.  ) (1.  , 0.  )]\n",
      " [(0.  , 0.25) (0.25, 0.25) (0.5 , 0.25) (0.75, 0.25) (1.  , 0.25)]\n",
      " [(0.  , 0.5 ) (0.25, 0.5 ) (0.5 , 0.5 ) (0.75, 0.5 ) (1.  , 0.5 )]\n",
      " [(0.  , 0.75) (0.25, 0.75) (0.5 , 0.75) (0.75, 0.75) (1.  , 0.75)]\n",
      " [(0.  , 1.  ) (0.25, 1.  ) (0.5 , 1.  ) (0.75, 1.  ) (1.  , 1.  )]]\n"
     ]
    }
   ],
   "source": [
    "Z = np.zeros((5,5), [('x',float),('y',float)])\n",
    "Z['x'], Z['y'] = np.meshgrid(np.linspace(0,1,5),\n",
    "                             np.linspace(0,1,5))\n",
    "print(Z)"
   ]
  },
  {
   "cell_type": "markdown",
   "id": "e4466285-91a9-4df7-b422-8a419a09a9d6",
   "metadata": {
    "jp-MarkdownHeadingCollapsed": true
   },
   "source": [
    "#### 47) İki dizi verildiğinde, X ve Y, Cauchy matrisini oluşturun \n",
    "\n",
    "(Cij =1/(xi - yj))"
   ]
  },
  {
   "cell_type": "code",
   "execution_count": 99,
   "id": "7cd3e922-c56c-4251-9cc7-a4dbc479d60a",
   "metadata": {},
   "outputs": [
    {
     "name": "stdout",
     "output_type": "stream",
     "text": [
      "3638.1636371179666\n"
     ]
    }
   ],
   "source": [
    "X = np.arange(8)\n",
    "Y = X + 0.5\n",
    "C = 1.0 / np.subtract.outer(X, Y)\n",
    "print(np.linalg.det(C))"
   ]
  },
  {
   "cell_type": "markdown",
   "id": "90d6ce28-efc7-4313-a103-cb90bc629655",
   "metadata": {
    "jp-MarkdownHeadingCollapsed": true
   },
   "source": [
    "#### 48) Her numpy skaler türü için temsil edilebilir minimum ve maksimum değeri yazdırın"
   ]
  },
  {
   "cell_type": "code",
   "execution_count": 100,
   "id": "336d2aa3-3edd-46f7-b482-e1371f80cddb",
   "metadata": {},
   "outputs": [
    {
     "name": "stdout",
     "output_type": "stream",
     "text": [
      "-128\n",
      "127\n",
      "-2147483648\n",
      "2147483647\n",
      "-9223372036854775808\n",
      "9223372036854775807\n",
      "-3.4028235e+38\n",
      "3.4028235e+38\n",
      "1.1920929e-07\n",
      "-1.7976931348623157e+308\n",
      "1.7976931348623157e+308\n",
      "2.220446049250313e-16\n"
     ]
    }
   ],
   "source": [
    "for dtype in [np.int8, np.int32, np.int64]:\n",
    "   print(np.iinfo(dtype).min)\n",
    "   print(np.iinfo(dtype).max)\n",
    "for dtype in [np.float32, np.float64]:\n",
    "   print(np.finfo(dtype).min)\n",
    "   print(np.finfo(dtype).max)\n",
    "   print(np.finfo(dtype).eps)"
   ]
  },
  {
   "cell_type": "markdown",
   "id": "c6afa5fc-f67f-453c-9f8f-a1bbf0dc04d4",
   "metadata": {
    "jp-MarkdownHeadingCollapsed": true
   },
   "source": [
    "#### 49) Bir dizinin tüm değerlerini nasıl yazdırırsınız?"
   ]
  },
  {
   "cell_type": "code",
   "execution_count": 105,
   "id": "e7d8bf1a-01a9-4d15-844c-404da90b9de3",
   "metadata": {},
   "outputs": [
    {
     "data": {
      "text/plain": [
       "array([[0., 0., 0., 0., 0., 0., 0., 0., 0., 0., 0., 0., 0., 0., 0., 0.,\n",
       "        0., 0., 0., 0., 0., 0., 0., 0., 0., 0., 0., 0., 0., 0., 0., 0.,\n",
       "        0., 0., 0., 0., 0., 0., 0., 0.],\n",
       "       [0., 0., 0., 0., 0., 0., 0., 0., 0., 0., 0., 0., 0., 0., 0., 0.,\n",
       "        0., 0., 0., 0., 0., 0., 0., 0., 0., 0., 0., 0., 0., 0., 0., 0.,\n",
       "        0., 0., 0., 0., 0., 0., 0., 0.],\n",
       "       [0., 0., 0., 0., 0., 0., 0., 0., 0., 0., 0., 0., 0., 0., 0., 0.,\n",
       "        0., 0., 0., 0., 0., 0., 0., 0., 0., 0., 0., 0., 0., 0., 0., 0.,\n",
       "        0., 0., 0., 0., 0., 0., 0., 0.],\n",
       "       [0., 0., 0., 0., 0., 0., 0., 0., 0., 0., 0., 0., 0., 0., 0., 0.,\n",
       "        0., 0., 0., 0., 0., 0., 0., 0., 0., 0., 0., 0., 0., 0., 0., 0.,\n",
       "        0., 0., 0., 0., 0., 0., 0., 0.],\n",
       "       [0., 0., 0., 0., 0., 0., 0., 0., 0., 0., 0., 0., 0., 0., 0., 0.,\n",
       "        0., 0., 0., 0., 0., 0., 0., 0., 0., 0., 0., 0., 0., 0., 0., 0.,\n",
       "        0., 0., 0., 0., 0., 0., 0., 0.],\n",
       "       [0., 0., 0., 0., 0., 0., 0., 0., 0., 0., 0., 0., 0., 0., 0., 0.,\n",
       "        0., 0., 0., 0., 0., 0., 0., 0., 0., 0., 0., 0., 0., 0., 0., 0.,\n",
       "        0., 0., 0., 0., 0., 0., 0., 0.],\n",
       "       [0., 0., 0., 0., 0., 0., 0., 0., 0., 0., 0., 0., 0., 0., 0., 0.,\n",
       "        0., 0., 0., 0., 0., 0., 0., 0., 0., 0., 0., 0., 0., 0., 0., 0.,\n",
       "        0., 0., 0., 0., 0., 0., 0., 0.],\n",
       "       [0., 0., 0., 0., 0., 0., 0., 0., 0., 0., 0., 0., 0., 0., 0., 0.,\n",
       "        0., 0., 0., 0., 0., 0., 0., 0., 0., 0., 0., 0., 0., 0., 0., 0.,\n",
       "        0., 0., 0., 0., 0., 0., 0., 0.],\n",
       "       [0., 0., 0., 0., 0., 0., 0., 0., 0., 0., 0., 0., 0., 0., 0., 0.,\n",
       "        0., 0., 0., 0., 0., 0., 0., 0., 0., 0., 0., 0., 0., 0., 0., 0.,\n",
       "        0., 0., 0., 0., 0., 0., 0., 0.],\n",
       "       [0., 0., 0., 0., 0., 0., 0., 0., 0., 0., 0., 0., 0., 0., 0., 0.,\n",
       "        0., 0., 0., 0., 0., 0., 0., 0., 0., 0., 0., 0., 0., 0., 0., 0.,\n",
       "        0., 0., 0., 0., 0., 0., 0., 0.],\n",
       "       [0., 0., 0., 0., 0., 0., 0., 0., 0., 0., 0., 0., 0., 0., 0., 0.,\n",
       "        0., 0., 0., 0., 0., 0., 0., 0., 0., 0., 0., 0., 0., 0., 0., 0.,\n",
       "        0., 0., 0., 0., 0., 0., 0., 0.],\n",
       "       [0., 0., 0., 0., 0., 0., 0., 0., 0., 0., 0., 0., 0., 0., 0., 0.,\n",
       "        0., 0., 0., 0., 0., 0., 0., 0., 0., 0., 0., 0., 0., 0., 0., 0.,\n",
       "        0., 0., 0., 0., 0., 0., 0., 0.],\n",
       "       [0., 0., 0., 0., 0., 0., 0., 0., 0., 0., 0., 0., 0., 0., 0., 0.,\n",
       "        0., 0., 0., 0., 0., 0., 0., 0., 0., 0., 0., 0., 0., 0., 0., 0.,\n",
       "        0., 0., 0., 0., 0., 0., 0., 0.],\n",
       "       [0., 0., 0., 0., 0., 0., 0., 0., 0., 0., 0., 0., 0., 0., 0., 0.,\n",
       "        0., 0., 0., 0., 0., 0., 0., 0., 0., 0., 0., 0., 0., 0., 0., 0.,\n",
       "        0., 0., 0., 0., 0., 0., 0., 0.],\n",
       "       [0., 0., 0., 0., 0., 0., 0., 0., 0., 0., 0., 0., 0., 0., 0., 0.,\n",
       "        0., 0., 0., 0., 0., 0., 0., 0., 0., 0., 0., 0., 0., 0., 0., 0.,\n",
       "        0., 0., 0., 0., 0., 0., 0., 0.],\n",
       "       [0., 0., 0., 0., 0., 0., 0., 0., 0., 0., 0., 0., 0., 0., 0., 0.,\n",
       "        0., 0., 0., 0., 0., 0., 0., 0., 0., 0., 0., 0., 0., 0., 0., 0.,\n",
       "        0., 0., 0., 0., 0., 0., 0., 0.],\n",
       "       [0., 0., 0., 0., 0., 0., 0., 0., 0., 0., 0., 0., 0., 0., 0., 0.,\n",
       "        0., 0., 0., 0., 0., 0., 0., 0., 0., 0., 0., 0., 0., 0., 0., 0.,\n",
       "        0., 0., 0., 0., 0., 0., 0., 0.],\n",
       "       [0., 0., 0., 0., 0., 0., 0., 0., 0., 0., 0., 0., 0., 0., 0., 0.,\n",
       "        0., 0., 0., 0., 0., 0., 0., 0., 0., 0., 0., 0., 0., 0., 0., 0.,\n",
       "        0., 0., 0., 0., 0., 0., 0., 0.],\n",
       "       [0., 0., 0., 0., 0., 0., 0., 0., 0., 0., 0., 0., 0., 0., 0., 0.,\n",
       "        0., 0., 0., 0., 0., 0., 0., 0., 0., 0., 0., 0., 0., 0., 0., 0.,\n",
       "        0., 0., 0., 0., 0., 0., 0., 0.],\n",
       "       [0., 0., 0., 0., 0., 0., 0., 0., 0., 0., 0., 0., 0., 0., 0., 0.,\n",
       "        0., 0., 0., 0., 0., 0., 0., 0., 0., 0., 0., 0., 0., 0., 0., 0.,\n",
       "        0., 0., 0., 0., 0., 0., 0., 0.],\n",
       "       [0., 0., 0., 0., 0., 0., 0., 0., 0., 0., 0., 0., 0., 0., 0., 0.,\n",
       "        0., 0., 0., 0., 0., 0., 0., 0., 0., 0., 0., 0., 0., 0., 0., 0.,\n",
       "        0., 0., 0., 0., 0., 0., 0., 0.],\n",
       "       [0., 0., 0., 0., 0., 0., 0., 0., 0., 0., 0., 0., 0., 0., 0., 0.,\n",
       "        0., 0., 0., 0., 0., 0., 0., 0., 0., 0., 0., 0., 0., 0., 0., 0.,\n",
       "        0., 0., 0., 0., 0., 0., 0., 0.],\n",
       "       [0., 0., 0., 0., 0., 0., 0., 0., 0., 0., 0., 0., 0., 0., 0., 0.,\n",
       "        0., 0., 0., 0., 0., 0., 0., 0., 0., 0., 0., 0., 0., 0., 0., 0.,\n",
       "        0., 0., 0., 0., 0., 0., 0., 0.],\n",
       "       [0., 0., 0., 0., 0., 0., 0., 0., 0., 0., 0., 0., 0., 0., 0., 0.,\n",
       "        0., 0., 0., 0., 0., 0., 0., 0., 0., 0., 0., 0., 0., 0., 0., 0.,\n",
       "        0., 0., 0., 0., 0., 0., 0., 0.],\n",
       "       [0., 0., 0., 0., 0., 0., 0., 0., 0., 0., 0., 0., 0., 0., 0., 0.,\n",
       "        0., 0., 0., 0., 0., 0., 0., 0., 0., 0., 0., 0., 0., 0., 0., 0.,\n",
       "        0., 0., 0., 0., 0., 0., 0., 0.],\n",
       "       [0., 0., 0., 0., 0., 0., 0., 0., 0., 0., 0., 0., 0., 0., 0., 0.,\n",
       "        0., 0., 0., 0., 0., 0., 0., 0., 0., 0., 0., 0., 0., 0., 0., 0.,\n",
       "        0., 0., 0., 0., 0., 0., 0., 0.],\n",
       "       [0., 0., 0., 0., 0., 0., 0., 0., 0., 0., 0., 0., 0., 0., 0., 0.,\n",
       "        0., 0., 0., 0., 0., 0., 0., 0., 0., 0., 0., 0., 0., 0., 0., 0.,\n",
       "        0., 0., 0., 0., 0., 0., 0., 0.],\n",
       "       [0., 0., 0., 0., 0., 0., 0., 0., 0., 0., 0., 0., 0., 0., 0., 0.,\n",
       "        0., 0., 0., 0., 0., 0., 0., 0., 0., 0., 0., 0., 0., 0., 0., 0.,\n",
       "        0., 0., 0., 0., 0., 0., 0., 0.],\n",
       "       [0., 0., 0., 0., 0., 0., 0., 0., 0., 0., 0., 0., 0., 0., 0., 0.,\n",
       "        0., 0., 0., 0., 0., 0., 0., 0., 0., 0., 0., 0., 0., 0., 0., 0.,\n",
       "        0., 0., 0., 0., 0., 0., 0., 0.],\n",
       "       [0., 0., 0., 0., 0., 0., 0., 0., 0., 0., 0., 0., 0., 0., 0., 0.,\n",
       "        0., 0., 0., 0., 0., 0., 0., 0., 0., 0., 0., 0., 0., 0., 0., 0.,\n",
       "        0., 0., 0., 0., 0., 0., 0., 0.],\n",
       "       [0., 0., 0., 0., 0., 0., 0., 0., 0., 0., 0., 0., 0., 0., 0., 0.,\n",
       "        0., 0., 0., 0., 0., 0., 0., 0., 0., 0., 0., 0., 0., 0., 0., 0.,\n",
       "        0., 0., 0., 0., 0., 0., 0., 0.],\n",
       "       [0., 0., 0., 0., 0., 0., 0., 0., 0., 0., 0., 0., 0., 0., 0., 0.,\n",
       "        0., 0., 0., 0., 0., 0., 0., 0., 0., 0., 0., 0., 0., 0., 0., 0.,\n",
       "        0., 0., 0., 0., 0., 0., 0., 0.],\n",
       "       [0., 0., 0., 0., 0., 0., 0., 0., 0., 0., 0., 0., 0., 0., 0., 0.,\n",
       "        0., 0., 0., 0., 0., 0., 0., 0., 0., 0., 0., 0., 0., 0., 0., 0.,\n",
       "        0., 0., 0., 0., 0., 0., 0., 0.],\n",
       "       [0., 0., 0., 0., 0., 0., 0., 0., 0., 0., 0., 0., 0., 0., 0., 0.,\n",
       "        0., 0., 0., 0., 0., 0., 0., 0., 0., 0., 0., 0., 0., 0., 0., 0.,\n",
       "        0., 0., 0., 0., 0., 0., 0., 0.],\n",
       "       [0., 0., 0., 0., 0., 0., 0., 0., 0., 0., 0., 0., 0., 0., 0., 0.,\n",
       "        0., 0., 0., 0., 0., 0., 0., 0., 0., 0., 0., 0., 0., 0., 0., 0.,\n",
       "        0., 0., 0., 0., 0., 0., 0., 0.],\n",
       "       [0., 0., 0., 0., 0., 0., 0., 0., 0., 0., 0., 0., 0., 0., 0., 0.,\n",
       "        0., 0., 0., 0., 0., 0., 0., 0., 0., 0., 0., 0., 0., 0., 0., 0.,\n",
       "        0., 0., 0., 0., 0., 0., 0., 0.],\n",
       "       [0., 0., 0., 0., 0., 0., 0., 0., 0., 0., 0., 0., 0., 0., 0., 0.,\n",
       "        0., 0., 0., 0., 0., 0., 0., 0., 0., 0., 0., 0., 0., 0., 0., 0.,\n",
       "        0., 0., 0., 0., 0., 0., 0., 0.],\n",
       "       [0., 0., 0., 0., 0., 0., 0., 0., 0., 0., 0., 0., 0., 0., 0., 0.,\n",
       "        0., 0., 0., 0., 0., 0., 0., 0., 0., 0., 0., 0., 0., 0., 0., 0.,\n",
       "        0., 0., 0., 0., 0., 0., 0., 0.],\n",
       "       [0., 0., 0., 0., 0., 0., 0., 0., 0., 0., 0., 0., 0., 0., 0., 0.,\n",
       "        0., 0., 0., 0., 0., 0., 0., 0., 0., 0., 0., 0., 0., 0., 0., 0.,\n",
       "        0., 0., 0., 0., 0., 0., 0., 0.],\n",
       "       [0., 0., 0., 0., 0., 0., 0., 0., 0., 0., 0., 0., 0., 0., 0., 0.,\n",
       "        0., 0., 0., 0., 0., 0., 0., 0., 0., 0., 0., 0., 0., 0., 0., 0.,\n",
       "        0., 0., 0., 0., 0., 0., 0., 0.]])"
      ]
     },
     "execution_count": 105,
     "metadata": {},
     "output_type": "execute_result"
    }
   ],
   "source": [
    "np.set_printoptions(threshold=float(\"inf\"))\n",
    "Z = np.zeros((40,40))\n",
    "Z"
   ]
  },
  {
   "cell_type": "markdown",
   "id": "372f7e25-0597-4112-b8ad-b9c7f4a0f499",
   "metadata": {
    "jp-MarkdownHeadingCollapsed": true
   },
   "source": [
    "#### 50) Bir vektörde (belirli bir skaler) en yakın değeri nasıl bulursunuz?"
   ]
  },
  {
   "cell_type": "code",
   "execution_count": 106,
   "id": "fb157522-137f-4666-94af-3f82c843e174",
   "metadata": {},
   "outputs": [
    {
     "name": "stdout",
     "output_type": "stream",
     "text": [
      "12\n"
     ]
    }
   ],
   "source": [
    "Z = np.arange(100)\n",
    "v = np.random.uniform(0,100)\n",
    "index = (np.abs(Z-v)).argmin()\n",
    "print(Z[index])"
   ]
  },
  {
   "cell_type": "markdown",
   "id": "a12b20b1-d510-4f18-b0e2-31149427c4eb",
   "metadata": {
    "jp-MarkdownHeadingCollapsed": true
   },
   "source": [
    "#### 51) Bir pozisyonu (x,y) ve bir rengi (r,g,b) temsil eden yapılandırılmış bir dizi oluşturun"
   ]
  },
  {
   "cell_type": "code",
   "execution_count": 16,
   "id": "9cb006e0-ed45-4a6b-8518-ae562882c9bf",
   "metadata": {},
   "outputs": [
    {
     "name": "stdout",
     "output_type": "stream",
     "text": [
      "[((0., 1.), (255,   0,   0)) ((2., 3.), (  0, 255,   0))\n",
      " ((4., 5.), (  0,   0, 255))]\n",
      "Pozisyonlar: [(0., 1.) (2., 3.) (4., 5.)]\n",
      "Renkler: [(255,   0,   0) (  0, 255,   0) (  0,   0, 255)]\n"
     ]
    }
   ],
   "source": [
    "dtype = np.dtype([('position', [('x', float), ('y', float)]), \n",
    "                  ('color', [('r', int), ('g', int), ('b', int)])])\n",
    "\n",
    "# Yapılandırılmış dizi oluşturma\n",
    "data = np.array([((0.0, 1.0), (255, 0, 0)),\n",
    "                 ((2.0, 3.0), (0, 255, 0)),\n",
    "                 ((4.0, 5.0), (0, 0, 255))], dtype=dtype)\n",
    "\n",
    "print(data)\n",
    "print(\"Pozisyonlar:\", data['position'])\n",
    "print(\"Renkler:\", data['color'])"
   ]
  },
  {
   "cell_type": "markdown",
   "id": "b334dda8-9196-4688-b490-2104783b3640",
   "metadata": {
    "jp-MarkdownHeadingCollapsed": true
   },
   "source": [
    "#### 52) Koordinatları temsil eden (100,2) şekline sahip rastgele bir vektör düşünün, nokta noktaya mesafeleri bulun"
   ]
  },
  {
   "cell_type": "code",
   "execution_count": 109,
   "id": "c345312b-6c44-4561-b337-7488c30dd7e7",
   "metadata": {},
   "outputs": [
    {
     "name": "stdout",
     "output_type": "stream",
     "text": [
      "[[0.         0.80925678 0.56621591 0.55253001 0.11005035 0.26805241\n",
      "  0.24661574 0.56035384 0.65674181 0.1477217 ]\n",
      " [0.80925678 0.         0.72050332 0.27203106 0.75441769 0.98146005\n",
      "  1.05470998 0.24897675 0.45628199 0.73376072]\n",
      " [0.56621591 0.72050332 0.         0.4942533  0.45641451 0.50416638\n",
      "  0.7392247  0.56882113 0.2871754  0.41940603]\n",
      " [0.55253001 0.27203106 0.4942533  0.         0.4873911  0.70981172\n",
      "  0.79909789 0.08023454 0.29604799 0.46439009]\n",
      " [0.11005035 0.75441769 0.45641451 0.4873911  0.         0.24557691\n",
      "  0.32801042 0.50919111 0.55654691 0.03793802]\n",
      " [0.26805241 0.98146005 0.50416638 0.70981172 0.24557691 0.\n",
      "  0.27075592 0.74288571 0.70380585 0.25395978]\n",
      " [0.24661574 1.05470998 0.7392247  0.79909789 0.32801042 0.27075592\n",
      "  0.         0.80573839 0.88219399 0.36209343]\n",
      " [0.56035384 0.24897675 0.56882113 0.08023454 0.50919111 0.74288571\n",
      "  0.80573839 0.         0.37563609 0.49118753]\n",
      " [0.65674181 0.45628199 0.2871754  0.29604799 0.55654691 0.70380585\n",
      "  0.88219399 0.37563609 0.         0.52077626]\n",
      " [0.1477217  0.73376072 0.41940603 0.46439009 0.03793802 0.25395978\n",
      "  0.36209343 0.49118753 0.52077626 0.        ]]\n"
     ]
    }
   ],
   "source": [
    "Z = np.random.random((10,2))\n",
    "X,Y = np.atleast_2d(Z[:,0], Z[:,1])\n",
    "D = np.sqrt( (X-X.T)**2 + (Y-Y.T)**2)\n",
    "\n",
    "\n",
    "#  scipy ile bu işlem daha hızlı olur\n",
    "import scipy\n",
    "# Gavin Heverly-Coulson'e teşekkürler! \n",
    "import scipy.spatial\n",
    "\n",
    "Z = np.random.random((10,2))\n",
    "D = scipy.spatial.distance.cdist(Z,Z)\n",
    "print(D)"
   ]
  },
  {
   "cell_type": "markdown",
   "id": "f8d14838-7d34-4caf-a008-5b30c435a9a9",
   "metadata": {
    "jp-MarkdownHeadingCollapsed": true
   },
   "source": [
    "#### 53) 32 bitlik bir float dizisini yerinde 32 bitlik bir tamsayıya nasıl dönüştürürsünüz?"
   ]
  },
  {
   "cell_type": "code",
   "execution_count": 113,
   "id": "a9d77fe7-62ec-4a5f-9ca0-191e4e87010f",
   "metadata": {},
   "outputs": [
    {
     "name": "stdout",
     "output_type": "stream",
     "text": [
      "[67 83 31 29 65 55  9 96  7 75]\n"
     ]
    }
   ],
   "source": [
    "# Teşekkürler Vikas! (https://stackoverflow.com/a/10622758/5989906)\n",
    "# & unutbu (https://stackoverflow.com/a/4396247/5989906)\n",
    "Z = (np.random.rand(10)*100).astype(np.float32)\n",
    "Y = Z.view(np.int32)\n",
    "Y[:] = Z\n",
    "print(Y)"
   ]
  },
  {
   "cell_type": "markdown",
   "id": "b42d6406-ee22-4b12-a6c9-4803ebe6b595",
   "metadata": {
    "jp-MarkdownHeadingCollapsed": true
   },
   "source": [
    "#### 54) Aşağıdaki dosyayı nasıl okursunuz?\n",
    "\n",
    "```\n",
    "1, 2, 3, 4, 5\n",
    "6,  ,  , 7, 8\n",
    " ,  , 9,10,11\n",
    "```"
   ]
  },
  {
   "cell_type": "code",
   "execution_count": 18,
   "id": "01754545-ed1c-4f50-88bf-11176fefc09b",
   "metadata": {},
   "outputs": [
    {
     "name": "stdout",
     "output_type": "stream",
     "text": [
      "[[ 1.  2.  3.  4.  5.]\n",
      " [ 6. nan nan  7.  8.]\n",
      " [nan nan  9. 10. 11.]]\n"
     ]
    }
   ],
   "source": [
    "from io import StringIO\n",
    "\n",
    "# Örnek dosya içeriği\n",
    "data = \"\"\"1, 2, 3, 4, 5\n",
    "6,  ,  , 7, 8\n",
    " ,  , 9,10,11\"\"\"\n",
    "\n",
    "# StringIO kullanarak dosya benzeri bir nesne oluşturma\n",
    "file_like_object = StringIO(data)\n",
    "\n",
    "# Dosyayı okuma\n",
    "array = np.genfromtxt(file_like_object, delimiter=',', dtype=float)\n",
    "\n",
    "print(array)"
   ]
  },
  {
   "cell_type": "markdown",
   "id": "11bfc8ef-c480-4edb-bfcf-e60a4e325014",
   "metadata": {
    "jp-MarkdownHeadingCollapsed": true
   },
   "source": [
    "#### 55) Numpy dizileri için enumerate'in karşılığı nedir?"
   ]
  },
  {
   "cell_type": "code",
   "execution_count": 114,
   "id": "ef561b4a-4dc7-4907-8eb9-1ff055ab7b98",
   "metadata": {},
   "outputs": [
    {
     "name": "stdout",
     "output_type": "stream",
     "text": [
      "(0, 0) 0\n",
      "(0, 1) 1\n",
      "(0, 2) 2\n",
      "(1, 0) 3\n",
      "(1, 1) 4\n",
      "(1, 2) 5\n",
      "(2, 0) 6\n",
      "(2, 1) 7\n",
      "(2, 2) 8\n",
      "(0, 0) 0\n",
      "(0, 1) 1\n",
      "(0, 2) 2\n",
      "(1, 0) 3\n",
      "(1, 1) 4\n",
      "(1, 2) 5\n",
      "(2, 0) 6\n",
      "(2, 1) 7\n",
      "(2, 2) 8\n"
     ]
    }
   ],
   "source": [
    "Z = np.arange(9).reshape(3,3)\n",
    "for index, value in np.ndenumerate(Z):\n",
    "    print(index, value)\n",
    "for index in np.ndindex(Z.shape):\n",
    "    print(index, Z[index])"
   ]
  },
  {
   "cell_type": "markdown",
   "id": "de936cfc-e919-462c-ac0d-49fa607142f7",
   "metadata": {
    "jp-MarkdownHeadingCollapsed": true
   },
   "source": [
    "#### 56) Genel bir 2D Gauss benzeri dizi oluşturun"
   ]
  },
  {
   "cell_type": "code",
   "execution_count": 115,
   "id": "316c67ee-99a6-488d-a665-eefb4bb2f127",
   "metadata": {},
   "outputs": [
    {
     "name": "stdout",
     "output_type": "stream",
     "text": [
      "[[0.36787944 0.44822088 0.51979489 0.57375342 0.60279818 0.60279818\n",
      "  0.57375342 0.51979489 0.44822088 0.36787944]\n",
      " [0.44822088 0.54610814 0.63331324 0.69905581 0.73444367 0.73444367\n",
      "  0.69905581 0.63331324 0.54610814 0.44822088]\n",
      " [0.51979489 0.63331324 0.73444367 0.81068432 0.85172308 0.85172308\n",
      "  0.81068432 0.73444367 0.63331324 0.51979489]\n",
      " [0.57375342 0.69905581 0.81068432 0.89483932 0.9401382  0.9401382\n",
      "  0.89483932 0.81068432 0.69905581 0.57375342]\n",
      " [0.60279818 0.73444367 0.85172308 0.9401382  0.98773022 0.98773022\n",
      "  0.9401382  0.85172308 0.73444367 0.60279818]\n",
      " [0.60279818 0.73444367 0.85172308 0.9401382  0.98773022 0.98773022\n",
      "  0.9401382  0.85172308 0.73444367 0.60279818]\n",
      " [0.57375342 0.69905581 0.81068432 0.89483932 0.9401382  0.9401382\n",
      "  0.89483932 0.81068432 0.69905581 0.57375342]\n",
      " [0.51979489 0.63331324 0.73444367 0.81068432 0.85172308 0.85172308\n",
      "  0.81068432 0.73444367 0.63331324 0.51979489]\n",
      " [0.44822088 0.54610814 0.63331324 0.69905581 0.73444367 0.73444367\n",
      "  0.69905581 0.63331324 0.54610814 0.44822088]\n",
      " [0.36787944 0.44822088 0.51979489 0.57375342 0.60279818 0.60279818\n",
      "  0.57375342 0.51979489 0.44822088 0.36787944]]\n"
     ]
    }
   ],
   "source": [
    "X, Y = np.meshgrid(np.linspace(-1,1,10), np.linspace(-1,1,10))\n",
    "D = np.sqrt(X*X+Y*Y)\n",
    "sigma, mu = 1.0, 0.0\n",
    "G = np.exp(-( (D-mu)**2 / ( 2.0 * sigma**2 ) ) )\n",
    "print(G)"
   ]
  },
  {
   "cell_type": "markdown",
   "id": "bd390a0b-b206-4333-add5-123b0ee7b861",
   "metadata": {
    "jp-MarkdownHeadingCollapsed": true
   },
   "source": [
    "#### 57) Bir 2D diziye rastgele b elemanını nasıl yerleştirirsiniz?"
   ]
  },
  {
   "cell_type": "code",
   "execution_count": 28,
   "id": "8bf200a3-53fd-40c3-8ebd-3fd1acd72243",
   "metadata": {},
   "outputs": [
    {
     "name": "stdout",
     "output_type": "stream",
     "text": [
      "[[ 0  0 56  0 56  0]\n",
      " [ 0  0  0  0  0  0]\n",
      " [ 0  0  0  0  0  0]\n",
      " [ 0  0  0  0  0  0]\n",
      " [56  0  0  0  0  0]\n",
      " [ 0  0  0  0  0  0]]\n"
     ]
    }
   ],
   "source": [
    "array = np.zeros((6, 6), dtype=int)\n",
    "n = array.size\n",
    "b = 56\n",
    "\n",
    "indices = np.random.choice(n, 3, replace=False)\n",
    "\n",
    "np.put(array, indices, b)\n",
    "\n",
    "print(array)"
   ]
  },
  {
   "cell_type": "markdown",
   "id": "fbc28999-30e6-4337-96f4-2fe0a71338f7",
   "metadata": {
    "jp-MarkdownHeadingCollapsed": true
   },
   "source": [
    "#### 58) Bir matrisin her bir satırının ortalamasını nasıl çıkarırsınız?"
   ]
  },
  {
   "cell_type": "code",
   "execution_count": 121,
   "id": "1ec80172-12ed-4f62-9f85-740aca9770c4",
   "metadata": {},
   "outputs": [
    {
     "name": "stdout",
     "output_type": "stream",
     "text": [
      "[[ 0.18557788  0.40521387 -0.35338599  0.32018128  0.23793131 -0.04176217\n",
      "   0.35205037 -0.45517056 -0.41288837 -0.23774762]\n",
      " [-0.29914511  0.09235389  0.25299118  0.17159231  0.08814452  0.15577847\n",
      "  -0.24358521 -0.08010014  0.41321075 -0.55124067]\n",
      " [-0.47101888 -0.48408073  0.35995204  0.25401575  0.16002962 -0.10947186\n",
      "   0.38101518  0.1216929   0.03678442 -0.24891845]\n",
      " [ 0.41165458 -0.03727648 -0.47444964  0.0978364   0.04010538 -0.17788042\n",
      "   0.46714951 -0.00647475  0.02822639 -0.34889097]\n",
      " [-0.34856416  0.05048328 -0.08490035 -0.2808731   0.32335143 -0.02933769\n",
      "   0.24336856  0.20928793 -0.18385515  0.10103923]]\n"
     ]
    }
   ],
   "source": [
    "X = np.random.rand(5, 10)\n",
    "Y = X - X.mean(axis=1, keepdims=True)\n",
    "print(Y)"
   ]
  },
  {
   "cell_type": "markdown",
   "id": "f792d8ec-0ae5-4c54-acb4-af1f232b5072",
   "metadata": {
    "jp-MarkdownHeadingCollapsed": true
   },
   "source": [
    "#### 59) Bir diziyi n'inci sütuna göre nasıl sıralarsınız?"
   ]
  },
  {
   "cell_type": "code",
   "execution_count": 122,
   "id": "f0e37628-b3c9-4182-abb9-465119b64be4",
   "metadata": {},
   "outputs": [
    {
     "name": "stdout",
     "output_type": "stream",
     "text": [
      "[[4 1 2]\n",
      " [9 6 2]\n",
      " [6 9 4]]\n",
      "[[4 1 2]\n",
      " [9 6 2]\n",
      " [6 9 4]]\n"
     ]
    }
   ],
   "source": [
    "Z = np.random.randint(0,10,(3,3))\n",
    "print(Z)\n",
    "print(Z[Z[:,1].argsort()])"
   ]
  },
  {
   "cell_type": "markdown",
   "id": "5ba6e6ee-12e2-4826-8550-b1f20fbd8bab",
   "metadata": {
    "jp-MarkdownHeadingCollapsed": true
   },
   "source": [
    "#### 60) Belirli bir 2D dizide boş sütunlar olup olmadığını nasıl anlarsınız?"
   ]
  },
  {
   "cell_type": "code",
   "execution_count": 123,
   "id": "486855a8-ee3b-4957-8211-cd3509a58002",
   "metadata": {},
   "outputs": [
    {
     "name": "stdout",
     "output_type": "stream",
     "text": [
      "False\n",
      "[False False  True]\n"
     ]
    }
   ],
   "source": [
    "Z = np.random.randint(0,3,(3,10))\n",
    "print((~Z.any(axis=0)).any())\n",
    "\n",
    "# null : np.nan\n",
    "Z=np.array([\n",
    "    [0,1,np.nan],\n",
    "    [1,2,np.nan],\n",
    "    [4,5,np.nan]\n",
    "])\n",
    "print(np.isnan(Z).all(axis=0))"
   ]
  },
  {
   "cell_type": "markdown",
   "id": "2fa238bc-5128-4671-be27-6ddcf39be641",
   "metadata": {
    "jp-MarkdownHeadingCollapsed": true
   },
   "source": [
    "#### 61) Bir dizideki belirli bir değere en yakın olan değeri nasıl bulursunuz?"
   ]
  },
  {
   "cell_type": "code",
   "execution_count": 124,
   "id": "a2667ebb-bcb8-4dbd-b7b6-77128156c261",
   "metadata": {},
   "outputs": [
    {
     "name": "stdout",
     "output_type": "stream",
     "text": [
      "0.468765277101151\n"
     ]
    }
   ],
   "source": [
    "Z = np.random.uniform(0,1,10)\n",
    "z = 0.5\n",
    "m = Z.flat[np.abs(Z - z).argmin()]\n",
    "print(m)"
   ]
  },
  {
   "cell_type": "markdown",
   "id": "c90d5fd0-b1c2-4b98-8d49-7e19bbe90908",
   "metadata": {
    "jp-MarkdownHeadingCollapsed": true
   },
   "source": [
    "#### 62) (1,3) ve (3,1) şekline sahip iki dizi düşünün, toplamlarını bir iteratör kullanarak nasıl hesaplarsınız?"
   ]
  },
  {
   "cell_type": "code",
   "execution_count": 125,
   "id": "35e2aaf8-0bf8-4f9b-9c39-13aad1b3b0fe",
   "metadata": {},
   "outputs": [
    {
     "name": "stdout",
     "output_type": "stream",
     "text": [
      "[[0 1 2]\n",
      " [1 2 3]\n",
      " [2 3 4]]\n"
     ]
    }
   ],
   "source": [
    "A = np.arange(3).reshape(3,1)\n",
    "B = np.arange(3).reshape(1,3)\n",
    "it = np.nditer([A,B,None])\n",
    "for x,y,z in it: z[...] = x + y\n",
    "print(it.operands[2])"
   ]
  },
  {
   "cell_type": "markdown",
   "id": "dc67bc54-4489-4d5c-be23-656fe63cd0f8",
   "metadata": {
    "jp-MarkdownHeadingCollapsed": true
   },
   "source": [
    "#### 63) Bir ad özniteliğine sahip dizi sınıfı oluşturun"
   ]
  },
  {
   "cell_type": "code",
   "execution_count": 126,
   "id": "a1de73c2-95ce-45e2-b532-9e0f10f0ef0f",
   "metadata": {},
   "outputs": [
    {
     "name": "stdout",
     "output_type": "stream",
     "text": [
      "range_10\n"
     ]
    }
   ],
   "source": [
    "class NamedArray(np.ndarray):\n",
    "    def __new__(cls, array, name=\"no name\"):\n",
    "        obj = np.asarray(array).view(cls)\n",
    "        obj.name = name\n",
    "        return obj\n",
    "    def __array_finalize__(self, obj):\n",
    "        if obj is None: return\n",
    "        self.name = getattr(obj, 'name', \"no name\")\n",
    "\n",
    "Z = NamedArray(np.arange(10), \"range_10\")\n",
    "print (Z.name)"
   ]
  },
  {
   "cell_type": "markdown",
   "id": "b9bd6a8a-fed5-454e-8c3c-4140682cc2e6",
   "metadata": {
    "jp-MarkdownHeadingCollapsed": true
   },
   "source": [
    "#### 64) Belirli bir vektörü düşünün, tekrarlanan dizinlere dikkat ederek ikinci bir vektör tarafından dizinlenen her elemana 1 ekleyin\n"
   ]
  },
  {
   "cell_type": "code",
   "execution_count": 127,
   "id": "b350635e-c14d-4300-8bb8-2f9ca61a13f2",
   "metadata": {},
   "outputs": [
    {
     "name": "stdout",
     "output_type": "stream",
     "text": [
      "[3. 2. 2. 1. 3. 2. 4. 6. 2. 5.]\n"
     ]
    }
   ],
   "source": [
    "Z = np.ones(10)\n",
    "I = np.random.randint(0,len(Z),20)\n",
    "Z += np.bincount(I, minlength=len(Z))\n",
    "print(Z)"
   ]
  },
  {
   "cell_type": "markdown",
   "id": "0b05f538-dad5-4c04-a6dd-5c8da0268a85",
   "metadata": {
    "jp-MarkdownHeadingCollapsed": true
   },
   "source": [
    "#### 65) Bir vektörün (X) elemanlarını bir dizine dayalı olarak bir diziye (F) nasıl biriktirirsiniz? \n"
   ]
  },
  {
   "cell_type": "code",
   "execution_count": 128,
   "id": "75321875-fe2d-4cf2-b1de-9ed082491019",
   "metadata": {},
   "outputs": [
    {
     "name": "stdout",
     "output_type": "stream",
     "text": [
      "[0. 7. 0. 6. 5. 0. 0. 0. 0. 3.]\n"
     ]
    }
   ],
   "source": [
    "X = [1,2,3,4,5,6]\n",
    "I = [1,3,9,3,4,1]\n",
    "F = np.bincount(I,X)\n",
    "print(F)"
   ]
  },
  {
   "cell_type": "markdown",
   "id": "9b472ffc-c8ea-4f90-8e43-511263e978d7",
   "metadata": {
    "jp-MarkdownHeadingCollapsed": true
   },
   "source": [
    "#### 66) (dtype=ubyte) olan (w,h,3) şekline sahip bir görüntüyü düşünün, benzersiz renklerin sayısını hesaplayın\n"
   ]
  },
  {
   "cell_type": "code",
   "execution_count": 129,
   "id": "1617accd-01df-4019-a451-60f056529d2f",
   "metadata": {},
   "outputs": [
    {
     "name": "stdout",
     "output_type": "stream",
     "text": [
      "64\n"
     ]
    }
   ],
   "source": [
    "w, h = 256, 256\n",
    "I = np.random.randint(0, 4, (h, w, 3)).astype(np.ubyte)\n",
    "colors = np.unique(I.reshape(-1, 3), axis=0)\n",
    "n = len(colors)\n",
    "print(n)"
   ]
  },
  {
   "cell_type": "markdown",
   "id": "20a6203b-df20-4cb3-98dd-6cc2a99f14a2",
   "metadata": {
    "jp-MarkdownHeadingCollapsed": true
   },
   "source": [
    "#### 67) Dört boyutlu bir diziyi düşünün, son iki eksende toplamı nasıl alırsınız? \n"
   ]
  },
  {
   "cell_type": "code",
   "execution_count": 42,
   "id": "bdc528a2-29ae-42ba-b812-d31098a5d593",
   "metadata": {},
   "outputs": [
    {
     "name": "stdout",
     "output_type": "stream",
     "text": [
      "[[16.63117963 13.24318141 15.1762028  16.94451449]\n",
      " [15.17382519 14.43044739 14.57405564 17.85754662]\n",
      " [17.38605141 17.83893671 16.89300041 14.31984442]]\n"
     ]
    }
   ],
   "source": [
    "array = np.random.random((3, 4, 5, 6))\n",
    "sum_result = np.sum(array, axis=(-2, -1))\n",
    "print(sum_result)"
   ]
  },
  {
   "cell_type": "markdown",
   "id": "728cc731-8e09-47aa-b198-13858afa8d4c",
   "metadata": {
    "jp-MarkdownHeadingCollapsed": true
   },
   "source": [
    "#### 68) Bir boyutlu bir vektör D oluşturun; alt kümelerin ortalamalarını, alt kümeleri tanımlayan aynı boyutta bir vektör S kullanarak nasıl hesaplayabilirsiniz? \n"
   ]
  },
  {
   "cell_type": "code",
   "execution_count": 43,
   "id": "9af768c6-0fdc-4291-8ed4-af289b85c947",
   "metadata": {},
   "outputs": [
    {
     "name": "stdout",
     "output_type": "stream",
     "text": [
      "[5. 6.]\n"
     ]
    }
   ],
   "source": [
    "\n",
    "D = np.array([1, 2, 3, 4, 5, 6, 7, 8, 9, 10])\n",
    "S = np.array([0, 1, 0, 1, 0, 1, 0, 1, 0, 1])\n",
    "\n",
    "# Benzersiz alt küme indekslerinin sayısı kadar bir diziyi np.bincount ile oluşturun\n",
    "sum_of_subsets = np.bincount(S, weights=D)\n",
    "count_of_subsets = np.bincount(S)\n",
    "\n",
    "# Alt kümelerin ortalamalarını hesaplayın\n",
    "mean_of_subsets = sum_of_subsets / count_of_subsets\n",
    "\n",
    "print(mean_of_subsets)\n"
   ]
  },
  {
   "cell_type": "markdown",
   "id": "d35e8517-8a3a-4865-bbbb-689492579a66",
   "metadata": {
    "jp-MarkdownHeadingCollapsed": true
   },
   "source": [
    "#### 69) Nokta çarpımının köşegenini nasıl alırsınız? "
   ]
  },
  {
   "cell_type": "code",
   "execution_count": 45,
   "id": "218c4f35-192b-4567-a82c-abe3c8743d2a",
   "metadata": {},
   "outputs": [
    {
     "name": "stdout",
     "output_type": "stream",
     "text": [
      "Matris A:\n",
      " [[0.03648432 0.45126125 0.14427444]\n",
      " [0.19323837 0.42659287 0.90803862]\n",
      " [0.30296667 0.16236492 0.48169674]]\n",
      "Matris B:\n",
      " [[0.12409675 0.70103653 0.38985543]\n",
      " [0.56842437 0.93340757 0.09168922]\n",
      " [0.60320105 0.48235651 0.15602869]]\n",
      "Diyagonal elemanlar: [0.34806197 0.97165052 0.20815883]\n"
     ]
    }
   ],
   "source": [
    "A = np.random.rand(3, 3)\n",
    "B = np.random.rand(3, 3)\n",
    "\n",
    "# Nokta çarpımının köşegenini hesaplama\n",
    "diagonal_elements = np.einsum('ij,ji->i', A, B)\n",
    "\n",
    "print(\"Matris A:\\n\", A)\n",
    "print(\"Matris B:\\n\", B)\n",
    "print(\"Diyagonal elemanlar:\", diagonal_elements)"
   ]
  },
  {
   "cell_type": "markdown",
   "id": "e978d58c-31f0-47e0-9259-e41dc5d17223",
   "metadata": {
    "jp-MarkdownHeadingCollapsed": true
   },
   "source": [
    "#### 70) [1, 2, 3, 4, 5] vektörünü düşünün, her bir değerin arasına 3 ardışık sıfır ekleyerek yeni bir vektör nasıl oluşturursunuz? \r\n"
   ]
  },
  {
   "cell_type": "code",
   "execution_count": 46,
   "id": "18612e43-572c-458d-85f4-863382b5c285",
   "metadata": {},
   "outputs": [
    {
     "name": "stdout",
     "output_type": "stream",
     "text": [
      "[1. 0. 0. 0. 2. 0. 0. 0. 3. 0. 0. 0. 4. 0. 0. 0. 5.]\n"
     ]
    }
   ],
   "source": [
    "Z = np.array([1,2,3,4,5])\n",
    "nz = 3\n",
    "Z0 = np.zeros(len(Z) + (len(Z)-1)*(nz))\n",
    "Z0[::nz+1] = Z\n",
    "print(Z0)"
   ]
  },
  {
   "cell_type": "markdown",
   "id": "07bb92ec-5cd2-4f10-ae22-861189d85d5e",
   "metadata": {
    "jp-MarkdownHeadingCollapsed": true
   },
   "source": [
    "#### 71) (5,5,3) boyutunda bir dizi düşünün, bunu (5,5) boyutunda bir dizi ile nasıl çarparsınız? \r\n"
   ]
  },
  {
   "cell_type": "code",
   "execution_count": 47,
   "id": "0897f24d-3cf2-4567-a2ec-f817f033f312",
   "metadata": {},
   "outputs": [
    {
     "name": "stdout",
     "output_type": "stream",
     "text": [
      "[[[2. 2. 2.]\n",
      "  [2. 2. 2.]\n",
      "  [2. 2. 2.]\n",
      "  [2. 2. 2.]\n",
      "  [2. 2. 2.]]\n",
      "\n",
      " [[2. 2. 2.]\n",
      "  [2. 2. 2.]\n",
      "  [2. 2. 2.]\n",
      "  [2. 2. 2.]\n",
      "  [2. 2. 2.]]\n",
      "\n",
      " [[2. 2. 2.]\n",
      "  [2. 2. 2.]\n",
      "  [2. 2. 2.]\n",
      "  [2. 2. 2.]\n",
      "  [2. 2. 2.]]\n",
      "\n",
      " [[2. 2. 2.]\n",
      "  [2. 2. 2.]\n",
      "  [2. 2. 2.]\n",
      "  [2. 2. 2.]\n",
      "  [2. 2. 2.]]\n",
      "\n",
      " [[2. 2. 2.]\n",
      "  [2. 2. 2.]\n",
      "  [2. 2. 2.]\n",
      "  [2. 2. 2.]\n",
      "  [2. 2. 2.]]]\n"
     ]
    }
   ],
   "source": [
    "A = np.ones((5,5,3))\n",
    "B = 2*np.ones((5,5))\n",
    "print(A * B[:,:,None])"
   ]
  },
  {
   "cell_type": "markdown",
   "id": "3c8081d9-3ecd-4fcf-a5f9-bdffe1e23be2",
   "metadata": {
    "jp-MarkdownHeadingCollapsed": true
   },
   "source": [
    "#### 72) Bir dizinin iki satırını nasıl değiştirirsiniz? #"
   ]
  },
  {
   "cell_type": "code",
   "execution_count": 50,
   "id": "366c1467-f25a-4beb-a73e-11565a118359",
   "metadata": {},
   "outputs": [
    {
     "name": "stdout",
     "output_type": "stream",
     "text": [
      "[[ 5  6  7  8  9]\n",
      " [ 0  1  2  3  4]\n",
      " [10 11 12 13 14]\n",
      " [15 16 17 18 19]\n",
      " [20 21 22 23 24]]\n"
     ]
    }
   ],
   "source": [
    "Z = np.arange(25).reshape(5,5)\n",
    "Z[[0,1]] = Z[[1,0]]\n",
    "print(Z)"
   ]
  },
  {
   "cell_type": "markdown",
   "id": "2f03aab7-3f40-4176-be13-eb063a2b636e",
   "metadata": {
    "jp-MarkdownHeadingCollapsed": true
   },
   "source": [
    "#### 73) 10 üçgeni tanımlayan 10 üçlü kümesini düşünün (paylaşılan köşelerle), tüm üçgenleri oluşturan benzersiz çizgi segmentlerini bulun \r\n"
   ]
  },
  {
   "cell_type": "code",
   "execution_count": 51,
   "id": "8066f107-16fb-4fc2-9776-2e02a6d778ca",
   "metadata": {},
   "outputs": [
    {
     "name": "stdout",
     "output_type": "stream",
     "text": [
      "[( 3, 20) ( 3, 21) ( 3, 36) ( 3, 77) ( 6, 85) ( 6, 87) (18, 48) (18, 82)\n",
      " (20, 36) (21, 77) (32, 44) (32, 46) (42, 55) (42, 89) (43, 62) (43, 72)\n",
      " (43, 82) (43, 98) (44, 46) (48, 60) (48, 77) (48, 82) (51, 83) (51, 97)\n",
      " (55, 89) (60, 77) (62, 82) (72, 98) (83, 97) (85, 87)]\n"
     ]
    }
   ],
   "source": [
    "faces = np.random.randint(0,100,(10,3))\n",
    "F = np.roll(faces.repeat(2,axis=1),-1,axis=1)\n",
    "F = F.reshape(len(F)*3,2)\n",
    "F = np.sort(F,axis=1)\n",
    "G = F.view( dtype=[('p0',F.dtype),('p1',F.dtype)] )\n",
    "G = np.unique(G)\n",
    "print(G)"
   ]
  },
  {
   "cell_type": "markdown",
   "id": "6c752aa7-55bb-4da5-978b-db58bdf790c3",
   "metadata": {
    "jp-MarkdownHeadingCollapsed": true
   },
   "source": [
    "#### 74) Bir bincount'a karşılık gelen sıralı bir C dizisi oluşturun, np.bincount(A) == C olacak şekilde bir A dizisini nasıl üretirsiniz? \n"
   ]
  },
  {
   "cell_type": "code",
   "execution_count": 3,
   "id": "458978b6-954b-48a4-87c1-062350d4aa90",
   "metadata": {},
   "outputs": [
    {
     "name": "stdout",
     "output_type": "stream",
     "text": [
      "[1 1 1 2 3]\n"
     ]
    }
   ],
   "source": [
    "C = np.array([0, 3, 1, 1])\n",
    "A = np.repeat(np.arange(len(C)), C)\n",
    "\n",
    "print(A)"
   ]
  },
  {
   "cell_type": "markdown",
   "id": "dcd72e1b-8484-4199-acd1-d0c3c64c6db2",
   "metadata": {
    "jp-MarkdownHeadingCollapsed": true
   },
   "source": [
    "#### 75) Bir dizi üzerinde kayan bir pencere kullanarak ortalamaları nasıl hesaplarınız? \n"
   ]
  },
  {
   "cell_type": "code",
   "execution_count": 7,
   "id": "7f37c41f-0144-4d65-a00b-3aad82fe0905",
   "metadata": {},
   "outputs": [
    {
     "name": "stdout",
     "output_type": "stream",
     "text": [
      "[ 1.  2.  3.  4.  5.  6.  7.  8.  9. 10. 11. 12. 13. 14. 15. 16. 17. 18.]\n"
     ]
    }
   ],
   "source": [
    "import numpy as np\n",
    "\n",
    "def moving_average(arr, window_size):\n",
    "    cumsum = np.cumsum(np.insert(arr, 0, 0)) \n",
    "    return (cumsum[window_size:] - cumsum[:-window_size]) / float(window_size)\n",
    "\n",
    "Z = np.arange(20)\n",
    "print(moving_average(Z, 3))\n"
   ]
  },
  {
   "cell_type": "markdown",
   "id": "2fd719a7-f424-4975-8c86-cfdae707e4e4",
   "metadata": {
    "jp-MarkdownHeadingCollapsed": true
   },
   "source": [
    "#### 76) Bir boyutlu bir dizi Z'yi düşünün, ilk satırı (Z[0],Z[1],Z[2]) olan ve her bir sonraki satırın 1 kaydırıldığı iki boyutlu bir dizi oluşturun \n"
   ]
  },
  {
   "cell_type": "code",
   "execution_count": 11,
   "id": "2986b3d6-8f07-422a-8b2a-02a6172f81e3",
   "metadata": {},
   "outputs": [
    {
     "name": "stdout",
     "output_type": "stream",
     "text": [
      "[[ 1  2  3]\n",
      " [ 2  3  4]\n",
      " [ 3  4  5]\n",
      " [ 4  5  6]\n",
      " [ 5  6  7]\n",
      " [ 6  7  8]\n",
      " [ 7  8  9]\n",
      " [ 8  9 10]\n",
      " [ 9 10 11]\n",
      " [10 11 12]\n",
      " [11 12 13]\n",
      " [12 13 14]]\n"
     ]
    }
   ],
   "source": [
    "import numpy as np\n",
    "\n",
    "Z = np.arange(1, 15)\n",
    "window_size = 3\n",
    "result = np.lib.stride_tricks.sliding_window_view(Z, window_size)\n",
    "print(result)"
   ]
  },
  {
   "cell_type": "markdown",
   "id": "8e29b80a-9a73-4cef-9d59-046713f723c6",
   "metadata": {
    "jp-MarkdownHeadingCollapsed": true
   },
   "source": [
    "#### 77) Bir boolean'ı nasıl olumsuzlarsınız veya bir float'ın işaretini nasıl yerinde değiştirirsiniz? \n"
   ]
  },
  {
   "cell_type": "code",
   "execution_count": 12,
   "id": "d9fadd1f-5f49-41a2-90f1-c6f6f28053ed",
   "metadata": {},
   "outputs": [
    {
     "name": "stdout",
     "output_type": "stream",
     "text": [
      "[False  True False]\n",
      "[-1.  2. -3.]\n"
     ]
    }
   ],
   "source": [
    "# Boolean'ı olumsuzlama\n",
    "bool_array = np.array([True, False, True])\n",
    "np.logical_not(bool_array, out=bool_array)\n",
    "print(bool_array)\n",
    "\n",
    "# Float'ın işaretini yerinde değiştirme\n",
    "float_array = np.array([1.0, -2.0, 3.0])\n",
    "np.negative(float_array, out=float_array)\n",
    "print(float_array)"
   ]
  },
  {
   "cell_type": "markdown",
   "id": "9f59fd9f-2b7f-47eb-836d-89c0a8947d25",
   "metadata": {
    "jp-MarkdownHeadingCollapsed": true
   },
   "source": [
    "#### 78) İki nokta kümesini P0 ve P1 şeklinde oluşturun, her bir noktadan i (P0[i],P1[i]) geçen çizgiye bir p noktası p'yi nasıl hesaplarsınız? \n"
   ]
  },
  {
   "cell_type": "code",
   "execution_count": 13,
   "id": "be10fb66-7d5d-459d-a587-78e4545f5d50",
   "metadata": {},
   "outputs": [
    {
     "name": "stdout",
     "output_type": "stream",
     "text": [
      "[ 3.83172337 11.53379492  2.57523195  6.26536813  4.52629017  8.05677995\n",
      "  2.01859185  3.72844017  0.08635115  1.86212003]\n"
     ]
    }
   ],
   "source": [
    "def distance(P0, P1, p):\n",
    "    T = P1 - P0\n",
    "    L = (T**2).sum(axis=1)\n",
    "    U = -((P0[:,0]-p[...,0])*T[:,0] + (P0[:,1]-p[...,1])*T[:,1]) / L\n",
    "    U = U.reshape(len(U),1)\n",
    "    D = P0 + U*T - p\n",
    "    return np.sqrt((D**2).sum(axis=1))\n",
    "\n",
    "P0 = np.random.uniform(-10,10,(10,2))\n",
    "P1 = np.random.uniform(-10,10,(10,2))\n",
    "p  = np.random.uniform(-10,10,( 1,2))\n",
    "print(distance(P0, P1, p))"
   ]
  },
  {
   "cell_type": "markdown",
   "id": "08e0c7e2-f419-4d77-ac8b-97e4b87c28ca",
   "metadata": {
    "jp-MarkdownHeadingCollapsed": true
   },
   "source": [
    "#### 79) İki nokta kümesini P0 ve P1 ve bir P noktaları kümesini düşünün, her bir P[j] noktası ile her bir (P0[i], P1[i]) çizgisi arasındaki mesafeyi nasıl hesaplarsınız?\n"
   ]
  },
  {
   "cell_type": "code",
   "execution_count": null,
   "id": "0e760116-eac3-434b-af89-3bc9fb283e93",
   "metadata": {},
   "outputs": [],
   "source": [
    "# bir önceki sorudan base alınmıştır\n",
    "P0 = np.random.uniform(-10, 10, (10,2))\n",
    "P1 = np.random.uniform(-10,10,(10,2))\n",
    "p = np.random.uniform(-10, 10, (10,2))\n",
    "print(np.array([distance(P0,P1,p_i) for p_i in p]))"
   ]
  },
  {
   "cell_type": "markdown",
   "id": "05886c6b-e4f4-41a8-8242-18257f7c796a",
   "metadata": {
    "jp-MarkdownHeadingCollapsed": true
   },
   "source": [
    "#### 80) Keyfi bir diziyi düşünün, sabit bir şekle sahip bir alt kısmı çıkaran ve belirli bir eleman üzerine merkezlenen bir fonksiyon yazın (gerektiğinde bir dolgu değeri ile doldurun) \n"
   ]
  },
  {
   "cell_type": "code",
   "execution_count": 15,
   "id": "86f6f632-22d1-4d1b-baf2-1c8a12b30ba0",
   "metadata": {},
   "outputs": [
    {
     "name": "stdout",
     "output_type": "stream",
     "text": [
      "[[ 6  7  8]\n",
      " [11 12 13]\n",
      " [16 17 18]]\n"
     ]
    }
   ],
   "source": [
    "def extract_subarray(arr, center, shape, fill_value=0):\n",
    "    arr = np.asarray(arr)\n",
    "    center = np.array(center)\n",
    "    shape = np.array(shape)\n",
    "    \n",
    "    half_shape = (shape - 1) // 2\n",
    "    start = center - half_shape\n",
    "    end = start + shape\n",
    "    \n",
    "    slices = [slice(max(0, s), min(e, d)) for s, e, d in zip(start, end, arr.shape)]\n",
    "    result = np.full(shape, fill_value, dtype=arr.dtype)\n",
    "    \n",
    "    insert_slices = [slice(max(0, -s), min(e - s, d)) for s, e, d in zip(start, end, shape)]\n",
    "    result[tuple(insert_slices)] = arr[tuple(slices)]\n",
    "    \n",
    "    return result\n",
    "\n",
    "arr = np.arange(25).reshape(5, 5)\n",
    "center = (2, 2)\n",
    "shape = (3, 3)\n",
    "result = extract_subarray(arr, center, shape, fill_value=-1)\n",
    "print(result)"
   ]
  },
  {
   "cell_type": "markdown",
   "id": "bcf09f5b-e16b-480c-879d-859d8a464608",
   "metadata": {
    "jp-MarkdownHeadingCollapsed": true
   },
   "source": [
    "#### 81) Z = [1,2,3,4,5,6,7,8,9,10,11,12,13,14] dizisini düşünün, R = [[1,2,3,4], [2,3,4,5], [3,4,5,6], ...] olacak şekilde kaydırılmış bir 4x4 dizi oluşturun? \n"
   ]
  },
  {
   "cell_type": "code",
   "execution_count": 16,
   "id": "ea4357fa-c4b4-4fb6-a34f-994f78519b82",
   "metadata": {},
   "outputs": [
    {
     "name": "stdout",
     "output_type": "stream",
     "text": [
      "[[ 1  2  3  4]\n",
      " [ 2  3  4  5]\n",
      " [ 3  4  5  6]\n",
      " [ 4  5  6  7]\n",
      " [ 5  6  7  8]\n",
      " [ 6  7  8  9]\n",
      " [ 7  8  9 10]\n",
      " [ 8  9 10 11]\n",
      " [ 9 10 11 12]\n",
      " [10 11 12 13]\n",
      " [11 12 13 14]]\n"
     ]
    }
   ],
   "source": [
    "Z = np.arange(1, 15)\n",
    "R = np.lib.stride_tricks.sliding_window_view(Z, window_shape=(4,))\n",
    "print(R)"
   ]
  },
  {
   "cell_type": "markdown",
   "id": "735b37d5-2221-4c90-a29b-502f770f7eb2",
   "metadata": {
    "jp-MarkdownHeadingCollapsed": true
   },
   "source": [
    "#### 82) Düz bir dizi üzerinde 3x3 maksimum filtre nasıl uygulanır? \n"
   ]
  },
  {
   "cell_type": "code",
   "execution_count": 18,
   "id": "374d925e-db1e-4758-831f-43819238618f",
   "metadata": {},
   "outputs": [
    {
     "name": "stdout",
     "output_type": "stream",
     "text": [
      "10\n"
     ]
    }
   ],
   "source": [
    "Z = np.random.uniform(0,1,(10,10))\n",
    "rank = np.linalg.matrix_rank(Z)\n",
    "print(rank)"
   ]
  },
  {
   "cell_type": "markdown",
   "id": "f6d047ee-76b1-4327-ba00-1f58668df459",
   "metadata": {
    "jp-MarkdownHeadingCollapsed": true
   },
   "source": [
    "#### 83) 5 boyutlu bir dizinin en büyük 10 değerini nasıl bulursunuz? \n"
   ]
  },
  {
   "cell_type": "code",
   "execution_count": 22,
   "id": "8306623f-4ed6-46df-8ca7-f2572836db66",
   "metadata": {},
   "outputs": [
    {
     "name": "stdout",
     "output_type": "stream",
     "text": [
      "1\n"
     ]
    }
   ],
   "source": [
    "Z = np.random.randint(0,10,50)\n",
    "print(np.bincount(Z).argmax())"
   ]
  },
  {
   "cell_type": "markdown",
   "id": "a4021f58-bc9f-4312-b170-355ace4469ea",
   "metadata": {
    "jp-MarkdownHeadingCollapsed": true
   },
   "source": [
    "#### 84) Bir vektördeki yinelenen öğelerin dizinlerini bulun "
   ]
  },
  {
   "cell_type": "code",
   "execution_count": 23,
   "id": "2cac8dca-6ead-4d5a-a2e8-04b9a2962ff8",
   "metadata": {},
   "outputs": [
    {
     "name": "stdout",
     "output_type": "stream",
     "text": [
      "[array([0, 7], dtype=int64), array([1, 3], dtype=int64), array([2, 5], dtype=int64), array([4], dtype=int64), array([6], dtype=int64)]\n"
     ]
    }
   ],
   "source": [
    "v = np.array([1, 2, 3, 2, 4, 3, 5, 1])\n",
    "\n",
    "unique_elements, indices = np.unique(v, return_inverse=True)\n",
    "repeated_indices = np.split(np.argsort(indices), np.cumsum(np.bincount(indices))[:-1])\n",
    "print(repeated_indices)\n",
    "\n",
    "\n",
    "\n",
    "\n",
    "\n"
   ]
  },
  {
   "cell_type": "markdown",
   "id": "919fcd3e-78e9-4ba9-a1aa-b2ff325af1e5",
   "metadata": {
    "jp-MarkdownHeadingCollapsed": true
   },
   "source": [
    "#### 85) Büyük bir 2D dizi ve 2D blokların her birini maksimuma göre sıralayarak diziyi parçalara ayıran bir fonksiyon yazın \r\n"
   ]
  },
  {
   "cell_type": "code",
   "execution_count": 24,
   "id": "d5a172b5-e422-445b-9060-d95067c19bc1",
   "metadata": {},
   "outputs": [
    {
     "name": "stdout",
     "output_type": "stream",
     "text": [
      "[[ 5 15  1  6  7]\n",
      " [15  2  6  0  7]\n",
      " [ 1  6  8 42 12]\n",
      " [ 6  0 42  3  2]\n",
      " [ 7  7 12  2  9]]\n"
     ]
    }
   ],
   "source": [
    "class Symetric(np.ndarray):\n",
    "    def __setitem__(self, index, value):\n",
    "        i,j = index\n",
    "        super(Symetric, self).__setitem__((i,j), value)\n",
    "        super(Symetric, self).__setitem__((j,i), value)\n",
    "\n",
    "def symetric(Z):\n",
    "    return np.asarray(Z + Z.T - np.diag(Z.diagonal())).view(Symetric)\n",
    "\n",
    "S = symetric(np.random.randint(0,10,(5,5)))\n",
    "S[2,3] = 42\n",
    "print(S)"
   ]
  },
  {
   "cell_type": "markdown",
   "id": "1ece597c-8acb-4f31-91f2-b891296cb896",
   "metadata": {
    "jp-MarkdownHeadingCollapsed": true
   },
   "source": [
    "#### 86) 3D koordinatların konveks kovanını bulun "
   ]
  },
  {
   "cell_type": "code",
   "execution_count": 26,
   "id": "7148dd79-52e0-4133-82c7-27a7c89ec447",
   "metadata": {},
   "outputs": [
    {
     "name": "stdout",
     "output_type": "stream",
     "text": [
      "[[200.]\n",
      " [200.]\n",
      " [200.]\n",
      " [200.]\n",
      " [200.]\n",
      " [200.]\n",
      " [200.]\n",
      " [200.]\n",
      " [200.]\n",
      " [200.]\n",
      " [200.]\n",
      " [200.]\n",
      " [200.]\n",
      " [200.]\n",
      " [200.]\n",
      " [200.]\n",
      " [200.]\n",
      " [200.]\n",
      " [200.]\n",
      " [200.]]\n"
     ]
    }
   ],
   "source": [
    "p, n = 10, 20\n",
    "M = np.ones((p,n,n))\n",
    "V = np.ones((p,n,1))\n",
    "S = np.tensordot(M, V, axes=[[0, 2], [0, 1]])\n",
    "print(S)\n"
   ]
  },
  {
   "cell_type": "markdown",
   "id": "d9b1ee62-edaf-429d-971f-fcc2e13c334e",
   "metadata": {
    "jp-MarkdownHeadingCollapsed": true
   },
   "source": [
    "#### 87) 100.000 elemanlık rastgele bir vektör ve 5000 elemanlık rastgele bir vektör oluşturun, ikincisindeki her değerin birincisinde var olup olmadığını kontrol edin \n"
   ]
  },
  {
   "cell_type": "code",
   "execution_count": 28,
   "id": "da4c79a3-5ca3-49bd-93c8-2a5960b0aef5",
   "metadata": {},
   "outputs": [
    {
     "name": "stdout",
     "output_type": "stream",
     "text": [
      "[ True  True  True ...  True  True  True]\n"
     ]
    }
   ],
   "source": [
    "large_vector = np.random.randint(0, 1000, size=100000)\n",
    "small_vector = np.random.randint(0, 1000, size=5000)\n",
    "\n",
    "result = np.isin(small_vector, large_vector)\n",
    "print(result)"
   ]
  },
  {
   "cell_type": "markdown",
   "id": "f0c193a4-d902-47e0-9f2e-64bb0e2693cb",
   "metadata": {
    "jp-MarkdownHeadingCollapsed": true
   },
   "source": [
    "#### 88) Büyük bir vektörü düşünün, belirli bir aralığın değerlerini sıralamak için en hızlı yolu bulun \n"
   ]
  },
  {
   "cell_type": "code",
   "execution_count": 29,
   "id": "88b34479-8aee-4bfa-ac3d-61e3fe18cb1b",
   "metadata": {},
   "outputs": [
    {
     "name": "stdout",
     "output_type": "stream",
     "text": [
      "[[0 0 0 ... 0 0 0]\n",
      " [0 0 0 ... 0 0 0]\n",
      " [0 0 0 ... 0 0 0]\n",
      " ...\n",
      " [0 0 0 ... 0 0 0]\n",
      " [0 0 0 ... 0 0 0]\n",
      " [0 0 0 ... 0 0 0]]\n"
     ]
    }
   ],
   "source": [
    "def iterate(Z):\n",
    "    # Count neighbours\n",
    "    N = (Z[0:-2,0:-2] + Z[0:-2,1:-1] + Z[0:-2,2:] +\n",
    "         Z[1:-1,0:-2]                + Z[1:-1,2:] +\n",
    "         Z[2:  ,0:-2] + Z[2:  ,1:-1] + Z[2:  ,2:])\n",
    "\n",
    "    # Apply rules\n",
    "    birth = (N==3) & (Z[1:-1,1:-1]==0)\n",
    "    survive = ((N==2) | (N==3)) & (Z[1:-1,1:-1]==1)\n",
    "    Z[...] = 0\n",
    "    Z[1:-1,1:-1][birth | survive] = 1\n",
    "    return Z\n",
    "\n",
    "Z = np.random.randint(0,2,(50,50))\n",
    "for i in range(100): Z = iterate(Z)\n",
    "print(Z)"
   ]
  },
  {
   "cell_type": "markdown",
   "id": "1035f3d9-0b85-4866-9af6-001ab9f053d3",
   "metadata": {
    "jp-MarkdownHeadingCollapsed": true
   },
   "source": [
    "#### 89) Büyük bir dizi üzerinde maksimum değerlerin bir türün ortaya çıkma sayısına göre sıralandığı argmax işlevi yazın \n"
   ]
  },
  {
   "cell_type": "code",
   "execution_count": 30,
   "id": "6bdc36a5-437a-4c6f-ae82-c7782bc69611",
   "metadata": {},
   "outputs": [
    {
     "name": "stdout",
     "output_type": "stream",
     "text": [
      "[9995 9996 9997 9998 9999]\n",
      "[9996 9998 9999 9997 9995]\n"
     ]
    }
   ],
   "source": [
    "Z = np.arange(10000)\n",
    "np.random.shuffle(Z)\n",
    "n = 5\n",
    "\n",
    "# Slow\n",
    "print (Z[np.argsort(Z)[-n:]])\n",
    "\n",
    "# Fast\n",
    "print (Z[np.argpartition(-Z,n)[:n]])"
   ]
  },
  {
   "cell_type": "markdown",
   "id": "93f980dc-6b5b-48a0-b836-eeb48377a68c",
   "metadata": {
    "jp-MarkdownHeadingCollapsed": true
   },
   "source": [
    "#### 90) np.array isimli yapılandırılmış bir dizi oluşturun, rengi beyaz olan her eleman için tüm beyaz öğeleri seçen bir maske oluşturun \n"
   ]
  },
  {
   "cell_type": "code",
   "execution_count": 32,
   "id": "c007921d-f6cd-42c0-ae31-6880933a5705",
   "metadata": {},
   "outputs": [
    {
     "name": "stdout",
     "output_type": "stream",
     "text": [
      "[False  True  True False]\n"
     ]
    }
   ],
   "source": [
    "dtype = [('x', float), ('y', float), ('color', 'U10')]\n",
    "data = np.array([(1, 2, 'red'), (3, 4, 'white'), (5, 6, 'white'), (7, 8, 'blue')],\n",
    "                dtype=dtype)\n",
    "\n",
    "mask = data['color'] == 'white'\n",
    "\n",
    "print(mask)"
   ]
  },
  {
   "cell_type": "markdown",
   "id": "ace32b4b-f526-48f7-8c04-b7762d7e1078",
   "metadata": {
    "jp-MarkdownHeadingCollapsed": true
   },
   "source": [
    "#### 91) Bir düzenli diziden nasıl kayıt dizisi oluşturulur? "
   ]
  },
  {
   "cell_type": "code",
   "execution_count": 35,
   "id": "94e41244-87ee-4f6f-aaf9-4cef8047ce73",
   "metadata": {},
   "outputs": [
    {
     "name": "stdout",
     "output_type": "stream",
     "text": [
      "[(b'Selam', 2.5, 3) (b'Dunya', 3.6, 2)]\n"
     ]
    }
   ],
   "source": [
    "Z = np.array([(\"Selam\", 2.5, 3),\n",
    "              (\"Dunya\", 3.6, 2)])\n",
    "R = np.core.records.fromarrays(Z.T,\n",
    "                               names='col1, col2, col3',\n",
    "                               formats = 'S8, f8, i8')\n",
    "print(R)"
   ]
  },
  {
   "cell_type": "markdown",
   "id": "e8ac2075-df60-4521-a07f-479986977980",
   "metadata": {
    "jp-MarkdownHeadingCollapsed": true
   },
   "source": [
    "#### 92) Büyük bir vektör Z düşünüldüğünde, Z'nin 3 üssü 3 farklı yöntemle nasıl hesaplanır? \n"
   ]
  },
  {
   "cell_type": "code",
   "execution_count": 37,
   "id": "c9393535-3af9-4ebe-8c38-09007a9d8790",
   "metadata": {},
   "outputs": [
    {
     "name": "stdout",
     "output_type": "stream",
     "text": [
      "np.power ile hesaplanan sonuç:\n",
      "[0.55160784 0.09890206 0.00393207 0.80695024 0.81306362 0.00806722\n",
      " 0.06895492 0.12077087 0.34849567 0.1470254 ]\n",
      "\n",
      "Operatör ** ile hesaplanan sonuç:\n",
      "[0.55160784 0.09890206 0.00393207 0.80695024 0.81306362 0.00806722\n",
      " 0.06895492 0.12077087 0.34849567 0.1470254 ]\n",
      "\n",
      "np.einsum ile hesaplanan sonuç:\n",
      "[0.55160784 0.09890206 0.00393207 0.80695024 0.81306362 0.00806722\n",
      " 0.06895492 0.12077087 0.34849567 0.1470254 ]\n"
     ]
    }
   ],
   "source": [
    "\n",
    "Z = np.random.rand(10)\n",
    "\n",
    "# 1. Yöntem: np.power kullanarak\n",
    "result_power = np.power(Z, 3)\n",
    "\n",
    "# 2. Yöntem: Operatör ** kullanarak\n",
    "result_operator = Z ** 3\n",
    "\n",
    "# 3. Yöntem: np.einsum kullanarak\n",
    "result_einsum = np.einsum('i,i,i->i', Z, Z, Z)\n",
    "\n",
    "# Sonuçları yazdırın\n",
    "print(\"np.power ile hesaplanan sonuç:\")\n",
    "print(result_power)\n",
    "print(\"\\nOperatör ** ile hesaplanan sonuç:\")\n",
    "print(result_operator)\n",
    "print(\"\\nnp.einsum ile hesaplanan sonuç:\")\n",
    "print(result_einsum)"
   ]
  },
  {
   "cell_type": "markdown",
   "id": "f3892058-cccd-4287-9c90-02c1806a4db7",
   "metadata": {
    "jp-MarkdownHeadingCollapsed": true
   },
   "source": [
    "#### 93) Şekli (8,3) ve (2,2) olan iki dizi A ve B düşünüldüğünde, B'nin her bir satırındaki öğelerin sırasız olarak A'nın hangi satırlarında bulunduğunu nasıl bulunur? \n"
   ]
  },
  {
   "cell_type": "code",
   "execution_count": 38,
   "id": "ec07db58-37e4-4477-9aa5-3254304a01bb",
   "metadata": {},
   "outputs": [
    {
     "name": "stdout",
     "output_type": "stream",
     "text": [
      "[1 2 3 6 7]\n"
     ]
    }
   ],
   "source": [
    "A = np.random.randint(0,5,(8,3))\n",
    "B = np.random.randint(0,5,(2,2))\n",
    "\n",
    "C = (A[..., np.newaxis, np.newaxis] == B)\n",
    "rows = np.where(C.any((3,1)).all(1))[0]\n",
    "print(rows)"
   ]
  },
  {
   "cell_type": "markdown",
   "id": "8f01843e-b7eb-4b60-8079-fba1cdf6608b",
   "metadata": {
    "jp-MarkdownHeadingCollapsed": true
   },
   "source": [
    "#### 94) 10x3 matris düşünüldüğünde, eşit olmayan değerlere sahip satırlar nasıl çıkarılır? (örn. [2,2,3]) \n"
   ]
  },
  {
   "cell_type": "code",
   "execution_count": 39,
   "id": "474aa738-fdd2-456e-91ba-a284330a4868",
   "metadata": {},
   "outputs": [
    {
     "name": "stdout",
     "output_type": "stream",
     "text": [
      "[[1 0 3]\n",
      " [4 0 3]\n",
      " [1 3 0]\n",
      " [4 1 4]\n",
      " [1 3 1]\n",
      " [2 3 3]\n",
      " [2 2 4]\n",
      " [1 1 0]\n",
      " [0 2 4]\n",
      " [4 0 0]]\n",
      "[[1 0 3]\n",
      " [4 0 3]\n",
      " [1 3 0]\n",
      " [4 1 4]\n",
      " [1 3 1]\n",
      " [2 3 3]\n",
      " [2 2 4]\n",
      " [1 1 0]\n",
      " [0 2 4]\n",
      " [4 0 0]]\n",
      "[[1 0 3]\n",
      " [4 0 3]\n",
      " [1 3 0]\n",
      " [4 1 4]\n",
      " [1 3 1]\n",
      " [2 3 3]\n",
      " [2 2 4]\n",
      " [1 1 0]\n",
      " [0 2 4]\n",
      " [4 0 0]]\n"
     ]
    }
   ],
   "source": [
    "Z = np.random.randint(0,5,(10,3))\n",
    "print(Z)\n",
    "\n",
    "E = np.all(Z[:,1:] == Z[:,:-1], axis=1)\n",
    "U = Z[~E]\n",
    "print(U)\n",
    "\n",
    "U = Z[Z.max(axis=1) != Z.min(axis=1),:]\n",
    "print(U)"
   ]
  },
  {
   "cell_type": "markdown",
   "id": "92edd5f2-48b8-44de-9280-1ff391bdea58",
   "metadata": {
    "jp-MarkdownHeadingCollapsed": true
   },
   "source": [
    "#### 95) Bir tamsayı vektörünü bir matris ikili temsiline nasıl dönüştürülür? \r\n"
   ]
  },
  {
   "cell_type": "code",
   "execution_count": 42,
   "id": "7279f99e-d4a7-421e-b935-9c657ad6a0bd",
   "metadata": {},
   "outputs": [
    {
     "name": "stdout",
     "output_type": "stream",
     "text": [
      "[[0 0 0 0 0 0 0 0]\n",
      " [0 0 0 0 0 0 0 1]\n",
      " [0 0 0 0 0 0 1 0]\n",
      " [0 0 0 0 0 0 1 1]\n",
      " [0 0 0 0 1 1 1 1]\n",
      " [0 0 0 1 0 0 0 0]\n",
      " [0 0 1 0 0 0 0 0]\n",
      " [0 1 0 0 0 0 0 0]\n",
      " [1 0 0 0 0 0 0 0]]\n"
     ]
    }
   ],
   "source": [
    "I = np.array([0, 1, 2, 3, 15, 16, 32, 64, 128])\n",
    "B = ((I.reshape(-1,1) & (2**np.arange(8))) != 0).astype(int)\n",
    "print(B[:,::-1])\n"
   ]
  },
  {
   "cell_type": "markdown",
   "id": "6c40aadb-f98d-4027-849f-1429ea252f36",
   "metadata": {
    "jp-MarkdownHeadingCollapsed": true
   },
   "source": [
    "#### 96) İki boyutlu bir diziden benzersiz satırlar nasıl çıkarılır? \n"
   ]
  },
  {
   "cell_type": "code",
   "execution_count": 44,
   "id": "4f236c60-6ea5-4ddb-8a1d-52b2c2e436b4",
   "metadata": {},
   "outputs": [
    {
     "name": "stdout",
     "output_type": "stream",
     "text": [
      "[[0 0 0]\n",
      " [0 0 1]\n",
      " [0 1 0]\n",
      " [1 0 1]\n",
      " [1 1 0]]\n"
     ]
    }
   ],
   "source": [
    "Z = np.random.randint(0,2,(6,3))\n",
    "T = np.ascontiguousarray(Z).view(np.dtype((np.void, Z.dtype.itemsize * Z.shape[1])))\n",
    "_, idx = np.unique(T, return_index=True)\n",
    "uZ = Z[idx]\n",
    "print(uZ)"
   ]
  },
  {
   "cell_type": "markdown",
   "id": "fc4b7014-7af9-4e32-a7cf-821a3564a2ba",
   "metadata": {
    "jp-MarkdownHeadingCollapsed": true
   },
   "source": [
    "#### 97) İki vektör A & B düşünüldüğünde, inner, outer, sum ve mul fonksiyonlarının einsum eşdeğeri nasıl yazılır? "
   ]
  },
  {
   "cell_type": "code",
   "execution_count": 46,
   "id": "33626e0e-50db-432d-bce3-bc61fb4958ef",
   "metadata": {},
   "outputs": [
    {
     "data": {
      "text/plain": [
       "array([[0.32342181, 0.59955668, 0.08459548, 0.47452232, 0.69182919,\n",
       "        0.44508903, 0.6691592 , 0.50638201, 0.43262414, 0.21439219],\n",
       "       [0.07257105, 0.13453162, 0.01898197, 0.10647577, 0.1552362 ,\n",
       "        0.09987137, 0.15014939, 0.11362461, 0.09707444, 0.04810642],\n",
       "       [0.17328203, 0.3212288 , 0.04532433, 0.25423824, 0.37066631,\n",
       "        0.23846855, 0.35852024, 0.27130794, 0.23179015, 0.11486645],\n",
       "       [0.04280018, 0.07934262, 0.01119498, 0.06279614, 0.09155354,\n",
       "        0.05890107, 0.0885535 , 0.0670123 , 0.05725152, 0.02837169],\n",
       "       [0.33121944, 0.61401186, 0.08663506, 0.48596295, 0.70850905,\n",
       "        0.45582003, 0.68529249, 0.51859077, 0.44305461, 0.21956114],\n",
       "       [0.11213624, 0.20787724, 0.0293308 , 0.16452555, 0.2398698 ,\n",
       "        0.15432049, 0.23200971, 0.17557188, 0.14999868, 0.07433368],\n",
       "       [0.3519401 , 0.65242365, 0.09205484, 0.51636417, 0.75283246,\n",
       "        0.48433554, 0.7281635 , 0.55103314, 0.47077154, 0.2332966 ],\n",
       "       [0.05761841, 0.10681254, 0.0150709 , 0.08453735, 0.12325112,\n",
       "        0.07929374, 0.11921241, 0.09021324, 0.07707309, 0.03819451],\n",
       "       [0.22579713, 0.41858086, 0.05906039, 0.33128805, 0.48300097,\n",
       "        0.31073918, 0.4671739 , 0.35353091, 0.3020368 , 0.14967804],\n",
       "       [0.14814363, 0.27462744, 0.03874903, 0.21735535, 0.31689294,\n",
       "        0.2038734 , 0.30650893, 0.2319487 , 0.19816385, 0.09820252]])"
      ]
     },
     "execution_count": 46,
     "metadata": {},
     "output_type": "execute_result"
    }
   ],
   "source": [
    "A = np.random.uniform(0,1,10)\n",
    "B = np.random.uniform(0,1,10)\n",
    "\n",
    "np.einsum('i->', A)       # np.sum(A)\n",
    "np.einsum('i,i->i', A, B) # A * B\n",
    "np.einsum('i,i', A, B)    # np.inner(A, B)\n",
    "np.einsum('i,j->ij', A, B)    # np.outer(A, B)"
   ]
  },
  {
   "cell_type": "markdown",
   "id": "bc7c27e5-d51c-45ae-adb8-7fc879ef3a3a",
   "metadata": {
    "jp-MarkdownHeadingCollapsed": true
   },
   "source": [
    "#### 98) İki vektör (X,Y) tarafından tanımlanan bir yol düşünüldüğünde, eşit aralıklı örnekleme kullanarak nasıl örneklenir? \n"
   ]
  },
  {
   "cell_type": "code",
   "execution_count": 47,
   "id": "37e23e1d-47d1-48f5-ba0b-2525defbc368",
   "metadata": {},
   "outputs": [],
   "source": [
    "phi = np.arange(0, 10*np.pi, 0.1)\n",
    "a = 1\n",
    "x = a*phi*np.cos(phi)\n",
    "y = a*phi*np.sin(phi)\n",
    "\n",
    "dr = (np.diff(x)**2 + np.diff(y)**2)**.5 # segment lengths\n",
    "r = np.zeros_like(x)\n",
    "r[1:] = np.cumsum(dr)                # integrate path\n",
    "r_int = np.linspace(0, r.max(), 200) # regular spaced path\n",
    "x_int = np.interp(r_int, r, x)       # integrate path\n",
    "y_int = np.interp(r_int, r, y)"
   ]
  },
  {
   "cell_type": "markdown",
   "id": "3cec5001-ada7-4ba0-afb9-ff6dff32f9a9",
   "metadata": {
    "jp-MarkdownHeadingCollapsed": true
   },
   "source": [
    "#### 99) Bir tamsayı n ve 2D bir dizi X verildiğinde, X'ten n dereceli bir multinom dağılımı olarak yorumlanabilecek satırları nasıl seçilir? \n"
   ]
  },
  {
   "cell_type": "code",
   "execution_count": 51,
   "id": "8e93f83d-3ec3-47ef-b51f-4a685514745b",
   "metadata": {},
   "outputs": [
    {
     "name": "stdout",
     "output_type": "stream",
     "text": [
      "X örnekleme: [1.         1.44444444 1.88888889 2.33333333 2.77777778 3.22222222\n",
      " 3.66666667 4.11111111 4.55555556 5.        ]\n",
      "Y örnekleme: [ 6.          6.44444444  6.88888889  7.33333333  7.77777778  8.22222222\n",
      "  8.66666667  9.11111111  9.55555556 10.        ]\n"
     ]
    }
   ],
   "source": [
    "X = np.array([1, 2, 3, 4, 5])\n",
    "Y = np.array([6, 7, 8, 9, 10])\n",
    "\n",
    "num_samples = 10\n",
    "\n",
    "# X ve Y vektörlerini eşit aralıklı örneklerle örnekleyin\n",
    "X_sampled = np.interp(np.linspace(0, 1, num_samples), np.linspace(0, 1, len(X)), X)\n",
    "Y_sampled = np.interp(np.linspace(0, 1, num_samples), np.linspace(0, 1, len(Y)), Y)\n",
    "\n",
    "print(\"X örnekleme:\", X_sampled)\n",
    "print(\"Y örnekleme:\", Y_sampled)"
   ]
  },
  {
   "cell_type": "markdown",
   "id": "ee29923c-7c99-4b89-bd00-31c47a0ff1b0",
   "metadata": {
    "jp-MarkdownHeadingCollapsed": true
   },
   "source": [
    "#### 100) Bir 1D dizinin ortalaması için bootstrap yöntemiyle %95 güven aralıkları nasıl hesaplanır? "
   ]
  },
  {
   "cell_type": "code",
   "execution_count": 49,
   "id": "63725b3b-30b7-4fb4-884c-49c76c3f1d46",
   "metadata": {},
   "outputs": [
    {
     "name": "stdout",
     "output_type": "stream",
     "text": [
      "[-0.12829619  0.27194381]\n"
     ]
    }
   ],
   "source": [
    "X = np.random.randn(100) \n",
    "N = 1000 # bootstrap örnek sayısı\n",
    "idx = np.random.randint(0, X.size, (N, X.size))\n",
    "means = X[idx].mean(axis=1)\n",
    "confint = np.percentile(means, [2.5, 97.5])\n",
    "print(confint)"
   ]
  },
  {
   "cell_type": "markdown",
   "id": "1a79f438-6424-44f1-acb9-6009fcbc9544",
   "metadata": {},
   "source": [
    "#### Tebrikler! Alıştırmanın sonuna geldiniz :)"
   ]
  }
 ],
 "metadata": {
  "kernelspec": {
   "display_name": "Python 3 (ipykernel)",
   "language": "python",
   "name": "python3"
  },
  "language_info": {
   "codemirror_mode": {
    "name": "ipython",
    "version": 3
   },
   "file_extension": ".py",
   "mimetype": "text/x-python",
   "name": "python",
   "nbconvert_exporter": "python",
   "pygments_lexer": "ipython3",
   "version": "3.11.7"
  }
 },
 "nbformat": 4,
 "nbformat_minor": 5
}
