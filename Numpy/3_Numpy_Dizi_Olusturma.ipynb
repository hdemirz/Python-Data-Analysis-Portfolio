{
 "cells": [
  {
   "cell_type": "code",
   "execution_count": 13,
   "id": "dc986ddf-64c2-4d04-9221-788378b072cc",
   "metadata": {},
   "outputs": [],
   "source": [
    "import numpy as np"
   ]
  },
  {
   "cell_type": "markdown",
   "id": "c044f8bd-6406-49b2-8bef-e42ee4f84a83",
   "metadata": {},
   "source": [
    "# np.arange"
   ]
  },
  {
   "cell_type": "code",
   "execution_count": 3,
   "id": "f8315dae-b3e7-4393-a589-8e02daa15e39",
   "metadata": {},
   "outputs": [],
   "source": [
    "# np.array(başla,bitir,adımla, dtype)"
   ]
  },
  {
   "cell_type": "code",
   "execution_count": 7,
   "id": "66514857-04a3-4cf3-b8c0-c4f628240ba8",
   "metadata": {},
   "outputs": [
    {
     "data": {
      "text/plain": [
       "array([0, 1, 2, 3, 4])"
      ]
     },
     "execution_count": 7,
     "metadata": {},
     "output_type": "execute_result"
    }
   ],
   "source": [
    "np.arange(5)"
   ]
  },
  {
   "cell_type": "code",
   "execution_count": 9,
   "id": "3a7afd2b-ba5d-408c-9261-fc1b9a052a9a",
   "metadata": {},
   "outputs": [
    {
     "data": {
      "text/plain": [
       "array([ 5,  6,  7,  8,  9, 10, 11, 12, 13, 14, 15, 16, 17, 18, 19])"
      ]
     },
     "execution_count": 9,
     "metadata": {},
     "output_type": "execute_result"
    }
   ],
   "source": [
    "np.arange(5,20)"
   ]
  },
  {
   "cell_type": "code",
   "execution_count": 11,
   "id": "fb289f7b-4cc9-47a2-8510-28ec04408f0a",
   "metadata": {},
   "outputs": [
    {
     "data": {
      "text/plain": [
       "array([ 5, 10, 15])"
      ]
     },
     "execution_count": 11,
     "metadata": {},
     "output_type": "execute_result"
    }
   ],
   "source": [
    "np.arange(5,20,5)"
   ]
  },
  {
   "cell_type": "markdown",
   "id": "6a20b32a-a1a0-4e51-9d47-133f576a8500",
   "metadata": {},
   "source": [
    "# örnekler"
   ]
  },
  {
   "cell_type": "code",
   "execution_count": 22,
   "id": "dcc4f432-c261-4869-97b0-8d21f2c4b1e1",
   "metadata": {},
   "outputs": [],
   "source": [
    "# 25 dan 60 a kadar sayıları 3 er 3 er yazdır"
   ]
  },
  {
   "cell_type": "code",
   "execution_count": 34,
   "id": "4f0a0813-4bfc-437b-846c-54eb6112736f",
   "metadata": {},
   "outputs": [
    {
     "name": "stdout",
     "output_type": "stream",
     "text": [
      "[25 28 31 34 37 40 43 46 49 52 55 58]\n"
     ]
    }
   ],
   "source": [
    "ornek_1 = np.arange(25,60,3)\n",
    "print(ornek_1)"
   ]
  },
  {
   "cell_type": "markdown",
   "id": "50858dbf-6027-44e2-8ee7-dc72b770b65d",
   "metadata": {},
   "source": [
    "# np.linspace"
   ]
  },
  {
   "cell_type": "code",
   "execution_count": 38,
   "id": "8dd78b1a-c462-4216-b335-2edb5cc0efe7",
   "metadata": {},
   "outputs": [],
   "source": [
    "# np.linspace(başla,bitir,sayı_adedi)"
   ]
  },
  {
   "cell_type": "code",
   "execution_count": 58,
   "id": "434d633a-fd01-4436-8cfb-bb8ff192eb0b",
   "metadata": {},
   "outputs": [
    {
     "data": {
      "text/plain": [
       "array([ 0.        ,  0.20408163,  0.40816327,  0.6122449 ,  0.81632653,\n",
       "        1.02040816,  1.2244898 ,  1.42857143,  1.63265306,  1.83673469,\n",
       "        2.04081633,  2.24489796,  2.44897959,  2.65306122,  2.85714286,\n",
       "        3.06122449,  3.26530612,  3.46938776,  3.67346939,  3.87755102,\n",
       "        4.08163265,  4.28571429,  4.48979592,  4.69387755,  4.89795918,\n",
       "        5.10204082,  5.30612245,  5.51020408,  5.71428571,  5.91836735,\n",
       "        6.12244898,  6.32653061,  6.53061224,  6.73469388,  6.93877551,\n",
       "        7.14285714,  7.34693878,  7.55102041,  7.75510204,  7.95918367,\n",
       "        8.16326531,  8.36734694,  8.57142857,  8.7755102 ,  8.97959184,\n",
       "        9.18367347,  9.3877551 ,  9.59183673,  9.79591837, 10.        ])"
      ]
     },
     "execution_count": 58,
     "metadata": {},
     "output_type": "execute_result"
    }
   ],
   "source": [
    "np.linspace(0,10)"
   ]
  },
  {
   "cell_type": "code",
   "execution_count": 56,
   "id": "d7b053e5-7da6-4ddb-aabc-6991d46f07a5",
   "metadata": {},
   "outputs": [
    {
     "data": {
      "text/plain": [
       "array([ 0.        ,  0.52631579,  1.05263158,  1.57894737,  2.10526316,\n",
       "        2.63157895,  3.15789474,  3.68421053,  4.21052632,  4.73684211,\n",
       "        5.26315789,  5.78947368,  6.31578947,  6.84210526,  7.36842105,\n",
       "        7.89473684,  8.42105263,  8.94736842,  9.47368421, 10.        ])"
      ]
     },
     "execution_count": 56,
     "metadata": {},
     "output_type": "execute_result"
    }
   ],
   "source": [
    "np.linspace(0,10,20)"
   ]
  },
  {
   "cell_type": "code",
   "execution_count": 60,
   "id": "a6f714c2-e78a-479b-986c-66d174e27f2d",
   "metadata": {},
   "outputs": [
    {
     "data": {
      "text/plain": [
       "array([ 0,  0,  0,  1,  1,  1,  2,  2,  2,  3,  3,  3,  4,  4,  4,  5,  5,\n",
       "        5,  6,  6,  6,  7,  7,  7,  8,  8,  8,  9,  9, 10])"
      ]
     },
     "execution_count": 60,
     "metadata": {},
     "output_type": "execute_result"
    }
   ],
   "source": [
    "np.linspace(0,10,30, dtype= int)"
   ]
  },
  {
   "cell_type": "code",
   "execution_count": null,
   "id": "feb143b9-0c90-49dc-a154-4ec9973bf52f",
   "metadata": {},
   "outputs": [],
   "source": [
    "# 30 dan 95 e kadar aralığı olan 70 tane sayı yazdır"
   ]
  },
  {
   "cell_type": "code",
   "execution_count": 65,
   "id": "179d928c-3473-49ec-b41b-c67682e45d2f",
   "metadata": {},
   "outputs": [
    {
     "data": {
      "text/plain": [
       "array([30, 30, 31, 32, 33, 34, 35, 36, 37, 38, 39, 40, 41, 42, 43, 44, 45,\n",
       "       46, 46, 47, 48, 49, 50, 51, 52, 53, 54, 55, 56, 57, 58, 59, 60, 61,\n",
       "       62, 62, 63, 64, 65, 66, 67, 68, 69, 70, 71, 72, 73, 74, 75, 76, 77,\n",
       "       78, 78, 79, 80, 81, 82, 83, 84, 85, 86, 87, 88, 89, 90, 91, 92, 93,\n",
       "       94, 95])"
      ]
     },
     "execution_count": 65,
     "metadata": {},
     "output_type": "execute_result"
    }
   ],
   "source": [
    "np.linspace(30,95, 70, dtype= int)"
   ]
  },
  {
   "cell_type": "code",
   "execution_count": 71,
   "id": "a035e363-d11d-4bab-998a-b86bf2b26ff8",
   "metadata": {},
   "outputs": [
    {
     "name": "stdout",
     "output_type": "stream",
     "text": [
      "[30.         30.94202899 31.88405797 32.82608696 33.76811594 34.71014493\n",
      " 35.65217391 36.5942029  37.53623188 38.47826087 39.42028986 40.36231884\n",
      " 41.30434783 42.24637681 43.1884058  44.13043478 45.07246377 46.01449275\n",
      " 46.95652174 47.89855072 48.84057971 49.7826087  50.72463768 51.66666667\n",
      " 52.60869565 53.55072464 54.49275362 55.43478261 56.37681159 57.31884058\n",
      " 58.26086957 59.20289855 60.14492754 61.08695652 62.02898551 62.97101449\n",
      " 63.91304348 64.85507246 65.79710145 66.73913043 67.68115942 68.62318841\n",
      " 69.56521739 70.50724638 71.44927536 72.39130435 73.33333333 74.27536232\n",
      " 75.2173913  76.15942029 77.10144928 78.04347826 78.98550725 79.92753623\n",
      " 80.86956522 81.8115942  82.75362319 83.69565217 84.63768116 85.57971014\n",
      " 86.52173913 87.46376812 88.4057971  89.34782609 90.28985507 91.23188406\n",
      " 92.17391304 93.11594203 94.05797101 95.        ]\n"
     ]
    }
   ],
   "source": [
    "ornek_2 = np.linspace(30,95,70)\n",
    "print(ornek_2)"
   ]
  },
  {
   "cell_type": "code",
   "execution_count": null,
   "id": "14acb041-b2a1-493b-b5d0-3a58d386c1a8",
   "metadata": {},
   "outputs": [],
   "source": []
  }
 ],
 "metadata": {
  "kernelspec": {
   "display_name": "Python [conda env:base] *",
   "language": "python",
   "name": "conda-base-py"
  },
  "language_info": {
   "codemirror_mode": {
    "name": "ipython",
    "version": 3
   },
   "file_extension": ".py",
   "mimetype": "text/x-python",
   "name": "python",
   "nbconvert_exporter": "python",
   "pygments_lexer": "ipython3",
   "version": "3.12.7"
  }
 },
 "nbformat": 4,
 "nbformat_minor": 5
}
