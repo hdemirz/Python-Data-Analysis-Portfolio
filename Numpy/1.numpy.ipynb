{
 "cells": [
  {
   "cell_type": "code",
   "execution_count": 1,
   "id": "8952500f-643c-473e-98b3-bdfdb2b516e6",
   "metadata": {},
   "outputs": [],
   "source": [
    "import numpy as np"
   ]
  },
  {
   "cell_type": "code",
   "execution_count": 15,
   "id": "d8eafb56-bd15-4a9d-aa7c-00362ec38f46",
   "metadata": {},
   "outputs": [
    {
     "data": {
      "text/plain": [
       "'1.26.4'"
      ]
     },
     "execution_count": 15,
     "metadata": {},
     "output_type": "execute_result"
    }
   ],
   "source": [
    "np.__version__"
   ]
  },
  {
   "cell_type": "markdown",
   "id": "8c155875-2701-4d86-8e9e-4ae09bf5fa25",
   "metadata": {},
   "source": [
    "## Normal dizi oluşturma"
   ]
  },
  {
   "cell_type": "code",
   "execution_count": 16,
   "id": "e11654eb-cd00-4285-8e47-eac0c3fd7dc8",
   "metadata": {},
   "outputs": [
    {
     "name": "stdout",
     "output_type": "stream",
     "text": [
      "[1, 2, 3, 4, 5]\n"
     ]
    }
   ],
   "source": [
    "dizi_1 = [1,2,3,4,5]\n",
    "type(dizi_1)\n",
    "print(dizi_1)"
   ]
  },
  {
   "cell_type": "markdown",
   "id": "df45ef9b-0ce3-431a-a747-d450d3d39b45",
   "metadata": {},
   "source": [
    "## numpy dizi oluşturma"
   ]
  },
  {
   "cell_type": "code",
   "execution_count": 27,
   "id": "84d73726-f711-418f-a7de-64cfe74bb556",
   "metadata": {},
   "outputs": [
    {
     "data": {
      "text/plain": [
       "numpy.ndarray"
      ]
     },
     "execution_count": 27,
     "metadata": {},
     "output_type": "execute_result"
    }
   ],
   "source": [
    "np_dizi = np.array([0,1,2,13,4,5])\n",
    "type(np_dizi)"
   ]
  },
  {
   "cell_type": "code",
   "execution_count": 29,
   "id": "dfdc3d40-296e-4ebe-bc9c-dcf0291bf79d",
   "metadata": {},
   "outputs": [
    {
     "data": {
      "text/plain": [
       "13"
      ]
     },
     "execution_count": 29,
     "metadata": {},
     "output_type": "execute_result"
    }
   ],
   "source": [
    "np_dizi[3]"
   ]
  },
  {
   "cell_type": "code",
   "execution_count": 19,
   "id": "4a4e37ff-892e-48e9-9313-7a4e6239563c",
   "metadata": {},
   "outputs": [
    {
     "data": {
      "text/plain": [
       "4"
      ]
     },
     "execution_count": 19,
     "metadata": {},
     "output_type": "execute_result"
    }
   ],
   "source": [
    "np_dizi[-2] #sondan 2.yi getir demek"
   ]
  },
  {
   "cell_type": "code",
   "execution_count": null,
   "id": "a465b347-dd1a-4766-bb85-20ecbe6a9b7e",
   "metadata": {},
   "outputs": [
    {
     "data": {
      "text/plain": [
       "array([0, 1])"
      ]
     },
     "execution_count": 20,
     "metadata": {},
     "output_type": "execute_result"
    }
   ],
   "source": [
    "np_dizi[:2]"
   ]
  },
  {
   "cell_type": "code",
   "execution_count": 21,
   "id": "f0984732-2f35-4de2-9611-b521d8466df1",
   "metadata": {},
   "outputs": [
    {
     "data": {
      "text/plain": [
       "array([ 2, 13,  4,  5])"
      ]
     },
     "execution_count": 21,
     "metadata": {},
     "output_type": "execute_result"
    }
   ],
   "source": [
    "np_dizi[2:]"
   ]
  },
  {
   "cell_type": "code",
   "execution_count": 22,
   "id": "c90df32e-b38f-4091-adf1-f41170375624",
   "metadata": {},
   "outputs": [
    {
     "data": {
      "text/plain": [
       "array([ 1,  2, 13])"
      ]
     },
     "execution_count": 22,
     "metadata": {},
     "output_type": "execute_result"
    }
   ],
   "source": [
    "np_dizi[1:4]"
   ]
  },
  {
   "cell_type": "code",
   "execution_count": 23,
   "id": "9a270a81-d46b-4b55-b8c7-4a0005134fd0",
   "metadata": {},
   "outputs": [],
   "source": [
    "np_dizi[:3] = 100"
   ]
  },
  {
   "cell_type": "code",
   "execution_count": 24,
   "id": "a49ba5f8-22a4-4873-b137-6a47ef3a4e96",
   "metadata": {},
   "outputs": [
    {
     "name": "stdout",
     "output_type": "stream",
     "text": [
      "[100 100 100  13   4   5]\n"
     ]
    }
   ],
   "source": [
    "print(np_dizi)"
   ]
  },
  {
   "cell_type": "code",
   "execution_count": 25,
   "id": "6ebdb1b6-d78c-41cc-974e-42219aa30eb4",
   "metadata": {},
   "outputs": [],
   "source": [
    "np_dizi_2 = np_dizi *10"
   ]
  },
  {
   "cell_type": "code",
   "execution_count": 26,
   "id": "59c1c131-fde0-4e98-ba14-0c6a3e7c2737",
   "metadata": {},
   "outputs": [
    {
     "data": {
      "text/plain": [
       "array([1000, 1000, 1000,  130,   40,   50])"
      ]
     },
     "execution_count": 26,
     "metadata": {},
     "output_type": "execute_result"
    }
   ],
   "source": [
    "np_dizi_2"
   ]
  },
  {
   "cell_type": "code",
   "execution_count": null,
   "id": "44054e5c-4aad-488f-87e1-8019c487be2c",
   "metadata": {},
   "outputs": [],
   "source": []
  }
 ],
 "metadata": {
  "kernelspec": {
   "display_name": "base",
   "language": "python",
   "name": "python3"
  },
  "language_info": {
   "codemirror_mode": {
    "name": "ipython",
    "version": 3
   },
   "file_extension": ".py",
   "mimetype": "text/x-python",
   "name": "python",
   "nbconvert_exporter": "python",
   "pygments_lexer": "ipython3",
   "version": "3.12.7"
  }
 },
 "nbformat": 4,
 "nbformat_minor": 5
}
