{
 "cells": [
  {
   "cell_type": "code",
   "execution_count": 1,
   "id": "2ab238ee-ce75-4136-9c26-3fc042b965ba",
   "metadata": {},
   "outputs": [],
   "source": [
    "import numpy as np"
   ]
  },
  {
   "cell_type": "code",
   "execution_count": 5,
   "id": "b6034438-5711-4b31-bd55-93fe0b834116",
   "metadata": {},
   "outputs": [
    {
     "data": {
      "text/plain": [
       "array([[1, 2, 3],\n",
       "       [4, 5, 6],\n",
       "       [7, 8, 9]])"
      ]
     },
     "execution_count": 5,
     "metadata": {},
     "output_type": "execute_result"
    }
   ],
   "source": [
    "matris = np.array([[1,2,3,],[4,5,6],[7,8,9]])\n",
    "matris"
   ]
  },
  {
   "cell_type": "markdown",
   "id": "990d141a-4be1-4837-bd76-363e69f21dcd",
   "metadata": {},
   "source": [
    "## Matrisin temel özellikleri"
   ]
  },
  {
   "cell_type": "code",
   "execution_count": 10,
   "id": "ee87d245-1c7d-4f90-8100-d7432ca7de52",
   "metadata": {},
   "outputs": [
    {
     "name": "stdout",
     "output_type": "stream",
     "text": [
      "boyut sayısı:2 \n"
     ]
    }
   ],
   "source": [
    "print(f\"boyut sayısı:{matris.ndim} \")"
   ]
  },
  {
   "cell_type": "code",
   "execution_count": 26,
   "id": "e8dd51b2-5565-4792-981d-398a00f0addd",
   "metadata": {},
   "outputs": [
    {
     "name": "stdout",
     "output_type": "stream",
     "text": [
      "8\n",
      "3\n"
     ]
    }
   ],
   "source": [
    "print(matris[2,1])\n",
    "print(matris[0,2])"
   ]
  },
  {
   "cell_type": "code",
   "execution_count": 28,
   "id": "af85e672-6475-4f15-8a01-195833db1d0f",
   "metadata": {},
   "outputs": [],
   "source": [
    "matris[1,1]= 500"
   ]
  },
  {
   "cell_type": "code",
   "execution_count": 30,
   "id": "eebb26ed-3f1a-43ed-b2a0-2061ecd1d317",
   "metadata": {},
   "outputs": [
    {
     "data": {
      "text/plain": [
       "array([[  1,   2,   3],\n",
       "       [  4, 500,   6],\n",
       "       [  7,   8,   9]])"
      ]
     },
     "execution_count": 30,
     "metadata": {},
     "output_type": "execute_result"
    }
   ],
   "source": [
    "matris"
   ]
  },
  {
   "cell_type": "markdown",
   "id": "19e2017c-9291-4d79-90e7-9542f7dd7a5b",
   "metadata": {},
   "source": [
    "# Transpoz"
   ]
  },
  {
   "cell_type": "code",
   "execution_count": 35,
   "id": "da46b745-abee-4c47-a4d9-11cdb27724b9",
   "metadata": {},
   "outputs": [
    {
     "data": {
      "text/plain": [
       "array([[  1,   2,   3],\n",
       "       [  4, 500,   6],\n",
       "       [  7,   8,   9]])"
      ]
     },
     "execution_count": 35,
     "metadata": {},
     "output_type": "execute_result"
    }
   ],
   "source": [
    "matris"
   ]
  },
  {
   "cell_type": "code",
   "execution_count": 39,
   "id": "c2303b42-3339-4885-b955-335fc7035bee",
   "metadata": {},
   "outputs": [],
   "source": [
    "matris_tr = matris.T"
   ]
  },
  {
   "cell_type": "code",
   "execution_count": 41,
   "id": "d8d9f67f-dfa5-49be-9e4c-07e207c433d2",
   "metadata": {},
   "outputs": [
    {
     "data": {
      "text/plain": [
       "array([[  1,   4,   7],\n",
       "       [  2, 500,   8],\n",
       "       [  3,   6,   9]])"
      ]
     },
     "execution_count": 41,
     "metadata": {},
     "output_type": "execute_result"
    }
   ],
   "source": [
    "matris_tr"
   ]
  }
 ],
 "metadata": {
  "kernelspec": {
   "display_name": "Python [conda env:base] *",
   "language": "python",
   "name": "conda-base-py"
  },
  "language_info": {
   "codemirror_mode": {
    "name": "ipython",
    "version": 3
   },
   "file_extension": ".py",
   "mimetype": "text/x-python",
   "name": "python",
   "nbconvert_exporter": "python",
   "pygments_lexer": "ipython3",
   "version": "3.12.7"
  }
 },
 "nbformat": 4,
 "nbformat_minor": 5
}
