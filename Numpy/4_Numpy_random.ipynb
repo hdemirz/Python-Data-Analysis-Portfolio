{
 "cells": [
  {
   "cell_type": "code",
   "execution_count": 1,
   "id": "228d9a79-041d-4a6e-baa4-eba644880b3c",
   "metadata": {},
   "outputs": [],
   "source": [
    "import numpy as np"
   ]
  },
  {
   "cell_type": "markdown",
   "id": "cdcfdbf2-60e6-47b6-9767-3a23e667b0cc",
   "metadata": {},
   "source": [
    "# np.random.rand"
   ]
  },
  {
   "cell_type": "code",
   "execution_count": 13,
   "id": "dc3d7658-18fe-453c-b33f-1a1bc6a2c06e",
   "metadata": {},
   "outputs": [
    {
     "data": {
      "text/plain": [
       "25"
      ]
     },
     "execution_count": 13,
     "metadata": {},
     "output_type": "execute_result"
    }
   ],
   "source": [
    "np.random.randn(5,5).size"
   ]
  },
  {
   "cell_type": "code",
   "execution_count": 15,
   "id": "05395073-150a-483b-a1fe-3544d9a211aa",
   "metadata": {},
   "outputs": [
    {
     "data": {
      "text/plain": [
       "array([[-0.09248921, -0.7458729 , -0.81826292,  0.37364276,  1.05670122],\n",
       "       [-0.35998133,  0.88691862, -0.86390166, -1.25181384,  2.02012119],\n",
       "       [-0.92980906,  1.22892929, -0.41605532,  0.65022196,  2.24247746],\n",
       "       [-1.65074039, -1.53433532, -0.33011511, -2.4193694 , -1.55302062],\n",
       "       [ 0.88854073, -0.84033806, -1.36353458,  1.77760961, -0.30015869]])"
      ]
     },
     "execution_count": 15,
     "metadata": {},
     "output_type": "execute_result"
    }
   ],
   "source": [
    "np.random.randn(5,5)"
   ]
  },
  {
   "cell_type": "code",
   "execution_count": 17,
   "id": "44a1b3c7-080e-4f9b-9667-4b9cb338acad",
   "metadata": {},
   "outputs": [
    {
     "data": {
      "text/plain": [
       "array([ 0.14408405, -0.51654779, -0.9448262 ,  1.22838452, -1.59957383])"
      ]
     },
     "execution_count": 17,
     "metadata": {},
     "output_type": "execute_result"
    }
   ],
   "source": [
    "np.random.randn(5)"
   ]
  },
  {
   "cell_type": "markdown",
   "id": "c8324ce8-1458-4aef-a2c5-41218ab3b864",
   "metadata": {},
   "source": [
    "# np.random.randint"
   ]
  },
  {
   "cell_type": "code",
   "execution_count": 24,
   "id": "8607fd38-add3-418c-84fd-a5e3f483b2d5",
   "metadata": {},
   "outputs": [],
   "source": [
    "# np.random.randint(başla,bitir,aralık)"
   ]
  },
  {
   "cell_type": "code",
   "execution_count": 26,
   "id": "26191bef-f739-4ad3-a5e5-f61491dcf0c1",
   "metadata": {},
   "outputs": [
    {
     "data": {
      "text/plain": [
       "4"
      ]
     },
     "execution_count": 26,
     "metadata": {},
     "output_type": "execute_result"
    }
   ],
   "source": [
    " np.random.randint(10)"
   ]
  },
  {
   "cell_type": "code",
   "execution_count": 34,
   "id": "74dd2933-c480-4315-91e9-cecdd0d3d0ac",
   "metadata": {},
   "outputs": [
    {
     "data": {
      "text/plain": [
       "array([19, 12, 10, 14, 11, 17, 13, 16, 19, 16, 11, 18, 16, 11, 14, 19, 16,\n",
       "       14, 19, 15, 13, 16, 15, 19, 15])"
      ]
     },
     "execution_count": 34,
     "metadata": {},
     "output_type": "execute_result"
    }
   ],
   "source": [
    "np.random.randint(10,20,25)"
   ]
  },
  {
   "cell_type": "markdown",
   "id": "3bf397f7-af4a-4f5f-a8d9-d82a406d4409",
   "metadata": {},
   "source": [
    "# np.random.choice"
   ]
  },
  {
   "cell_type": "code",
   "execution_count": 39,
   "id": "f6de075c-e3ae-44c2-957d-dae7ce600a1d",
   "metadata": {},
   "outputs": [],
   "source": [
    "random_dizi = np.random.randint(1,100,10)"
   ]
  },
  {
   "cell_type": "code",
   "execution_count": 41,
   "id": "00286e3a-cf79-4ae7-9383-0448086045d1",
   "metadata": {},
   "outputs": [
    {
     "data": {
      "text/plain": [
       "array([59, 15,  7, 64, 66, 19, 86, 64, 37, 93])"
      ]
     },
     "execution_count": 41,
     "metadata": {},
     "output_type": "execute_result"
    }
   ],
   "source": [
    "random_dizi"
   ]
  },
  {
   "cell_type": "code",
   "execution_count": 43,
   "id": "74902fb8-6b35-4157-9526-2b4900b55981",
   "metadata": {},
   "outputs": [
    {
     "data": {
      "text/plain": [
       "array([19, 59, 19, 64, 86, 37, 15, 19, 19, 15])"
      ]
     },
     "execution_count": 43,
     "metadata": {},
     "output_type": "execute_result"
    }
   ],
   "source": [
    "np.random.choice(random_dizi, size=10)"
   ]
  },
  {
   "cell_type": "code",
   "execution_count": null,
   "id": "5626a864-9c9f-4c47-87b5-63e9d7a91e18",
   "metadata": {},
   "outputs": [],
   "source": []
  }
 ],
 "metadata": {
  "kernelspec": {
   "display_name": "Python [conda env:base] *",
   "language": "python",
   "name": "conda-base-py"
  },
  "language_info": {
   "codemirror_mode": {
    "name": "ipython",
    "version": 3
   },
   "file_extension": ".py",
   "mimetype": "text/x-python",
   "name": "python",
   "nbconvert_exporter": "python",
   "pygments_lexer": "ipython3",
   "version": "3.12.7"
  }
 },
 "nbformat": 4,
 "nbformat_minor": 5
}
